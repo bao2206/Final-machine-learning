{
  "nbformat": 4,
  "nbformat_minor": 0,
  "metadata": {
    "colab": {
      "provenance": []
    },
    "kernelspec": {
      "name": "python3",
      "display_name": "Python 3"
    },
    "language_info": {
      "name": "python"
    }
  },
  "cells": [
    {
      "cell_type": "markdown",
      "source": [
        "Thêm các thư viện cần thiết cho bài toán\n"
      ],
      "metadata": {
        "id": "dKzm_D_s2rNm"
      }
    },
    {
      "cell_type": "code",
      "execution_count": null,
      "metadata": {
        "id": "7xT8IppUH5S2"
      },
      "outputs": [],
      "source": [
        "#import libraries\n",
        "import numpy as np\n",
        "import pandas as pd\n",
        "from sklearn.model_selection import train_test_split\n",
        "from sklearn.preprocessing import StandardScaler\n",
        "import matplotlib.pyplot as plt\n",
        "from sklearn import svm\n",
        "from sklearn.metrics import accuracy_score\n",
        "from sklearn.metrics import classification_report\n",
        "import random as rd\n",
        "from sklearn.metrics import mean_squared_error, r2_score"
      ]
    },
    {
      "cell_type": "markdown",
      "source": [
        "Phân tích thống kê trên dữ liệu"
      ],
      "metadata": {
        "id": "u8l6VO2vxKa6"
      }
    },
    {
      "cell_type": "code",
      "source": [
        "# load the data\n",
        "parkinsons_data = pd.read_csv('parkinsons.data')"
      ],
      "metadata": {
        "id": "5q8wlKRELz1n"
      },
      "execution_count": null,
      "outputs": []
    },
    {
      "cell_type": "code",
      "source": [
        "parkinsons_data.head()"
      ],
      "metadata": {
        "id": "mG1c6rOTMDEn",
        "colab": {
          "base_uri": "https://localhost:8080/",
          "height": 255
        },
        "outputId": "632bf974-c875-4fc2-d524-04e50ca9472a"
      },
      "execution_count": null,
      "outputs": [
        {
          "output_type": "execute_result",
          "data": {
            "text/plain": [
              "             name  MDVP:Fo(Hz)  MDVP:Fhi(Hz)  MDVP:Flo(Hz)  MDVP:Jitter(%)  \\\n",
              "0  phon_R01_S01_1      119.992       157.302        74.997         0.00784   \n",
              "1  phon_R01_S01_2      122.400       148.650       113.819         0.00968   \n",
              "2  phon_R01_S01_3      116.682       131.111       111.555         0.01050   \n",
              "3  phon_R01_S01_4      116.676       137.871       111.366         0.00997   \n",
              "4  phon_R01_S01_5      116.014       141.781       110.655         0.01284   \n",
              "\n",
              "   MDVP:Jitter(Abs)  MDVP:RAP  MDVP:PPQ  Jitter:DDP  MDVP:Shimmer  ...  \\\n",
              "0           0.00007   0.00370   0.00554     0.01109       0.04374  ...   \n",
              "1           0.00008   0.00465   0.00696     0.01394       0.06134  ...   \n",
              "2           0.00009   0.00544   0.00781     0.01633       0.05233  ...   \n",
              "3           0.00009   0.00502   0.00698     0.01505       0.05492  ...   \n",
              "4           0.00011   0.00655   0.00908     0.01966       0.06425  ...   \n",
              "\n",
              "   Shimmer:DDA      NHR     HNR  status      RPDE       DFA   spread1  \\\n",
              "0      0.06545  0.02211  21.033       1  0.414783  0.815285 -4.813031   \n",
              "1      0.09403  0.01929  19.085       1  0.458359  0.819521 -4.075192   \n",
              "2      0.08270  0.01309  20.651       1  0.429895  0.825288 -4.443179   \n",
              "3      0.08771  0.01353  20.644       1  0.434969  0.819235 -4.117501   \n",
              "4      0.10470  0.01767  19.649       1  0.417356  0.823484 -3.747787   \n",
              "\n",
              "    spread2        D2       PPE  \n",
              "0  0.266482  2.301442  0.284654  \n",
              "1  0.335590  2.486855  0.368674  \n",
              "2  0.311173  2.342259  0.332634  \n",
              "3  0.334147  2.405554  0.368975  \n",
              "4  0.234513  2.332180  0.410335  \n",
              "\n",
              "[5 rows x 24 columns]"
            ],
            "text/html": [
              "\n",
              "  <div id=\"df-1f6810c8-d292-4a47-8987-4354cbe61c8c\" class=\"colab-df-container\">\n",
              "    <div>\n",
              "<style scoped>\n",
              "    .dataframe tbody tr th:only-of-type {\n",
              "        vertical-align: middle;\n",
              "    }\n",
              "\n",
              "    .dataframe tbody tr th {\n",
              "        vertical-align: top;\n",
              "    }\n",
              "\n",
              "    .dataframe thead th {\n",
              "        text-align: right;\n",
              "    }\n",
              "</style>\n",
              "<table border=\"1\" class=\"dataframe\">\n",
              "  <thead>\n",
              "    <tr style=\"text-align: right;\">\n",
              "      <th></th>\n",
              "      <th>name</th>\n",
              "      <th>MDVP:Fo(Hz)</th>\n",
              "      <th>MDVP:Fhi(Hz)</th>\n",
              "      <th>MDVP:Flo(Hz)</th>\n",
              "      <th>MDVP:Jitter(%)</th>\n",
              "      <th>MDVP:Jitter(Abs)</th>\n",
              "      <th>MDVP:RAP</th>\n",
              "      <th>MDVP:PPQ</th>\n",
              "      <th>Jitter:DDP</th>\n",
              "      <th>MDVP:Shimmer</th>\n",
              "      <th>...</th>\n",
              "      <th>Shimmer:DDA</th>\n",
              "      <th>NHR</th>\n",
              "      <th>HNR</th>\n",
              "      <th>status</th>\n",
              "      <th>RPDE</th>\n",
              "      <th>DFA</th>\n",
              "      <th>spread1</th>\n",
              "      <th>spread2</th>\n",
              "      <th>D2</th>\n",
              "      <th>PPE</th>\n",
              "    </tr>\n",
              "  </thead>\n",
              "  <tbody>\n",
              "    <tr>\n",
              "      <th>0</th>\n",
              "      <td>phon_R01_S01_1</td>\n",
              "      <td>119.992</td>\n",
              "      <td>157.302</td>\n",
              "      <td>74.997</td>\n",
              "      <td>0.00784</td>\n",
              "      <td>0.00007</td>\n",
              "      <td>0.00370</td>\n",
              "      <td>0.00554</td>\n",
              "      <td>0.01109</td>\n",
              "      <td>0.04374</td>\n",
              "      <td>...</td>\n",
              "      <td>0.06545</td>\n",
              "      <td>0.02211</td>\n",
              "      <td>21.033</td>\n",
              "      <td>1</td>\n",
              "      <td>0.414783</td>\n",
              "      <td>0.815285</td>\n",
              "      <td>-4.813031</td>\n",
              "      <td>0.266482</td>\n",
              "      <td>2.301442</td>\n",
              "      <td>0.284654</td>\n",
              "    </tr>\n",
              "    <tr>\n",
              "      <th>1</th>\n",
              "      <td>phon_R01_S01_2</td>\n",
              "      <td>122.400</td>\n",
              "      <td>148.650</td>\n",
              "      <td>113.819</td>\n",
              "      <td>0.00968</td>\n",
              "      <td>0.00008</td>\n",
              "      <td>0.00465</td>\n",
              "      <td>0.00696</td>\n",
              "      <td>0.01394</td>\n",
              "      <td>0.06134</td>\n",
              "      <td>...</td>\n",
              "      <td>0.09403</td>\n",
              "      <td>0.01929</td>\n",
              "      <td>19.085</td>\n",
              "      <td>1</td>\n",
              "      <td>0.458359</td>\n",
              "      <td>0.819521</td>\n",
              "      <td>-4.075192</td>\n",
              "      <td>0.335590</td>\n",
              "      <td>2.486855</td>\n",
              "      <td>0.368674</td>\n",
              "    </tr>\n",
              "    <tr>\n",
              "      <th>2</th>\n",
              "      <td>phon_R01_S01_3</td>\n",
              "      <td>116.682</td>\n",
              "      <td>131.111</td>\n",
              "      <td>111.555</td>\n",
              "      <td>0.01050</td>\n",
              "      <td>0.00009</td>\n",
              "      <td>0.00544</td>\n",
              "      <td>0.00781</td>\n",
              "      <td>0.01633</td>\n",
              "      <td>0.05233</td>\n",
              "      <td>...</td>\n",
              "      <td>0.08270</td>\n",
              "      <td>0.01309</td>\n",
              "      <td>20.651</td>\n",
              "      <td>1</td>\n",
              "      <td>0.429895</td>\n",
              "      <td>0.825288</td>\n",
              "      <td>-4.443179</td>\n",
              "      <td>0.311173</td>\n",
              "      <td>2.342259</td>\n",
              "      <td>0.332634</td>\n",
              "    </tr>\n",
              "    <tr>\n",
              "      <th>3</th>\n",
              "      <td>phon_R01_S01_4</td>\n",
              "      <td>116.676</td>\n",
              "      <td>137.871</td>\n",
              "      <td>111.366</td>\n",
              "      <td>0.00997</td>\n",
              "      <td>0.00009</td>\n",
              "      <td>0.00502</td>\n",
              "      <td>0.00698</td>\n",
              "      <td>0.01505</td>\n",
              "      <td>0.05492</td>\n",
              "      <td>...</td>\n",
              "      <td>0.08771</td>\n",
              "      <td>0.01353</td>\n",
              "      <td>20.644</td>\n",
              "      <td>1</td>\n",
              "      <td>0.434969</td>\n",
              "      <td>0.819235</td>\n",
              "      <td>-4.117501</td>\n",
              "      <td>0.334147</td>\n",
              "      <td>2.405554</td>\n",
              "      <td>0.368975</td>\n",
              "    </tr>\n",
              "    <tr>\n",
              "      <th>4</th>\n",
              "      <td>phon_R01_S01_5</td>\n",
              "      <td>116.014</td>\n",
              "      <td>141.781</td>\n",
              "      <td>110.655</td>\n",
              "      <td>0.01284</td>\n",
              "      <td>0.00011</td>\n",
              "      <td>0.00655</td>\n",
              "      <td>0.00908</td>\n",
              "      <td>0.01966</td>\n",
              "      <td>0.06425</td>\n",
              "      <td>...</td>\n",
              "      <td>0.10470</td>\n",
              "      <td>0.01767</td>\n",
              "      <td>19.649</td>\n",
              "      <td>1</td>\n",
              "      <td>0.417356</td>\n",
              "      <td>0.823484</td>\n",
              "      <td>-3.747787</td>\n",
              "      <td>0.234513</td>\n",
              "      <td>2.332180</td>\n",
              "      <td>0.410335</td>\n",
              "    </tr>\n",
              "  </tbody>\n",
              "</table>\n",
              "<p>5 rows × 24 columns</p>\n",
              "</div>\n",
              "    <div class=\"colab-df-buttons\">\n",
              "\n",
              "  <div class=\"colab-df-container\">\n",
              "    <button class=\"colab-df-convert\" onclick=\"convertToInteractive('df-1f6810c8-d292-4a47-8987-4354cbe61c8c')\"\n",
              "            title=\"Convert this dataframe to an interactive table.\"\n",
              "            style=\"display:none;\">\n",
              "\n",
              "  <svg xmlns=\"http://www.w3.org/2000/svg\" height=\"24px\" viewBox=\"0 -960 960 960\">\n",
              "    <path d=\"M120-120v-720h720v720H120Zm60-500h600v-160H180v160Zm220 220h160v-160H400v160Zm0 220h160v-160H400v160ZM180-400h160v-160H180v160Zm440 0h160v-160H620v160ZM180-180h160v-160H180v160Zm440 0h160v-160H620v160Z\"/>\n",
              "  </svg>\n",
              "    </button>\n",
              "\n",
              "  <style>\n",
              "    .colab-df-container {\n",
              "      display:flex;\n",
              "      gap: 12px;\n",
              "    }\n",
              "\n",
              "    .colab-df-convert {\n",
              "      background-color: #E8F0FE;\n",
              "      border: none;\n",
              "      border-radius: 50%;\n",
              "      cursor: pointer;\n",
              "      display: none;\n",
              "      fill: #1967D2;\n",
              "      height: 32px;\n",
              "      padding: 0 0 0 0;\n",
              "      width: 32px;\n",
              "    }\n",
              "\n",
              "    .colab-df-convert:hover {\n",
              "      background-color: #E2EBFA;\n",
              "      box-shadow: 0px 1px 2px rgba(60, 64, 67, 0.3), 0px 1px 3px 1px rgba(60, 64, 67, 0.15);\n",
              "      fill: #174EA6;\n",
              "    }\n",
              "\n",
              "    .colab-df-buttons div {\n",
              "      margin-bottom: 4px;\n",
              "    }\n",
              "\n",
              "    [theme=dark] .colab-df-convert {\n",
              "      background-color: #3B4455;\n",
              "      fill: #D2E3FC;\n",
              "    }\n",
              "\n",
              "    [theme=dark] .colab-df-convert:hover {\n",
              "      background-color: #434B5C;\n",
              "      box-shadow: 0px 1px 3px 1px rgba(0, 0, 0, 0.15);\n",
              "      filter: drop-shadow(0px 1px 2px rgba(0, 0, 0, 0.3));\n",
              "      fill: #FFFFFF;\n",
              "    }\n",
              "  </style>\n",
              "\n",
              "    <script>\n",
              "      const buttonEl =\n",
              "        document.querySelector('#df-1f6810c8-d292-4a47-8987-4354cbe61c8c button.colab-df-convert');\n",
              "      buttonEl.style.display =\n",
              "        google.colab.kernel.accessAllowed ? 'block' : 'none';\n",
              "\n",
              "      async function convertToInteractive(key) {\n",
              "        const element = document.querySelector('#df-1f6810c8-d292-4a47-8987-4354cbe61c8c');\n",
              "        const dataTable =\n",
              "          await google.colab.kernel.invokeFunction('convertToInteractive',\n",
              "                                                    [key], {});\n",
              "        if (!dataTable) return;\n",
              "\n",
              "        const docLinkHtml = 'Like what you see? Visit the ' +\n",
              "          '<a target=\"_blank\" href=https://colab.research.google.com/notebooks/data_table.ipynb>data table notebook</a>'\n",
              "          + ' to learn more about interactive tables.';\n",
              "        element.innerHTML = '';\n",
              "        dataTable['output_type'] = 'display_data';\n",
              "        await google.colab.output.renderOutput(dataTable, element);\n",
              "        const docLink = document.createElement('div');\n",
              "        docLink.innerHTML = docLinkHtml;\n",
              "        element.appendChild(docLink);\n",
              "      }\n",
              "    </script>\n",
              "  </div>\n",
              "\n",
              "\n",
              "<div id=\"df-2928a05c-ca25-465a-a974-f2e16fb5fd18\">\n",
              "  <button class=\"colab-df-quickchart\" onclick=\"quickchart('df-2928a05c-ca25-465a-a974-f2e16fb5fd18')\"\n",
              "            title=\"Suggest charts\"\n",
              "            style=\"display:none;\">\n",
              "\n",
              "<svg xmlns=\"http://www.w3.org/2000/svg\" height=\"24px\"viewBox=\"0 0 24 24\"\n",
              "     width=\"24px\">\n",
              "    <g>\n",
              "        <path d=\"M19 3H5c-1.1 0-2 .9-2 2v14c0 1.1.9 2 2 2h14c1.1 0 2-.9 2-2V5c0-1.1-.9-2-2-2zM9 17H7v-7h2v7zm4 0h-2V7h2v10zm4 0h-2v-4h2v4z\"/>\n",
              "    </g>\n",
              "</svg>\n",
              "  </button>\n",
              "\n",
              "<style>\n",
              "  .colab-df-quickchart {\n",
              "      --bg-color: #E8F0FE;\n",
              "      --fill-color: #1967D2;\n",
              "      --hover-bg-color: #E2EBFA;\n",
              "      --hover-fill-color: #174EA6;\n",
              "      --disabled-fill-color: #AAA;\n",
              "      --disabled-bg-color: #DDD;\n",
              "  }\n",
              "\n",
              "  [theme=dark] .colab-df-quickchart {\n",
              "      --bg-color: #3B4455;\n",
              "      --fill-color: #D2E3FC;\n",
              "      --hover-bg-color: #434B5C;\n",
              "      --hover-fill-color: #FFFFFF;\n",
              "      --disabled-bg-color: #3B4455;\n",
              "      --disabled-fill-color: #666;\n",
              "  }\n",
              "\n",
              "  .colab-df-quickchart {\n",
              "    background-color: var(--bg-color);\n",
              "    border: none;\n",
              "    border-radius: 50%;\n",
              "    cursor: pointer;\n",
              "    display: none;\n",
              "    fill: var(--fill-color);\n",
              "    height: 32px;\n",
              "    padding: 0;\n",
              "    width: 32px;\n",
              "  }\n",
              "\n",
              "  .colab-df-quickchart:hover {\n",
              "    background-color: var(--hover-bg-color);\n",
              "    box-shadow: 0 1px 2px rgba(60, 64, 67, 0.3), 0 1px 3px 1px rgba(60, 64, 67, 0.15);\n",
              "    fill: var(--button-hover-fill-color);\n",
              "  }\n",
              "\n",
              "  .colab-df-quickchart-complete:disabled,\n",
              "  .colab-df-quickchart-complete:disabled:hover {\n",
              "    background-color: var(--disabled-bg-color);\n",
              "    fill: var(--disabled-fill-color);\n",
              "    box-shadow: none;\n",
              "  }\n",
              "\n",
              "  .colab-df-spinner {\n",
              "    border: 2px solid var(--fill-color);\n",
              "    border-color: transparent;\n",
              "    border-bottom-color: var(--fill-color);\n",
              "    animation:\n",
              "      spin 1s steps(1) infinite;\n",
              "  }\n",
              "\n",
              "  @keyframes spin {\n",
              "    0% {\n",
              "      border-color: transparent;\n",
              "      border-bottom-color: var(--fill-color);\n",
              "      border-left-color: var(--fill-color);\n",
              "    }\n",
              "    20% {\n",
              "      border-color: transparent;\n",
              "      border-left-color: var(--fill-color);\n",
              "      border-top-color: var(--fill-color);\n",
              "    }\n",
              "    30% {\n",
              "      border-color: transparent;\n",
              "      border-left-color: var(--fill-color);\n",
              "      border-top-color: var(--fill-color);\n",
              "      border-right-color: var(--fill-color);\n",
              "    }\n",
              "    40% {\n",
              "      border-color: transparent;\n",
              "      border-right-color: var(--fill-color);\n",
              "      border-top-color: var(--fill-color);\n",
              "    }\n",
              "    60% {\n",
              "      border-color: transparent;\n",
              "      border-right-color: var(--fill-color);\n",
              "    }\n",
              "    80% {\n",
              "      border-color: transparent;\n",
              "      border-right-color: var(--fill-color);\n",
              "      border-bottom-color: var(--fill-color);\n",
              "    }\n",
              "    90% {\n",
              "      border-color: transparent;\n",
              "      border-bottom-color: var(--fill-color);\n",
              "    }\n",
              "  }\n",
              "</style>\n",
              "\n",
              "  <script>\n",
              "    async function quickchart(key) {\n",
              "      const quickchartButtonEl =\n",
              "        document.querySelector('#' + key + ' button');\n",
              "      quickchartButtonEl.disabled = true;  // To prevent multiple clicks.\n",
              "      quickchartButtonEl.classList.add('colab-df-spinner');\n",
              "      try {\n",
              "        const charts = await google.colab.kernel.invokeFunction(\n",
              "            'suggestCharts', [key], {});\n",
              "      } catch (error) {\n",
              "        console.error('Error during call to suggestCharts:', error);\n",
              "      }\n",
              "      quickchartButtonEl.classList.remove('colab-df-spinner');\n",
              "      quickchartButtonEl.classList.add('colab-df-quickchart-complete');\n",
              "    }\n",
              "    (() => {\n",
              "      let quickchartButtonEl =\n",
              "        document.querySelector('#df-2928a05c-ca25-465a-a974-f2e16fb5fd18 button');\n",
              "      quickchartButtonEl.style.display =\n",
              "        google.colab.kernel.accessAllowed ? 'block' : 'none';\n",
              "    })();\n",
              "  </script>\n",
              "</div>\n",
              "    </div>\n",
              "  </div>\n"
            ]
          },
          "metadata": {},
          "execution_count": 3
        }
      ]
    },
    {
      "cell_type": "code",
      "source": [
        "#check col and row\n",
        "parkinsons_data.shape"
      ],
      "metadata": {
        "id": "o3sv_rLNMHqx",
        "colab": {
          "base_uri": "https://localhost:8080/"
        },
        "outputId": "15004f70-8d0c-4b74-a4f4-cd6678f87ac3"
      },
      "execution_count": null,
      "outputs": [
        {
          "output_type": "execute_result",
          "data": {
            "text/plain": [
              "(195, 24)"
            ]
          },
          "metadata": {},
          "execution_count": 4
        }
      ]
    },
    {
      "cell_type": "code",
      "source": [
        "# getting information\n",
        "parkinsons_data.info()"
      ],
      "metadata": {
        "id": "ryhrfm3QMJ0Y",
        "colab": {
          "base_uri": "https://localhost:8080/"
        },
        "outputId": "be7f0ffb-0249-45e0-e239-1032c7eb0906"
      },
      "execution_count": null,
      "outputs": [
        {
          "output_type": "stream",
          "name": "stdout",
          "text": [
            "<class 'pandas.core.frame.DataFrame'>\n",
            "RangeIndex: 195 entries, 0 to 194\n",
            "Data columns (total 24 columns):\n",
            " #   Column            Non-Null Count  Dtype  \n",
            "---  ------            --------------  -----  \n",
            " 0   name              195 non-null    object \n",
            " 1   MDVP:Fo(Hz)       195 non-null    float64\n",
            " 2   MDVP:Fhi(Hz)      195 non-null    float64\n",
            " 3   MDVP:Flo(Hz)      195 non-null    float64\n",
            " 4   MDVP:Jitter(%)    195 non-null    float64\n",
            " 5   MDVP:Jitter(Abs)  195 non-null    float64\n",
            " 6   MDVP:RAP          195 non-null    float64\n",
            " 7   MDVP:PPQ          195 non-null    float64\n",
            " 8   Jitter:DDP        195 non-null    float64\n",
            " 9   MDVP:Shimmer      195 non-null    float64\n",
            " 10  MDVP:Shimmer(dB)  195 non-null    float64\n",
            " 11  Shimmer:APQ3      195 non-null    float64\n",
            " 12  Shimmer:APQ5      195 non-null    float64\n",
            " 13  MDVP:APQ          195 non-null    float64\n",
            " 14  Shimmer:DDA       195 non-null    float64\n",
            " 15  NHR               195 non-null    float64\n",
            " 16  HNR               195 non-null    float64\n",
            " 17  status            195 non-null    int64  \n",
            " 18  RPDE              195 non-null    float64\n",
            " 19  DFA               195 non-null    float64\n",
            " 20  spread1           195 non-null    float64\n",
            " 21  spread2           195 non-null    float64\n",
            " 22  D2                195 non-null    float64\n",
            " 23  PPE               195 non-null    float64\n",
            "dtypes: float64(22), int64(1), object(1)\n",
            "memory usage: 36.7+ KB\n"
          ]
        }
      ]
    },
    {
      "cell_type": "code",
      "source": [
        "# checking for missing values\n",
        "parkinsons_data.isnull().sum()"
      ],
      "metadata": {
        "id": "7zo4nmeKMNO3",
        "colab": {
          "base_uri": "https://localhost:8080/"
        },
        "outputId": "d62196b7-ebbb-497b-da52-34e744207b02"
      },
      "execution_count": null,
      "outputs": [
        {
          "output_type": "execute_result",
          "data": {
            "text/plain": [
              "name                0\n",
              "MDVP:Fo(Hz)         0\n",
              "MDVP:Fhi(Hz)        0\n",
              "MDVP:Flo(Hz)        0\n",
              "MDVP:Jitter(%)      0\n",
              "MDVP:Jitter(Abs)    0\n",
              "MDVP:RAP            0\n",
              "MDVP:PPQ            0\n",
              "Jitter:DDP          0\n",
              "MDVP:Shimmer        0\n",
              "MDVP:Shimmer(dB)    0\n",
              "Shimmer:APQ3        0\n",
              "Shimmer:APQ5        0\n",
              "MDVP:APQ            0\n",
              "Shimmer:DDA         0\n",
              "NHR                 0\n",
              "HNR                 0\n",
              "status              0\n",
              "RPDE                0\n",
              "DFA                 0\n",
              "spread1             0\n",
              "spread2             0\n",
              "D2                  0\n",
              "PPE                 0\n",
              "dtype: int64"
            ]
          },
          "metadata": {},
          "execution_count": 6
        }
      ]
    },
    {
      "cell_type": "code",
      "source": [
        "# getting some statistical measures about the data\n",
        "parkinsons_data.describe()"
      ],
      "metadata": {
        "id": "nWbLT3WXMSXg",
        "colab": {
          "base_uri": "https://localhost:8080/",
          "height": 349
        },
        "outputId": "3884a080-3707-484c-f805-5bc1026b8c38"
      },
      "execution_count": null,
      "outputs": [
        {
          "output_type": "execute_result",
          "data": {
            "text/plain": [
              "       MDVP:Fo(Hz)  MDVP:Fhi(Hz)  MDVP:Flo(Hz)  MDVP:Jitter(%)  \\\n",
              "count   195.000000    195.000000    195.000000      195.000000   \n",
              "mean    154.228641    197.104918    116.324631        0.006220   \n",
              "std      41.390065     91.491548     43.521413        0.004848   \n",
              "min      88.333000    102.145000     65.476000        0.001680   \n",
              "25%     117.572000    134.862500     84.291000        0.003460   \n",
              "50%     148.790000    175.829000    104.315000        0.004940   \n",
              "75%     182.769000    224.205500    140.018500        0.007365   \n",
              "max     260.105000    592.030000    239.170000        0.033160   \n",
              "\n",
              "       MDVP:Jitter(Abs)    MDVP:RAP    MDVP:PPQ  Jitter:DDP  MDVP:Shimmer  \\\n",
              "count        195.000000  195.000000  195.000000  195.000000    195.000000   \n",
              "mean           0.000044    0.003306    0.003446    0.009920      0.029709   \n",
              "std            0.000035    0.002968    0.002759    0.008903      0.018857   \n",
              "min            0.000007    0.000680    0.000920    0.002040      0.009540   \n",
              "25%            0.000020    0.001660    0.001860    0.004985      0.016505   \n",
              "50%            0.000030    0.002500    0.002690    0.007490      0.022970   \n",
              "75%            0.000060    0.003835    0.003955    0.011505      0.037885   \n",
              "max            0.000260    0.021440    0.019580    0.064330      0.119080   \n",
              "\n",
              "       MDVP:Shimmer(dB)  ...  Shimmer:DDA         NHR         HNR      status  \\\n",
              "count        195.000000  ...   195.000000  195.000000  195.000000  195.000000   \n",
              "mean           0.282251  ...     0.046993    0.024847   21.885974    0.753846   \n",
              "std            0.194877  ...     0.030459    0.040418    4.425764    0.431878   \n",
              "min            0.085000  ...     0.013640    0.000650    8.441000    0.000000   \n",
              "25%            0.148500  ...     0.024735    0.005925   19.198000    1.000000   \n",
              "50%            0.221000  ...     0.038360    0.011660   22.085000    1.000000   \n",
              "75%            0.350000  ...     0.060795    0.025640   25.075500    1.000000   \n",
              "max            1.302000  ...     0.169420    0.314820   33.047000    1.000000   \n",
              "\n",
              "             RPDE         DFA     spread1     spread2          D2         PPE  \n",
              "count  195.000000  195.000000  195.000000  195.000000  195.000000  195.000000  \n",
              "mean     0.498536    0.718099   -5.684397    0.226510    2.381826    0.206552  \n",
              "std      0.103942    0.055336    1.090208    0.083406    0.382799    0.090119  \n",
              "min      0.256570    0.574282   -7.964984    0.006274    1.423287    0.044539  \n",
              "25%      0.421306    0.674758   -6.450096    0.174351    2.099125    0.137451  \n",
              "50%      0.495954    0.722254   -5.720868    0.218885    2.361532    0.194052  \n",
              "75%      0.587562    0.761881   -5.046192    0.279234    2.636456    0.252980  \n",
              "max      0.685151    0.825288   -2.434031    0.450493    3.671155    0.527367  \n",
              "\n",
              "[8 rows x 23 columns]"
            ],
            "text/html": [
              "\n",
              "  <div id=\"df-3effd0ba-46ad-4964-ba4c-acd6f91a5617\" class=\"colab-df-container\">\n",
              "    <div>\n",
              "<style scoped>\n",
              "    .dataframe tbody tr th:only-of-type {\n",
              "        vertical-align: middle;\n",
              "    }\n",
              "\n",
              "    .dataframe tbody tr th {\n",
              "        vertical-align: top;\n",
              "    }\n",
              "\n",
              "    .dataframe thead th {\n",
              "        text-align: right;\n",
              "    }\n",
              "</style>\n",
              "<table border=\"1\" class=\"dataframe\">\n",
              "  <thead>\n",
              "    <tr style=\"text-align: right;\">\n",
              "      <th></th>\n",
              "      <th>MDVP:Fo(Hz)</th>\n",
              "      <th>MDVP:Fhi(Hz)</th>\n",
              "      <th>MDVP:Flo(Hz)</th>\n",
              "      <th>MDVP:Jitter(%)</th>\n",
              "      <th>MDVP:Jitter(Abs)</th>\n",
              "      <th>MDVP:RAP</th>\n",
              "      <th>MDVP:PPQ</th>\n",
              "      <th>Jitter:DDP</th>\n",
              "      <th>MDVP:Shimmer</th>\n",
              "      <th>MDVP:Shimmer(dB)</th>\n",
              "      <th>...</th>\n",
              "      <th>Shimmer:DDA</th>\n",
              "      <th>NHR</th>\n",
              "      <th>HNR</th>\n",
              "      <th>status</th>\n",
              "      <th>RPDE</th>\n",
              "      <th>DFA</th>\n",
              "      <th>spread1</th>\n",
              "      <th>spread2</th>\n",
              "      <th>D2</th>\n",
              "      <th>PPE</th>\n",
              "    </tr>\n",
              "  </thead>\n",
              "  <tbody>\n",
              "    <tr>\n",
              "      <th>count</th>\n",
              "      <td>195.000000</td>\n",
              "      <td>195.000000</td>\n",
              "      <td>195.000000</td>\n",
              "      <td>195.000000</td>\n",
              "      <td>195.000000</td>\n",
              "      <td>195.000000</td>\n",
              "      <td>195.000000</td>\n",
              "      <td>195.000000</td>\n",
              "      <td>195.000000</td>\n",
              "      <td>195.000000</td>\n",
              "      <td>...</td>\n",
              "      <td>195.000000</td>\n",
              "      <td>195.000000</td>\n",
              "      <td>195.000000</td>\n",
              "      <td>195.000000</td>\n",
              "      <td>195.000000</td>\n",
              "      <td>195.000000</td>\n",
              "      <td>195.000000</td>\n",
              "      <td>195.000000</td>\n",
              "      <td>195.000000</td>\n",
              "      <td>195.000000</td>\n",
              "    </tr>\n",
              "    <tr>\n",
              "      <th>mean</th>\n",
              "      <td>154.228641</td>\n",
              "      <td>197.104918</td>\n",
              "      <td>116.324631</td>\n",
              "      <td>0.006220</td>\n",
              "      <td>0.000044</td>\n",
              "      <td>0.003306</td>\n",
              "      <td>0.003446</td>\n",
              "      <td>0.009920</td>\n",
              "      <td>0.029709</td>\n",
              "      <td>0.282251</td>\n",
              "      <td>...</td>\n",
              "      <td>0.046993</td>\n",
              "      <td>0.024847</td>\n",
              "      <td>21.885974</td>\n",
              "      <td>0.753846</td>\n",
              "      <td>0.498536</td>\n",
              "      <td>0.718099</td>\n",
              "      <td>-5.684397</td>\n",
              "      <td>0.226510</td>\n",
              "      <td>2.381826</td>\n",
              "      <td>0.206552</td>\n",
              "    </tr>\n",
              "    <tr>\n",
              "      <th>std</th>\n",
              "      <td>41.390065</td>\n",
              "      <td>91.491548</td>\n",
              "      <td>43.521413</td>\n",
              "      <td>0.004848</td>\n",
              "      <td>0.000035</td>\n",
              "      <td>0.002968</td>\n",
              "      <td>0.002759</td>\n",
              "      <td>0.008903</td>\n",
              "      <td>0.018857</td>\n",
              "      <td>0.194877</td>\n",
              "      <td>...</td>\n",
              "      <td>0.030459</td>\n",
              "      <td>0.040418</td>\n",
              "      <td>4.425764</td>\n",
              "      <td>0.431878</td>\n",
              "      <td>0.103942</td>\n",
              "      <td>0.055336</td>\n",
              "      <td>1.090208</td>\n",
              "      <td>0.083406</td>\n",
              "      <td>0.382799</td>\n",
              "      <td>0.090119</td>\n",
              "    </tr>\n",
              "    <tr>\n",
              "      <th>min</th>\n",
              "      <td>88.333000</td>\n",
              "      <td>102.145000</td>\n",
              "      <td>65.476000</td>\n",
              "      <td>0.001680</td>\n",
              "      <td>0.000007</td>\n",
              "      <td>0.000680</td>\n",
              "      <td>0.000920</td>\n",
              "      <td>0.002040</td>\n",
              "      <td>0.009540</td>\n",
              "      <td>0.085000</td>\n",
              "      <td>...</td>\n",
              "      <td>0.013640</td>\n",
              "      <td>0.000650</td>\n",
              "      <td>8.441000</td>\n",
              "      <td>0.000000</td>\n",
              "      <td>0.256570</td>\n",
              "      <td>0.574282</td>\n",
              "      <td>-7.964984</td>\n",
              "      <td>0.006274</td>\n",
              "      <td>1.423287</td>\n",
              "      <td>0.044539</td>\n",
              "    </tr>\n",
              "    <tr>\n",
              "      <th>25%</th>\n",
              "      <td>117.572000</td>\n",
              "      <td>134.862500</td>\n",
              "      <td>84.291000</td>\n",
              "      <td>0.003460</td>\n",
              "      <td>0.000020</td>\n",
              "      <td>0.001660</td>\n",
              "      <td>0.001860</td>\n",
              "      <td>0.004985</td>\n",
              "      <td>0.016505</td>\n",
              "      <td>0.148500</td>\n",
              "      <td>...</td>\n",
              "      <td>0.024735</td>\n",
              "      <td>0.005925</td>\n",
              "      <td>19.198000</td>\n",
              "      <td>1.000000</td>\n",
              "      <td>0.421306</td>\n",
              "      <td>0.674758</td>\n",
              "      <td>-6.450096</td>\n",
              "      <td>0.174351</td>\n",
              "      <td>2.099125</td>\n",
              "      <td>0.137451</td>\n",
              "    </tr>\n",
              "    <tr>\n",
              "      <th>50%</th>\n",
              "      <td>148.790000</td>\n",
              "      <td>175.829000</td>\n",
              "      <td>104.315000</td>\n",
              "      <td>0.004940</td>\n",
              "      <td>0.000030</td>\n",
              "      <td>0.002500</td>\n",
              "      <td>0.002690</td>\n",
              "      <td>0.007490</td>\n",
              "      <td>0.022970</td>\n",
              "      <td>0.221000</td>\n",
              "      <td>...</td>\n",
              "      <td>0.038360</td>\n",
              "      <td>0.011660</td>\n",
              "      <td>22.085000</td>\n",
              "      <td>1.000000</td>\n",
              "      <td>0.495954</td>\n",
              "      <td>0.722254</td>\n",
              "      <td>-5.720868</td>\n",
              "      <td>0.218885</td>\n",
              "      <td>2.361532</td>\n",
              "      <td>0.194052</td>\n",
              "    </tr>\n",
              "    <tr>\n",
              "      <th>75%</th>\n",
              "      <td>182.769000</td>\n",
              "      <td>224.205500</td>\n",
              "      <td>140.018500</td>\n",
              "      <td>0.007365</td>\n",
              "      <td>0.000060</td>\n",
              "      <td>0.003835</td>\n",
              "      <td>0.003955</td>\n",
              "      <td>0.011505</td>\n",
              "      <td>0.037885</td>\n",
              "      <td>0.350000</td>\n",
              "      <td>...</td>\n",
              "      <td>0.060795</td>\n",
              "      <td>0.025640</td>\n",
              "      <td>25.075500</td>\n",
              "      <td>1.000000</td>\n",
              "      <td>0.587562</td>\n",
              "      <td>0.761881</td>\n",
              "      <td>-5.046192</td>\n",
              "      <td>0.279234</td>\n",
              "      <td>2.636456</td>\n",
              "      <td>0.252980</td>\n",
              "    </tr>\n",
              "    <tr>\n",
              "      <th>max</th>\n",
              "      <td>260.105000</td>\n",
              "      <td>592.030000</td>\n",
              "      <td>239.170000</td>\n",
              "      <td>0.033160</td>\n",
              "      <td>0.000260</td>\n",
              "      <td>0.021440</td>\n",
              "      <td>0.019580</td>\n",
              "      <td>0.064330</td>\n",
              "      <td>0.119080</td>\n",
              "      <td>1.302000</td>\n",
              "      <td>...</td>\n",
              "      <td>0.169420</td>\n",
              "      <td>0.314820</td>\n",
              "      <td>33.047000</td>\n",
              "      <td>1.000000</td>\n",
              "      <td>0.685151</td>\n",
              "      <td>0.825288</td>\n",
              "      <td>-2.434031</td>\n",
              "      <td>0.450493</td>\n",
              "      <td>3.671155</td>\n",
              "      <td>0.527367</td>\n",
              "    </tr>\n",
              "  </tbody>\n",
              "</table>\n",
              "<p>8 rows × 23 columns</p>\n",
              "</div>\n",
              "    <div class=\"colab-df-buttons\">\n",
              "\n",
              "  <div class=\"colab-df-container\">\n",
              "    <button class=\"colab-df-convert\" onclick=\"convertToInteractive('df-3effd0ba-46ad-4964-ba4c-acd6f91a5617')\"\n",
              "            title=\"Convert this dataframe to an interactive table.\"\n",
              "            style=\"display:none;\">\n",
              "\n",
              "  <svg xmlns=\"http://www.w3.org/2000/svg\" height=\"24px\" viewBox=\"0 -960 960 960\">\n",
              "    <path d=\"M120-120v-720h720v720H120Zm60-500h600v-160H180v160Zm220 220h160v-160H400v160Zm0 220h160v-160H400v160ZM180-400h160v-160H180v160Zm440 0h160v-160H620v160ZM180-180h160v-160H180v160Zm440 0h160v-160H620v160Z\"/>\n",
              "  </svg>\n",
              "    </button>\n",
              "\n",
              "  <style>\n",
              "    .colab-df-container {\n",
              "      display:flex;\n",
              "      gap: 12px;\n",
              "    }\n",
              "\n",
              "    .colab-df-convert {\n",
              "      background-color: #E8F0FE;\n",
              "      border: none;\n",
              "      border-radius: 50%;\n",
              "      cursor: pointer;\n",
              "      display: none;\n",
              "      fill: #1967D2;\n",
              "      height: 32px;\n",
              "      padding: 0 0 0 0;\n",
              "      width: 32px;\n",
              "    }\n",
              "\n",
              "    .colab-df-convert:hover {\n",
              "      background-color: #E2EBFA;\n",
              "      box-shadow: 0px 1px 2px rgba(60, 64, 67, 0.3), 0px 1px 3px 1px rgba(60, 64, 67, 0.15);\n",
              "      fill: #174EA6;\n",
              "    }\n",
              "\n",
              "    .colab-df-buttons div {\n",
              "      margin-bottom: 4px;\n",
              "    }\n",
              "\n",
              "    [theme=dark] .colab-df-convert {\n",
              "      background-color: #3B4455;\n",
              "      fill: #D2E3FC;\n",
              "    }\n",
              "\n",
              "    [theme=dark] .colab-df-convert:hover {\n",
              "      background-color: #434B5C;\n",
              "      box-shadow: 0px 1px 3px 1px rgba(0, 0, 0, 0.15);\n",
              "      filter: drop-shadow(0px 1px 2px rgba(0, 0, 0, 0.3));\n",
              "      fill: #FFFFFF;\n",
              "    }\n",
              "  </style>\n",
              "\n",
              "    <script>\n",
              "      const buttonEl =\n",
              "        document.querySelector('#df-3effd0ba-46ad-4964-ba4c-acd6f91a5617 button.colab-df-convert');\n",
              "      buttonEl.style.display =\n",
              "        google.colab.kernel.accessAllowed ? 'block' : 'none';\n",
              "\n",
              "      async function convertToInteractive(key) {\n",
              "        const element = document.querySelector('#df-3effd0ba-46ad-4964-ba4c-acd6f91a5617');\n",
              "        const dataTable =\n",
              "          await google.colab.kernel.invokeFunction('convertToInteractive',\n",
              "                                                    [key], {});\n",
              "        if (!dataTable) return;\n",
              "\n",
              "        const docLinkHtml = 'Like what you see? Visit the ' +\n",
              "          '<a target=\"_blank\" href=https://colab.research.google.com/notebooks/data_table.ipynb>data table notebook</a>'\n",
              "          + ' to learn more about interactive tables.';\n",
              "        element.innerHTML = '';\n",
              "        dataTable['output_type'] = 'display_data';\n",
              "        await google.colab.output.renderOutput(dataTable, element);\n",
              "        const docLink = document.createElement('div');\n",
              "        docLink.innerHTML = docLinkHtml;\n",
              "        element.appendChild(docLink);\n",
              "      }\n",
              "    </script>\n",
              "  </div>\n",
              "\n",
              "\n",
              "<div id=\"df-aee28dbf-5415-4daf-8914-7ec130c003a2\">\n",
              "  <button class=\"colab-df-quickchart\" onclick=\"quickchart('df-aee28dbf-5415-4daf-8914-7ec130c003a2')\"\n",
              "            title=\"Suggest charts\"\n",
              "            style=\"display:none;\">\n",
              "\n",
              "<svg xmlns=\"http://www.w3.org/2000/svg\" height=\"24px\"viewBox=\"0 0 24 24\"\n",
              "     width=\"24px\">\n",
              "    <g>\n",
              "        <path d=\"M19 3H5c-1.1 0-2 .9-2 2v14c0 1.1.9 2 2 2h14c1.1 0 2-.9 2-2V5c0-1.1-.9-2-2-2zM9 17H7v-7h2v7zm4 0h-2V7h2v10zm4 0h-2v-4h2v4z\"/>\n",
              "    </g>\n",
              "</svg>\n",
              "  </button>\n",
              "\n",
              "<style>\n",
              "  .colab-df-quickchart {\n",
              "      --bg-color: #E8F0FE;\n",
              "      --fill-color: #1967D2;\n",
              "      --hover-bg-color: #E2EBFA;\n",
              "      --hover-fill-color: #174EA6;\n",
              "      --disabled-fill-color: #AAA;\n",
              "      --disabled-bg-color: #DDD;\n",
              "  }\n",
              "\n",
              "  [theme=dark] .colab-df-quickchart {\n",
              "      --bg-color: #3B4455;\n",
              "      --fill-color: #D2E3FC;\n",
              "      --hover-bg-color: #434B5C;\n",
              "      --hover-fill-color: #FFFFFF;\n",
              "      --disabled-bg-color: #3B4455;\n",
              "      --disabled-fill-color: #666;\n",
              "  }\n",
              "\n",
              "  .colab-df-quickchart {\n",
              "    background-color: var(--bg-color);\n",
              "    border: none;\n",
              "    border-radius: 50%;\n",
              "    cursor: pointer;\n",
              "    display: none;\n",
              "    fill: var(--fill-color);\n",
              "    height: 32px;\n",
              "    padding: 0;\n",
              "    width: 32px;\n",
              "  }\n",
              "\n",
              "  .colab-df-quickchart:hover {\n",
              "    background-color: var(--hover-bg-color);\n",
              "    box-shadow: 0 1px 2px rgba(60, 64, 67, 0.3), 0 1px 3px 1px rgba(60, 64, 67, 0.15);\n",
              "    fill: var(--button-hover-fill-color);\n",
              "  }\n",
              "\n",
              "  .colab-df-quickchart-complete:disabled,\n",
              "  .colab-df-quickchart-complete:disabled:hover {\n",
              "    background-color: var(--disabled-bg-color);\n",
              "    fill: var(--disabled-fill-color);\n",
              "    box-shadow: none;\n",
              "  }\n",
              "\n",
              "  .colab-df-spinner {\n",
              "    border: 2px solid var(--fill-color);\n",
              "    border-color: transparent;\n",
              "    border-bottom-color: var(--fill-color);\n",
              "    animation:\n",
              "      spin 1s steps(1) infinite;\n",
              "  }\n",
              "\n",
              "  @keyframes spin {\n",
              "    0% {\n",
              "      border-color: transparent;\n",
              "      border-bottom-color: var(--fill-color);\n",
              "      border-left-color: var(--fill-color);\n",
              "    }\n",
              "    20% {\n",
              "      border-color: transparent;\n",
              "      border-left-color: var(--fill-color);\n",
              "      border-top-color: var(--fill-color);\n",
              "    }\n",
              "    30% {\n",
              "      border-color: transparent;\n",
              "      border-left-color: var(--fill-color);\n",
              "      border-top-color: var(--fill-color);\n",
              "      border-right-color: var(--fill-color);\n",
              "    }\n",
              "    40% {\n",
              "      border-color: transparent;\n",
              "      border-right-color: var(--fill-color);\n",
              "      border-top-color: var(--fill-color);\n",
              "    }\n",
              "    60% {\n",
              "      border-color: transparent;\n",
              "      border-right-color: var(--fill-color);\n",
              "    }\n",
              "    80% {\n",
              "      border-color: transparent;\n",
              "      border-right-color: var(--fill-color);\n",
              "      border-bottom-color: var(--fill-color);\n",
              "    }\n",
              "    90% {\n",
              "      border-color: transparent;\n",
              "      border-bottom-color: var(--fill-color);\n",
              "    }\n",
              "  }\n",
              "</style>\n",
              "\n",
              "  <script>\n",
              "    async function quickchart(key) {\n",
              "      const quickchartButtonEl =\n",
              "        document.querySelector('#' + key + ' button');\n",
              "      quickchartButtonEl.disabled = true;  // To prevent multiple clicks.\n",
              "      quickchartButtonEl.classList.add('colab-df-spinner');\n",
              "      try {\n",
              "        const charts = await google.colab.kernel.invokeFunction(\n",
              "            'suggestCharts', [key], {});\n",
              "      } catch (error) {\n",
              "        console.error('Error during call to suggestCharts:', error);\n",
              "      }\n",
              "      quickchartButtonEl.classList.remove('colab-df-spinner');\n",
              "      quickchartButtonEl.classList.add('colab-df-quickchart-complete');\n",
              "    }\n",
              "    (() => {\n",
              "      let quickchartButtonEl =\n",
              "        document.querySelector('#df-aee28dbf-5415-4daf-8914-7ec130c003a2 button');\n",
              "      quickchartButtonEl.style.display =\n",
              "        google.colab.kernel.accessAllowed ? 'block' : 'none';\n",
              "    })();\n",
              "  </script>\n",
              "</div>\n",
              "    </div>\n",
              "  </div>\n"
            ]
          },
          "metadata": {},
          "execution_count": 7
        }
      ]
    },
    {
      "cell_type": "code",
      "source": [
        "# distribution of target Variable\n",
        "parkinsons_data['status'].value_counts()"
      ],
      "metadata": {
        "id": "b6z-tGSIMWmO",
        "colab": {
          "base_uri": "https://localhost:8080/"
        },
        "outputId": "712f182b-83d5-4395-bfc3-639f3416abbe"
      },
      "execution_count": null,
      "outputs": [
        {
          "output_type": "execute_result",
          "data": {
            "text/plain": [
              "1    147\n",
              "0     48\n",
              "Name: status, dtype: int64"
            ]
          },
          "metadata": {},
          "execution_count": 8
        }
      ]
    },
    {
      "cell_type": "code",
      "source": [
        "# grouping the data based on the target variable\n",
        "parkinsons_data.groupby('status').mean()"
      ],
      "metadata": {
        "id": "ZjzRIzMoMZSl",
        "colab": {
          "base_uri": "https://localhost:8080/",
          "height": 227
        },
        "outputId": "de2f0456-5a55-49aa-d251-b8066f12e135"
      },
      "execution_count": null,
      "outputs": [
        {
          "output_type": "stream",
          "name": "stderr",
          "text": [
            "<ipython-input-9-18cc9e82c57e>:2: FutureWarning: The default value of numeric_only in DataFrameGroupBy.mean is deprecated. In a future version, numeric_only will default to False. Either specify numeric_only or select only columns which should be valid for the function.\n",
            "  parkinsons_data.groupby('status').mean()\n"
          ]
        },
        {
          "output_type": "execute_result",
          "data": {
            "text/plain": [
              "        MDVP:Fo(Hz)  MDVP:Fhi(Hz)  MDVP:Flo(Hz)  MDVP:Jitter(%)  \\\n",
              "status                                                            \n",
              "0        181.937771    223.636750    145.207292        0.003866   \n",
              "1        145.180762    188.441463    106.893558        0.006989   \n",
              "\n",
              "        MDVP:Jitter(Abs)  MDVP:RAP  MDVP:PPQ  Jitter:DDP  MDVP:Shimmer  \\\n",
              "status                                                                   \n",
              "0               0.000023  0.001925  0.002056    0.005776      0.017615   \n",
              "1               0.000051  0.003757  0.003900    0.011273      0.033658   \n",
              "\n",
              "        MDVP:Shimmer(dB)  ...  MDVP:APQ  Shimmer:DDA       NHR        HNR  \\\n",
              "status                    ...                                               \n",
              "0               0.162958  ...  0.013305     0.028511  0.011483  24.678750   \n",
              "1               0.321204  ...  0.027600     0.053027  0.029211  20.974048   \n",
              "\n",
              "            RPDE       DFA   spread1   spread2        D2       PPE  \n",
              "status                                                              \n",
              "0       0.442552  0.695716 -6.759264  0.160292  2.154491  0.123017  \n",
              "1       0.516816  0.725408 -5.333420  0.248133  2.456058  0.233828  \n",
              "\n",
              "[2 rows x 22 columns]"
            ],
            "text/html": [
              "\n",
              "  <div id=\"df-e05b2263-160c-4a09-b720-c8e8fd04f094\" class=\"colab-df-container\">\n",
              "    <div>\n",
              "<style scoped>\n",
              "    .dataframe tbody tr th:only-of-type {\n",
              "        vertical-align: middle;\n",
              "    }\n",
              "\n",
              "    .dataframe tbody tr th {\n",
              "        vertical-align: top;\n",
              "    }\n",
              "\n",
              "    .dataframe thead th {\n",
              "        text-align: right;\n",
              "    }\n",
              "</style>\n",
              "<table border=\"1\" class=\"dataframe\">\n",
              "  <thead>\n",
              "    <tr style=\"text-align: right;\">\n",
              "      <th></th>\n",
              "      <th>MDVP:Fo(Hz)</th>\n",
              "      <th>MDVP:Fhi(Hz)</th>\n",
              "      <th>MDVP:Flo(Hz)</th>\n",
              "      <th>MDVP:Jitter(%)</th>\n",
              "      <th>MDVP:Jitter(Abs)</th>\n",
              "      <th>MDVP:RAP</th>\n",
              "      <th>MDVP:PPQ</th>\n",
              "      <th>Jitter:DDP</th>\n",
              "      <th>MDVP:Shimmer</th>\n",
              "      <th>MDVP:Shimmer(dB)</th>\n",
              "      <th>...</th>\n",
              "      <th>MDVP:APQ</th>\n",
              "      <th>Shimmer:DDA</th>\n",
              "      <th>NHR</th>\n",
              "      <th>HNR</th>\n",
              "      <th>RPDE</th>\n",
              "      <th>DFA</th>\n",
              "      <th>spread1</th>\n",
              "      <th>spread2</th>\n",
              "      <th>D2</th>\n",
              "      <th>PPE</th>\n",
              "    </tr>\n",
              "    <tr>\n",
              "      <th>status</th>\n",
              "      <th></th>\n",
              "      <th></th>\n",
              "      <th></th>\n",
              "      <th></th>\n",
              "      <th></th>\n",
              "      <th></th>\n",
              "      <th></th>\n",
              "      <th></th>\n",
              "      <th></th>\n",
              "      <th></th>\n",
              "      <th></th>\n",
              "      <th></th>\n",
              "      <th></th>\n",
              "      <th></th>\n",
              "      <th></th>\n",
              "      <th></th>\n",
              "      <th></th>\n",
              "      <th></th>\n",
              "      <th></th>\n",
              "      <th></th>\n",
              "      <th></th>\n",
              "    </tr>\n",
              "  </thead>\n",
              "  <tbody>\n",
              "    <tr>\n",
              "      <th>0</th>\n",
              "      <td>181.937771</td>\n",
              "      <td>223.636750</td>\n",
              "      <td>145.207292</td>\n",
              "      <td>0.003866</td>\n",
              "      <td>0.000023</td>\n",
              "      <td>0.001925</td>\n",
              "      <td>0.002056</td>\n",
              "      <td>0.005776</td>\n",
              "      <td>0.017615</td>\n",
              "      <td>0.162958</td>\n",
              "      <td>...</td>\n",
              "      <td>0.013305</td>\n",
              "      <td>0.028511</td>\n",
              "      <td>0.011483</td>\n",
              "      <td>24.678750</td>\n",
              "      <td>0.442552</td>\n",
              "      <td>0.695716</td>\n",
              "      <td>-6.759264</td>\n",
              "      <td>0.160292</td>\n",
              "      <td>2.154491</td>\n",
              "      <td>0.123017</td>\n",
              "    </tr>\n",
              "    <tr>\n",
              "      <th>1</th>\n",
              "      <td>145.180762</td>\n",
              "      <td>188.441463</td>\n",
              "      <td>106.893558</td>\n",
              "      <td>0.006989</td>\n",
              "      <td>0.000051</td>\n",
              "      <td>0.003757</td>\n",
              "      <td>0.003900</td>\n",
              "      <td>0.011273</td>\n",
              "      <td>0.033658</td>\n",
              "      <td>0.321204</td>\n",
              "      <td>...</td>\n",
              "      <td>0.027600</td>\n",
              "      <td>0.053027</td>\n",
              "      <td>0.029211</td>\n",
              "      <td>20.974048</td>\n",
              "      <td>0.516816</td>\n",
              "      <td>0.725408</td>\n",
              "      <td>-5.333420</td>\n",
              "      <td>0.248133</td>\n",
              "      <td>2.456058</td>\n",
              "      <td>0.233828</td>\n",
              "    </tr>\n",
              "  </tbody>\n",
              "</table>\n",
              "<p>2 rows × 22 columns</p>\n",
              "</div>\n",
              "    <div class=\"colab-df-buttons\">\n",
              "\n",
              "  <div class=\"colab-df-container\">\n",
              "    <button class=\"colab-df-convert\" onclick=\"convertToInteractive('df-e05b2263-160c-4a09-b720-c8e8fd04f094')\"\n",
              "            title=\"Convert this dataframe to an interactive table.\"\n",
              "            style=\"display:none;\">\n",
              "\n",
              "  <svg xmlns=\"http://www.w3.org/2000/svg\" height=\"24px\" viewBox=\"0 -960 960 960\">\n",
              "    <path d=\"M120-120v-720h720v720H120Zm60-500h600v-160H180v160Zm220 220h160v-160H400v160Zm0 220h160v-160H400v160ZM180-400h160v-160H180v160Zm440 0h160v-160H620v160ZM180-180h160v-160H180v160Zm440 0h160v-160H620v160Z\"/>\n",
              "  </svg>\n",
              "    </button>\n",
              "\n",
              "  <style>\n",
              "    .colab-df-container {\n",
              "      display:flex;\n",
              "      gap: 12px;\n",
              "    }\n",
              "\n",
              "    .colab-df-convert {\n",
              "      background-color: #E8F0FE;\n",
              "      border: none;\n",
              "      border-radius: 50%;\n",
              "      cursor: pointer;\n",
              "      display: none;\n",
              "      fill: #1967D2;\n",
              "      height: 32px;\n",
              "      padding: 0 0 0 0;\n",
              "      width: 32px;\n",
              "    }\n",
              "\n",
              "    .colab-df-convert:hover {\n",
              "      background-color: #E2EBFA;\n",
              "      box-shadow: 0px 1px 2px rgba(60, 64, 67, 0.3), 0px 1px 3px 1px rgba(60, 64, 67, 0.15);\n",
              "      fill: #174EA6;\n",
              "    }\n",
              "\n",
              "    .colab-df-buttons div {\n",
              "      margin-bottom: 4px;\n",
              "    }\n",
              "\n",
              "    [theme=dark] .colab-df-convert {\n",
              "      background-color: #3B4455;\n",
              "      fill: #D2E3FC;\n",
              "    }\n",
              "\n",
              "    [theme=dark] .colab-df-convert:hover {\n",
              "      background-color: #434B5C;\n",
              "      box-shadow: 0px 1px 3px 1px rgba(0, 0, 0, 0.15);\n",
              "      filter: drop-shadow(0px 1px 2px rgba(0, 0, 0, 0.3));\n",
              "      fill: #FFFFFF;\n",
              "    }\n",
              "  </style>\n",
              "\n",
              "    <script>\n",
              "      const buttonEl =\n",
              "        document.querySelector('#df-e05b2263-160c-4a09-b720-c8e8fd04f094 button.colab-df-convert');\n",
              "      buttonEl.style.display =\n",
              "        google.colab.kernel.accessAllowed ? 'block' : 'none';\n",
              "\n",
              "      async function convertToInteractive(key) {\n",
              "        const element = document.querySelector('#df-e05b2263-160c-4a09-b720-c8e8fd04f094');\n",
              "        const dataTable =\n",
              "          await google.colab.kernel.invokeFunction('convertToInteractive',\n",
              "                                                    [key], {});\n",
              "        if (!dataTable) return;\n",
              "\n",
              "        const docLinkHtml = 'Like what you see? Visit the ' +\n",
              "          '<a target=\"_blank\" href=https://colab.research.google.com/notebooks/data_table.ipynb>data table notebook</a>'\n",
              "          + ' to learn more about interactive tables.';\n",
              "        element.innerHTML = '';\n",
              "        dataTable['output_type'] = 'display_data';\n",
              "        await google.colab.output.renderOutput(dataTable, element);\n",
              "        const docLink = document.createElement('div');\n",
              "        docLink.innerHTML = docLinkHtml;\n",
              "        element.appendChild(docLink);\n",
              "      }\n",
              "    </script>\n",
              "  </div>\n",
              "\n",
              "\n",
              "<div id=\"df-2187e343-8e93-4218-b8b8-f9b0ab510815\">\n",
              "  <button class=\"colab-df-quickchart\" onclick=\"quickchart('df-2187e343-8e93-4218-b8b8-f9b0ab510815')\"\n",
              "            title=\"Suggest charts\"\n",
              "            style=\"display:none;\">\n",
              "\n",
              "<svg xmlns=\"http://www.w3.org/2000/svg\" height=\"24px\"viewBox=\"0 0 24 24\"\n",
              "     width=\"24px\">\n",
              "    <g>\n",
              "        <path d=\"M19 3H5c-1.1 0-2 .9-2 2v14c0 1.1.9 2 2 2h14c1.1 0 2-.9 2-2V5c0-1.1-.9-2-2-2zM9 17H7v-7h2v7zm4 0h-2V7h2v10zm4 0h-2v-4h2v4z\"/>\n",
              "    </g>\n",
              "</svg>\n",
              "  </button>\n",
              "\n",
              "<style>\n",
              "  .colab-df-quickchart {\n",
              "      --bg-color: #E8F0FE;\n",
              "      --fill-color: #1967D2;\n",
              "      --hover-bg-color: #E2EBFA;\n",
              "      --hover-fill-color: #174EA6;\n",
              "      --disabled-fill-color: #AAA;\n",
              "      --disabled-bg-color: #DDD;\n",
              "  }\n",
              "\n",
              "  [theme=dark] .colab-df-quickchart {\n",
              "      --bg-color: #3B4455;\n",
              "      --fill-color: #D2E3FC;\n",
              "      --hover-bg-color: #434B5C;\n",
              "      --hover-fill-color: #FFFFFF;\n",
              "      --disabled-bg-color: #3B4455;\n",
              "      --disabled-fill-color: #666;\n",
              "  }\n",
              "\n",
              "  .colab-df-quickchart {\n",
              "    background-color: var(--bg-color);\n",
              "    border: none;\n",
              "    border-radius: 50%;\n",
              "    cursor: pointer;\n",
              "    display: none;\n",
              "    fill: var(--fill-color);\n",
              "    height: 32px;\n",
              "    padding: 0;\n",
              "    width: 32px;\n",
              "  }\n",
              "\n",
              "  .colab-df-quickchart:hover {\n",
              "    background-color: var(--hover-bg-color);\n",
              "    box-shadow: 0 1px 2px rgba(60, 64, 67, 0.3), 0 1px 3px 1px rgba(60, 64, 67, 0.15);\n",
              "    fill: var(--button-hover-fill-color);\n",
              "  }\n",
              "\n",
              "  .colab-df-quickchart-complete:disabled,\n",
              "  .colab-df-quickchart-complete:disabled:hover {\n",
              "    background-color: var(--disabled-bg-color);\n",
              "    fill: var(--disabled-fill-color);\n",
              "    box-shadow: none;\n",
              "  }\n",
              "\n",
              "  .colab-df-spinner {\n",
              "    border: 2px solid var(--fill-color);\n",
              "    border-color: transparent;\n",
              "    border-bottom-color: var(--fill-color);\n",
              "    animation:\n",
              "      spin 1s steps(1) infinite;\n",
              "  }\n",
              "\n",
              "  @keyframes spin {\n",
              "    0% {\n",
              "      border-color: transparent;\n",
              "      border-bottom-color: var(--fill-color);\n",
              "      border-left-color: var(--fill-color);\n",
              "    }\n",
              "    20% {\n",
              "      border-color: transparent;\n",
              "      border-left-color: var(--fill-color);\n",
              "      border-top-color: var(--fill-color);\n",
              "    }\n",
              "    30% {\n",
              "      border-color: transparent;\n",
              "      border-left-color: var(--fill-color);\n",
              "      border-top-color: var(--fill-color);\n",
              "      border-right-color: var(--fill-color);\n",
              "    }\n",
              "    40% {\n",
              "      border-color: transparent;\n",
              "      border-right-color: var(--fill-color);\n",
              "      border-top-color: var(--fill-color);\n",
              "    }\n",
              "    60% {\n",
              "      border-color: transparent;\n",
              "      border-right-color: var(--fill-color);\n",
              "    }\n",
              "    80% {\n",
              "      border-color: transparent;\n",
              "      border-right-color: var(--fill-color);\n",
              "      border-bottom-color: var(--fill-color);\n",
              "    }\n",
              "    90% {\n",
              "      border-color: transparent;\n",
              "      border-bottom-color: var(--fill-color);\n",
              "    }\n",
              "  }\n",
              "</style>\n",
              "\n",
              "  <script>\n",
              "    async function quickchart(key) {\n",
              "      const quickchartButtonEl =\n",
              "        document.querySelector('#' + key + ' button');\n",
              "      quickchartButtonEl.disabled = true;  // To prevent multiple clicks.\n",
              "      quickchartButtonEl.classList.add('colab-df-spinner');\n",
              "      try {\n",
              "        const charts = await google.colab.kernel.invokeFunction(\n",
              "            'suggestCharts', [key], {});\n",
              "      } catch (error) {\n",
              "        console.error('Error during call to suggestCharts:', error);\n",
              "      }\n",
              "      quickchartButtonEl.classList.remove('colab-df-spinner');\n",
              "      quickchartButtonEl.classList.add('colab-df-quickchart-complete');\n",
              "    }\n",
              "    (() => {\n",
              "      let quickchartButtonEl =\n",
              "        document.querySelector('#df-2187e343-8e93-4218-b8b8-f9b0ab510815 button');\n",
              "      quickchartButtonEl.style.display =\n",
              "        google.colab.kernel.accessAllowed ? 'block' : 'none';\n",
              "    })();\n",
              "  </script>\n",
              "</div>\n",
              "    </div>\n",
              "  </div>\n"
            ]
          },
          "metadata": {},
          "execution_count": 9
        }
      ]
    },
    {
      "cell_type": "markdown",
      "source": [
        "Tiền xử lý dữ liệu\n",
        "\n",
        "> Chuẩn bị dữ liệu\n",
        "\n"
      ],
      "metadata": {
        "id": "Zsy26l1W4EIb"
      }
    },
    {
      "cell_type": "code",
      "source": [
        "feature_names = parkinsons_data.drop(columns=['name', 'status']).columns.tolist()\n",
        "print(\"Feature Names:\")\n",
        "print(feature_names)"
      ],
      "metadata": {
        "colab": {
          "base_uri": "https://localhost:8080/"
        },
        "id": "BlzJZc0re3df",
        "outputId": "432d9921-d0b3-428f-c6fc-82f5bcc1ba7d"
      },
      "execution_count": null,
      "outputs": [
        {
          "output_type": "stream",
          "name": "stdout",
          "text": [
            "Feature Names:\n",
            "['MDVP:Fo(Hz)', 'MDVP:Fhi(Hz)', 'MDVP:Flo(Hz)', 'MDVP:Jitter(%)', 'MDVP:Jitter(Abs)', 'MDVP:RAP', 'MDVP:PPQ', 'Jitter:DDP', 'MDVP:Shimmer', 'MDVP:Shimmer(dB)', 'Shimmer:APQ3', 'Shimmer:APQ5', 'MDVP:APQ', 'Shimmer:DDA', 'NHR', 'HNR', 'RPDE', 'DFA', 'spread1', 'spread2', 'D2', 'PPE']\n"
          ]
        }
      ]
    },
    {
      "cell_type": "code",
      "source": [
        "# feature selection\n",
        "X = parkinsons_data.drop(columns=['name','status'], axis=1)\n",
        "Y = parkinsons_data['status']"
      ],
      "metadata": {
        "id": "7ETVHSUdMa9G"
      },
      "execution_count": null,
      "outputs": []
    },
    {
      "cell_type": "code",
      "source": [
        "print(X)"
      ],
      "metadata": {
        "id": "BDSL1ci1M0DF",
        "colab": {
          "base_uri": "https://localhost:8080/"
        },
        "outputId": "cbf92acc-8ca6-4ddc-f206-f16ce1b318e2"
      },
      "execution_count": null,
      "outputs": [
        {
          "output_type": "stream",
          "name": "stdout",
          "text": [
            "     MDVP:Fo(Hz)  MDVP:Fhi(Hz)  MDVP:Flo(Hz)  MDVP:Jitter(%)  \\\n",
            "0        119.992       157.302        74.997         0.00784   \n",
            "1        122.400       148.650       113.819         0.00968   \n",
            "2        116.682       131.111       111.555         0.01050   \n",
            "3        116.676       137.871       111.366         0.00997   \n",
            "4        116.014       141.781       110.655         0.01284   \n",
            "..           ...           ...           ...             ...   \n",
            "190      174.188       230.978        94.261         0.00459   \n",
            "191      209.516       253.017        89.488         0.00564   \n",
            "192      174.688       240.005        74.287         0.01360   \n",
            "193      198.764       396.961        74.904         0.00740   \n",
            "194      214.289       260.277        77.973         0.00567   \n",
            "\n",
            "     MDVP:Jitter(Abs)  MDVP:RAP  MDVP:PPQ  Jitter:DDP  MDVP:Shimmer  \\\n",
            "0             0.00007   0.00370   0.00554     0.01109       0.04374   \n",
            "1             0.00008   0.00465   0.00696     0.01394       0.06134   \n",
            "2             0.00009   0.00544   0.00781     0.01633       0.05233   \n",
            "3             0.00009   0.00502   0.00698     0.01505       0.05492   \n",
            "4             0.00011   0.00655   0.00908     0.01966       0.06425   \n",
            "..                ...       ...       ...         ...           ...   \n",
            "190           0.00003   0.00263   0.00259     0.00790       0.04087   \n",
            "191           0.00003   0.00331   0.00292     0.00994       0.02751   \n",
            "192           0.00008   0.00624   0.00564     0.01873       0.02308   \n",
            "193           0.00004   0.00370   0.00390     0.01109       0.02296   \n",
            "194           0.00003   0.00295   0.00317     0.00885       0.01884   \n",
            "\n",
            "     MDVP:Shimmer(dB)  ...  MDVP:APQ  Shimmer:DDA      NHR     HNR      RPDE  \\\n",
            "0               0.426  ...   0.02971      0.06545  0.02211  21.033  0.414783   \n",
            "1               0.626  ...   0.04368      0.09403  0.01929  19.085  0.458359   \n",
            "2               0.482  ...   0.03590      0.08270  0.01309  20.651  0.429895   \n",
            "3               0.517  ...   0.03772      0.08771  0.01353  20.644  0.434969   \n",
            "4               0.584  ...   0.04465      0.10470  0.01767  19.649  0.417356   \n",
            "..                ...  ...       ...          ...      ...     ...       ...   \n",
            "190             0.405  ...   0.02745      0.07008  0.02764  19.517  0.448439   \n",
            "191             0.263  ...   0.01879      0.04812  0.01810  19.147  0.431674   \n",
            "192             0.256  ...   0.01667      0.03804  0.10715  17.883  0.407567   \n",
            "193             0.241  ...   0.01588      0.03794  0.07223  19.020  0.451221   \n",
            "194             0.190  ...   0.01373      0.03078  0.04398  21.209  0.462803   \n",
            "\n",
            "          DFA   spread1   spread2        D2       PPE  \n",
            "0    0.815285 -4.813031  0.266482  2.301442  0.284654  \n",
            "1    0.819521 -4.075192  0.335590  2.486855  0.368674  \n",
            "2    0.825288 -4.443179  0.311173  2.342259  0.332634  \n",
            "3    0.819235 -4.117501  0.334147  2.405554  0.368975  \n",
            "4    0.823484 -3.747787  0.234513  2.332180  0.410335  \n",
            "..        ...       ...       ...       ...       ...  \n",
            "190  0.657899 -6.538586  0.121952  2.657476  0.133050  \n",
            "191  0.683244 -6.195325  0.129303  2.784312  0.168895  \n",
            "192  0.655683 -6.787197  0.158453  2.679772  0.131728  \n",
            "193  0.643956 -6.744577  0.207454  2.138608  0.123306  \n",
            "194  0.664357 -5.724056  0.190667  2.555477  0.148569  \n",
            "\n",
            "[195 rows x 22 columns]\n"
          ]
        }
      ]
    },
    {
      "cell_type": "code",
      "source": [
        "print(Y)"
      ],
      "metadata": {
        "id": "CdrQejdoM1SN",
        "colab": {
          "base_uri": "https://localhost:8080/"
        },
        "outputId": "5fc7efa3-f2cc-4d11-8620-065a0e07bdf0"
      },
      "execution_count": null,
      "outputs": [
        {
          "output_type": "stream",
          "name": "stdout",
          "text": [
            "0      1\n",
            "1      1\n",
            "2      1\n",
            "3      1\n",
            "4      1\n",
            "      ..\n",
            "190    0\n",
            "191    0\n",
            "192    0\n",
            "193    0\n",
            "194    0\n",
            "Name: status, Length: 195, dtype: int64\n"
          ]
        }
      ]
    },
    {
      "cell_type": "markdown",
      "source": [
        "Chia tập dữ liệu vào tập train và test"
      ],
      "metadata": {
        "id": "W2lnqq5Y4Osb"
      }
    },
    {
      "cell_type": "code",
      "source": [
        "X_train, X_test, Y_train, Y_test = train_test_split(X, Y, test_size=0.2, random_state=2)"
      ],
      "metadata": {
        "id": "NvHVwVusM1sC"
      },
      "execution_count": null,
      "outputs": []
    },
    {
      "cell_type": "code",
      "source": [
        "print(X.shape, X_train.shape, X_test.shape)"
      ],
      "metadata": {
        "id": "nhLSK8drM4BG",
        "colab": {
          "base_uri": "https://localhost:8080/"
        },
        "outputId": "6b71d03e-6c08-49a5-dfce-052455cac58e"
      },
      "execution_count": null,
      "outputs": [
        {
          "output_type": "stream",
          "name": "stdout",
          "text": [
            "(195, 22) (156, 22) (39, 22)\n"
          ]
        }
      ]
    },
    {
      "cell_type": "markdown",
      "source": [
        "Chuẩn hóa dữ liệu"
      ],
      "metadata": {
        "id": "CmMjdQWX4s8D"
      }
    },
    {
      "cell_type": "code",
      "source": [
        "scaler = StandardScaler()"
      ],
      "metadata": {
        "id": "tuBD7mCmN989"
      },
      "execution_count": null,
      "outputs": []
    },
    {
      "cell_type": "code",
      "source": [
        "scaler.fit(X_train)\n",
        "X_train = scaler.transform(X_train)\n",
        "\n",
        "X_test = scaler.transform(X_test)"
      ],
      "metadata": {
        "id": "oNgEWXg1OAcV"
      },
      "execution_count": null,
      "outputs": []
    },
    {
      "cell_type": "markdown",
      "source": [
        "Các mô hình huấn luyện và đánh giá từng mô hình"
      ],
      "metadata": {
        "id": "P2Xcx0D17Boj"
      }
    },
    {
      "cell_type": "markdown",
      "source": [
        "XGBoost model\n"
      ],
      "metadata": {
        "id": "Su7_hCuiyxXP"
      }
    },
    {
      "cell_type": "code",
      "source": [
        "from xgboost import XGBClassifier\n",
        "xgb = XGBClassifier(learning_rate=0.01, n_estimators=25, max_depth=15,gamma=0.6, subsample=0.52,colsample_bytree=0.6,seed=27,\n",
        "                    reg_lambda=2, booster='dart', colsample_bylevel=0.6, colsample_bynode=0.5)\n",
        "xgb.fit(X_train, Y_train)\n",
        "xgb_predicted = xgb.predict(X_test)"
      ],
      "metadata": {
        "id": "B3gBqEjGrzWu"
      },
      "execution_count": null,
      "outputs": []
    },
    {
      "cell_type": "markdown",
      "source": [
        "Sử dụng xgb model để đánh giá độ quan trọng của các feature"
      ],
      "metadata": {
        "id": "-caS9h6fy38f"
      }
    },
    {
      "cell_type": "code",
      "source": [
        "# list features\n",
        "feature_names = ['MDVP:Fo(Hz)', 'MDVP:Fhi(Hz)', 'MDVP:Flo(Hz)', 'MDVP:Jitter(%)', 'MDVP:Jitter(Abs)', 'MDVP:RAP', 'MDVP:PPQ', 'Jitter:DDP', 'MDVP:Shimmer', 'MDVP:Shimmer(dB)', 'Shimmer:APQ3', 'Shimmer:APQ5', 'MDVP:APQ', 'Shimmer:DDA', 'NHR', 'HNR', 'RPDE', 'DFA', 'spread1', 'spread2', 'D2', 'PPE']\n",
        "\n",
        "# features importance\n",
        "imp_feature = pd.DataFrame({'Feature': feature_names, 'Importance': xgb.feature_importances_})\n",
        "\n",
        "# color\n",
        "colors = plt.cm.tab20(np.linspace(0, 1, len(feature_names)))\n",
        "\n",
        "# visual chart about importance of features using xgb model\n",
        "plt.figure(figsize=(10, 6))\n",
        "plt.title(\"Representing Feature Importance\")\n",
        "plt.xlabel(\"Importance\")\n",
        "plt.ylabel(\"Features\")\n",
        "\n",
        "for i, (feature, color) in enumerate(zip(imp_feature['Feature'], colors)):\n",
        "    plt.barh(feature, imp_feature.loc[i, 'Importance'], color=color)\n",
        "\n",
        "plt.show()"
      ],
      "metadata": {
        "colab": {
          "base_uri": "https://localhost:8080/",
          "height": 564
        },
        "id": "3YzJucBGtiqY",
        "outputId": "68a7fa44-0d87-4830-e6b7-804fd1b0abe2"
      },
      "execution_count": null,
      "outputs": [
        {
          "output_type": "display_data",
          "data": {
            "text/plain": [
              "<Figure size 1000x600 with 1 Axes>"
            ],
            "image/png": "[encoded data removed]"
          },
          "metadata": {}
        }
      ]
    },
    {
      "cell_type": "markdown",
      "source": [
        "Evaluation for classification"
      ],
      "metadata": {
        "id": "TmyynzWS2eRc"
      }
    },
    {
      "cell_type": "code",
      "source": [
        "from sklearn.neighbors import KNeighborsClassifier\n",
        "\n",
        "# Create a kNN classifier\n",
        "knn = KNeighborsClassifier(n_neighbors=10)\n",
        "\n",
        "\n",
        "knn.fit(X_train, Y_train)\n",
        "\n",
        "# Predict on the training set\n",
        "train_predictions = knn.predict(X_train)\n",
        "\n",
        "# Evaluate performance on the training set\n",
        "train_accuracy_kNN = accuracy_score(Y_train, train_predictions)\n",
        "print(\"Training Set Accuracy:\", train_accuracy_kNN)\n",
        "\n",
        "# Predict on the test set\n",
        "test_predictions = knn.predict(X_test)\n",
        "\n",
        "# Evaluate performance on the test set\n",
        "test_accuracy_kNN = accuracy_score(Y_test, test_predictions)\n",
        "print(\"Test Set Accuracy:\", test_accuracy_kNN)\n",
        "\n",
        "# Classification report for test set\n",
        "print(\"\\nClassification Report:\")\n",
        "print(classification_report(Y_test, test_predictions))\n"
      ],
      "metadata": {
        "id": "vddCDVF__Noq",
        "colab": {
          "base_uri": "https://localhost:8080/"
        },
        "outputId": "cf5ce0e8-83b1-42c0-8128-668ad39c2075"
      },
      "execution_count": null,
      "outputs": [
        {
          "output_type": "stream",
          "name": "stdout",
          "text": [
            "Training Set Accuracy: 0.9423076923076923\n",
            "Test Set Accuracy: 0.8717948717948718\n",
            "\n",
            "Classification Report:\n",
            "              precision    recall  f1-score   support\n",
            "\n",
            "           0       0.64      0.88      0.74         8\n",
            "           1       0.96      0.87      0.92        31\n",
            "\n",
            "    accuracy                           0.87        39\n",
            "   macro avg       0.80      0.87      0.83        39\n",
            "weighted avg       0.90      0.87      0.88        39\n",
            "\n"
          ]
        }
      ]
    },
    {
      "cell_type": "code",
      "source": [
        "from sklearn.model_selection import cross_val_score\n",
        "\n",
        "# Range of k values to explore\n",
        "k_values = list(range(1, 23))  # Adjust the range as needed\n",
        "\n",
        "# Empty lists to store mean cross-validation scores for each k\n",
        "cv_scores_train = []\n",
        "cv_scores_test = []\n",
        "\n",
        "# Perform 10-fold cross-validation for each k\n",
        "for k in k_values:\n",
        "    # Initialize kNN classifier with k neighbors\n",
        "    knn = KNeighborsClassifier(n_neighbors=k)\n",
        "\n",
        "    # Cross-validation on the training set\n",
        "    scores_train = cross_val_score(knn, X_train, Y_train, cv=10, scoring='accuracy')  # Adjust cv value as needed\n",
        "    cv_scores_train.append(scores_train.mean())\n",
        "\n",
        "    # Train the kNN model on the training data\n",
        "    knn.fit(X_train, Y_train)\n",
        "\n",
        "    # Evaluate the model on the test set\n",
        "    test_predictions = knn.predict(X_test)\n",
        "    test_accuracy = accuracy_score(Y_test, test_predictions)\n",
        "    cv_scores_test.append(test_accuracy)\n",
        "\n",
        "# Plotting the accuracy for different k values on both training and test sets\n",
        "plt.figure(figsize=(10, 6))\n",
        "plt.plot(k_values, cv_scores_train, marker='o', linestyle='dashed', color='blue', label='Train')\n",
        "plt.plot(k_values, cv_scores_test, marker='o', linestyle='dashed', color='red', label='Test')\n",
        "plt.title('Cross-Validation Accuracy follow by k Value')\n",
        "plt.xlabel('Number of Neighbors (k)')\n",
        "plt.ylabel('Cross-Validation Accuracy')\n",
        "plt.xticks(k_values)\n",
        "plt.legend()\n",
        "plt.show()"
      ],
      "metadata": {
        "colab": {
          "base_uri": "https://localhost:8080/",
          "height": 564
        },
        "id": "fPbSVB8MKRJG",
        "outputId": "05213563-75b0-4f42-d6e5-149a3e0f188d"
      },
      "execution_count": null,
      "outputs": [
        {
          "output_type": "display_data",
          "data": {
            "text/plain": [
              "<Figure size 1000x600 with 1 Axes>"
            ],
            "image/png": "[encoded data removed]"
          },
          "metadata": {}
        }
      ]
    },
    {
      "cell_type": "code",
      "source": [
        "#select k = 14\n",
        "\n",
        "knn_overfitting = KNeighborsClassifier(n_neighbors=14)\n",
        "\n",
        "\n",
        "knn_overfitting.fit(X_train, Y_train)\n",
        "\n",
        "# Predict on the training set\n",
        "train_predictions_overfitting = knn_overfitting.predict(X_train)\n",
        "\n",
        "# Evaluate performance on the training set\n",
        "train_accuracy_kNN_overfitting = accuracy_score(Y_train, train_predictions_overfitting)\n",
        "print(\"Training Set Accuracy after using avoid overfitting:\", train_accuracy_kNN_overfitting)\n",
        "\n",
        "# Predict on the test set\n",
        "test_predictions_overfitting = knn_overfitting.predict(X_test)\n",
        "\n",
        "# Evaluate performance on the test set\n",
        "test_accuracy_kNN_overfitting = accuracy_score(Y_test, test_predictions_overfitting)\n",
        "print(\"Test Set Accuracy after using avoid overfitting:\", test_accuracy_kNN_overfitting)\n",
        "\n",
        "# Classification report for test set\n",
        "print(\"\\nClassification Report after using avoid overfitting:\")\n",
        "print(classification_report(Y_test, test_predictions_overfitting))"
      ],
      "metadata": {
        "colab": {
          "base_uri": "https://localhost:8080/"
        },
        "id": "Yfnxbb7WC_mU",
        "outputId": "c8600a70-050b-4bc2-a213-7a6803ea920f"
      },
      "execution_count": null,
      "outputs": [
        {
          "output_type": "stream",
          "name": "stdout",
          "text": [
            "Training Set Accuracy after using avoid overfitting: 0.9166666666666666\n",
            "Test Set Accuracy after using avoid overfitting: 0.8974358974358975\n",
            "\n",
            "Classification Report after using avoid overfitting:\n",
            "              precision    recall  f1-score   support\n",
            "\n",
            "           0       0.70      0.88      0.78         8\n",
            "           1       0.97      0.90      0.93        31\n",
            "\n",
            "    accuracy                           0.90        39\n",
            "   macro avg       0.83      0.89      0.86        39\n",
            "weighted avg       0.91      0.90      0.90        39\n",
            "\n"
          ]
        }
      ]
    },
    {
      "cell_type": "code",
      "source": [
        "from sklearn.ensemble import StackingClassifier"
      ],
      "metadata": {
        "id": "wzW9Fkwtz997"
      },
      "execution_count": null,
      "outputs": []
    },
    {
      "cell_type": "code",
      "source": [
        "from sklearn.linear_model import LogisticRegression\n",
        "\n",
        "# Create a Logistic Regression classifier\n",
        "logistic_reg = LogisticRegression()\n",
        "\n",
        "# Train the model on the training data\n",
        "logistic_reg.fit(X_train, Y_train)\n",
        "\n",
        "# Predict on the training set\n",
        "train_predictions = logistic_reg.predict(X_train)\n",
        "\n",
        "# Evaluate performance on the training set\n",
        "train_accuracy_lr = accuracy_score(Y_train, train_predictions)\n",
        "print(\"Training Set Accuracy:\", train_accuracy_lr)\n",
        "\n",
        "# Predict on the test set\n",
        "test_predictions = logistic_reg.predict(X_test)\n",
        "\n",
        "# Evaluate performance on the test set\n",
        "test_accuracy_lr = accuracy_score(Y_test, test_predictions)\n",
        "print(\"Test Set Accuracy:\", test_accuracy_lr)\n",
        "\n",
        "# Classification report for test set\n",
        "print(\"\\nClassification Report:\")\n",
        "print(classification_report(Y_test, test_predictions))"
      ],
      "metadata": {
        "colab": {
          "base_uri": "https://localhost:8080/"
        },
        "id": "JnjIowii7vDw",
        "outputId": "2713cf60-25c3-4d76-b796-17af46943b4c"
      },
      "execution_count": null,
      "outputs": [
        {
          "output_type": "stream",
          "name": "stdout",
          "text": [
            "Training Set Accuracy: 0.8717948717948718\n",
            "Test Set Accuracy: 0.8205128205128205\n",
            "\n",
            "Classification Report:\n",
            "              precision    recall  f1-score   support\n",
            "\n",
            "           0       0.56      0.62      0.59         8\n",
            "           1       0.90      0.87      0.89        31\n",
            "\n",
            "    accuracy                           0.82        39\n",
            "   macro avg       0.73      0.75      0.74        39\n",
            "weighted avg       0.83      0.82      0.82        39\n",
            "\n"
          ]
        }
      ]
    },
    {
      "cell_type": "code",
      "source": [
        "# Define a range of C values to explore\n",
        "c_values = [0.001, 0.01, 0.1, 1, 10, 100]\n",
        "\n",
        "# Empty lists to store accuracy scores\n",
        "train_accuracy_scores = []\n",
        "test_accuracy_scores = []\n",
        "\n",
        "# Iterate over each C value\n",
        "for c in c_values:\n",
        "    # Create a Logistic Regression classifier with the current C value\n",
        "    logistic_reg = LogisticRegression(C=c)\n",
        "\n",
        "    # Train the model on the training data\n",
        "    logistic_reg.fit(X_train, Y_train)\n",
        "\n",
        "    # Predict on the training set and calculate accuracy\n",
        "    train_predictions = logistic_reg.predict(X_train)\n",
        "    train_accuracy = accuracy_score(Y_train, train_predictions)\n",
        "    train_accuracy_scores.append(train_accuracy)\n",
        "\n",
        "    # Predict on the test set and calculate accuracy\n",
        "    test_predictions = logistic_reg.predict(X_test)\n",
        "    test_accuracy = accuracy_score(Y_test, test_predictions)\n",
        "    test_accuracy_scores.append(test_accuracy)\n",
        "\n",
        "# Find the index of the best C value based on test set accuracy\n",
        "best_c_index = np.argmax(test_accuracy_scores)\n",
        "best_c = c_values[best_c_index]\n",
        "\n",
        "# Plotting accuracy scores for different C values\n",
        "plt.figure(figsize=(10, 6))\n",
        "plt.plot(c_values, train_accuracy_scores, marker='o', linestyle='dashed', color='blue', label='Train')\n",
        "plt.plot(c_values, test_accuracy_scores, marker='o', linestyle='dashed', color='red', label='Test')\n",
        "plt.scatter(best_c, test_accuracy_scores[best_c_index], color='green', label=f'Best C: {best_c} (Test)', s=100)\n",
        "plt.title('Logistic Regression Accuracy vs. C Value')\n",
        "plt.xlabel('C Value')\n",
        "plt.ylabel('Accuracy')\n",
        "plt.xscale('log')  # Since C values are on a logarithmic scale\n",
        "plt.legend()\n",
        "plt.show()\n",
        "\n",
        "print(f\"The best C value with highest accuracy on the test data is: {best_c}\")"
      ],
      "metadata": {
        "colab": {
          "base_uri": "https://localhost:8080/",
          "height": 725
        },
        "id": "AaeX0y5fU7Uq",
        "outputId": "5481c5a4-41b2-4c15-d9ba-43965582c9da"
      },
      "execution_count": null,
      "outputs": [
        {
          "output_type": "stream",
          "name": "stderr",
          "text": [
            "/usr/local/lib/python3.10/dist-packages/sklearn/linear_model/_logistic.py:458: ConvergenceWarning: lbfgs failed to converge (status=1):\n",
            "STOP: TOTAL NO. of ITERATIONS REACHED LIMIT.\n",
            "\n",
            "Increase the number of iterations (max_iter) or scale the data as shown in:\n",
            "    https://scikit-learn.org/stable/modules/preprocessing.html\n",
            "Please also refer to the documentation for alternative solver options:\n",
            "    https://scikit-learn.org/stable/modules/linear_model.html#logistic-regression\n",
            "  n_iter_i = _check_optimize_result(\n"
          ]
        },
        {
          "output_type": "display_data",
          "data": {
            "text/plain": [
              "<Figure size 1000x600 with 1 Axes>"
            ],
            "image/png": "[encoded data removed]"
          },
          "metadata": {}
        },
        {
          "output_type": "stream",
          "name": "stdout",
          "text": [
            "The best C value with highest accuracy on the test data is: 0.01\n"
          ]
        }
      ]
    },
    {
      "cell_type": "code",
      "source": [
        "logistic_reg_overfitting = LogisticRegression(penalty='l2', C=best_c)\n",
        "\n",
        "# Train the model on the training data\n",
        "logistic_reg_overfitting.fit(X_train, Y_train)\n",
        "\n",
        "# Predict on the training set\n",
        "train_predictions_overfitting = logistic_reg_overfitting.predict(X_train)\n",
        "\n",
        "# Evaluate performance on the training set\n",
        "train_accuracy_lr_overfitting = accuracy_score(Y_train, train_predictions_overfitting)\n",
        "print(\"Training Set Accuracy:\", train_accuracy_lr_overfitting)\n",
        "\n",
        "# Predict on the test set\n",
        "test_predictions_overfitting = logistic_reg_overfitting.predict(X_test)\n",
        "\n",
        "# Evaluate performance on the test set\n",
        "test_accuracy_lr_overfitting = accuracy_score(Y_test, test_predictions_overfitting)\n",
        "print(\"Test Set Accuracy:\", test_accuracy_lr_overfitting)\n",
        "\n",
        "# Classification report for the test set\n",
        "print(\"\\nClassification Report:\")\n",
        "print(classification_report(Y_test, test_predictions_overfitting))"
      ],
      "metadata": {
        "colab": {
          "base_uri": "https://localhost:8080/"
        },
        "id": "zcLeet9WTvB9",
        "outputId": "61b6ae51-7d22-4be3-d2c0-87c8e5a16a31"
      },
      "execution_count": null,
      "outputs": [
        {
          "output_type": "stream",
          "name": "stdout",
          "text": [
            "Training Set Accuracy: 0.8461538461538461\n",
            "Test Set Accuracy: 0.8717948717948718\n",
            "\n",
            "Classification Report:\n",
            "              precision    recall  f1-score   support\n",
            "\n",
            "           0       1.00      0.38      0.55         8\n",
            "           1       0.86      1.00      0.93        31\n",
            "\n",
            "    accuracy                           0.87        39\n",
            "   macro avg       0.93      0.69      0.74        39\n",
            "weighted avg       0.89      0.87      0.85        39\n",
            "\n"
          ]
        }
      ]
    },
    {
      "cell_type": "code",
      "source": [
        "from sklearn.naive_bayes import GaussianNB\n",
        "\n",
        "# Create a Gaussian Naive Bayes classifier\n",
        "naive_bayes = GaussianNB()\n",
        "\n",
        "# Train the model on the training data\n",
        "naive_bayes.fit(X_train, Y_train)\n",
        "\n",
        "# Predict on the training set\n",
        "train_predictions = naive_bayes.predict(X_train)\n",
        "\n",
        "# Evaluate performance on the training set\n",
        "train_accuracy_nb = accuracy_score(Y_train, train_predictions)\n",
        "print(\"Training Set Accuracy:\", train_accuracy_nb)\n",
        "\n",
        "# Predict on the test set\n",
        "test_predictions = naive_bayes.predict(X_test)\n",
        "\n",
        "# Evaluate performance on the test set\n",
        "test_accuracy_nb = accuracy_score(Y_test, test_predictions)\n",
        "print(\"Test Set Accuracy:\", test_accuracy_nb)\n",
        "\n",
        "# Classification report for test set\n",
        "print(\"\\nClassification Report:\")\n",
        "print(classification_report(Y_test, test_predictions))\n"
      ],
      "metadata": {
        "colab": {
          "base_uri": "https://localhost:8080/"
        },
        "id": "QWQaf3Z59Ro9",
        "outputId": "6113009e-18fd-40b9-cfc4-f6303e51e1ec"
      },
      "execution_count": null,
      "outputs": [
        {
          "output_type": "stream",
          "name": "stdout",
          "text": [
            "Training Set Accuracy: 0.7243589743589743\n",
            "Test Set Accuracy: 0.6153846153846154\n",
            "\n",
            "Classification Report:\n",
            "              precision    recall  f1-score   support\n",
            "\n",
            "           0       0.35      1.00      0.52         8\n",
            "           1       1.00      0.52      0.68        31\n",
            "\n",
            "    accuracy                           0.62        39\n",
            "   macro avg       0.67      0.76      0.60        39\n",
            "weighted avg       0.87      0.62      0.65        39\n",
            "\n"
          ]
        }
      ]
    },
    {
      "cell_type": "code",
      "source": [
        "from sklearn.feature_selection import SelectKBest, f_classif\n",
        "k_values = list(range(1, X_train.shape[1] + 1))\n",
        "\n",
        "# Empty lists to store mean cross-validation scores for each k\n",
        "cv_scores_train = []\n",
        "cv_scores_test = []\n",
        "\n",
        "for k in k_values:\n",
        "    selector = SelectKBest(score_func=f_classif, k=k)\n",
        "    X_train_selected = selector.fit_transform(X_train, Y_train)\n",
        "    X_test_selected = selector.transform(X_test)\n",
        "\n",
        "    nb = GaussianNB()\n",
        "\n",
        "    # Perform cross-validation on training set\n",
        "    scores_train = cross_val_score(nb, X_train_selected, Y_train, cv=10, scoring='accuracy')\n",
        "    cv_scores_train.append(scores_train.mean())\n",
        "\n",
        "    # Fit the model on the entire training set\n",
        "    nb.fit(X_train_selected, Y_train)\n",
        "\n",
        "    # Evaluate on the test set\n",
        "    test_predictions = nb.predict(X_test_selected)\n",
        "    test_accuracy = accuracy_score(Y_test, test_predictions)\n",
        "    cv_scores_test.append(test_accuracy)\n",
        "\n",
        "# Plotting the accuracy for different k values on both training and test sets\n",
        "plt.figure(figsize=(10, 6))\n",
        "plt.plot(k_values, cv_scores_train, marker='o', linestyle='dashed', color='blue', label='Train')\n",
        "plt.plot(k_values, cv_scores_test, marker='o', linestyle='dashed', color='red', label='Test')\n",
        "plt.title('Cross-Validation Accuracy vs. k Value')\n",
        "plt.xlabel('Number of Features (k)')\n",
        "plt.ylabel('Cross-Validation Accuracy')\n",
        "plt.xticks(k_values)\n",
        "plt.legend()\n",
        "plt.show()\n",
        "best_k_index = np.argmax(cv_scores_test)\n",
        "best_k = k_values[best_k_index]\n",
        "\n",
        "print(f\"The best k value with highest accuracy on the test data is: {best_k}\")"
      ],
      "metadata": {
        "colab": {
          "base_uri": "https://localhost:8080/",
          "height": 581
        },
        "id": "qdlhaOgqVsHa",
        "outputId": "615011c3-67e5-471b-d507-f2f0ea1eeaba"
      },
      "execution_count": null,
      "outputs": [
        {
          "output_type": "display_data",
          "data": {
            "text/plain": [
              "<Figure size 1000x600 with 1 Axes>"
            ],
            "image/png": "[encoded data removed]"
          },
          "metadata": {}
        },
        {
          "output_type": "stream",
          "name": "stdout",
          "text": [
            "The best k value with highest accuracy on the test data is: 3\n"
          ]
        }
      ]
    },
    {
      "cell_type": "code",
      "source": [
        "selector = SelectKBest(score_func=f_classif, k=best_k)  # Adjust k as needed\n",
        "\n",
        "# Fit selector and transform the training and test sets\n",
        "X_train_selected = selector.fit_transform(X_train, Y_train)\n",
        "X_test_selected = selector.transform(X_test)\n",
        "\n",
        "# Create a Gaussian Naive Bayes classifier\n",
        "naive_bayes = GaussianNB()\n",
        "\n",
        "# Train the model on the selected features\n",
        "naive_bayes.fit(X_train_selected, Y_train)\n",
        "\n",
        "# Predict on the training set\n",
        "train_predictions = naive_bayes.predict(X_train_selected)\n",
        "\n",
        "# Evaluate performance on the training set\n",
        "train_accuracy_nb = accuracy_score(Y_train, train_predictions)\n",
        "print(\"Training Set Accuracy:\", train_accuracy_nb)\n",
        "\n",
        "# Predict on the test set using the selected features\n",
        "test_predictions = naive_bayes.predict(X_test_selected)\n",
        "\n",
        "# Evaluate performance on the test set\n",
        "test_accuracy_nb = accuracy_score(Y_test, test_predictions)\n",
        "print(\"Test Set Accuracy:\", test_accuracy_nb)\n",
        "\n",
        "# Classification report for the test set\n",
        "print(\"\\nClassification Report:\")\n",
        "print(classification_report(Y_test, test_predictions))"
      ],
      "metadata": {
        "colab": {
          "base_uri": "https://localhost:8080/"
        },
        "id": "8mBtaqcQWub7",
        "outputId": "776c3a8c-d9ab-4663-f17b-743fa7c866ea"
      },
      "execution_count": null,
      "outputs": [
        {
          "output_type": "stream",
          "name": "stdout",
          "text": [
            "Training Set Accuracy: 0.8012820512820513\n",
            "Test Set Accuracy: 0.7692307692307693\n",
            "\n",
            "Classification Report:\n",
            "              precision    recall  f1-score   support\n",
            "\n",
            "           0       0.45      0.62      0.53         8\n",
            "           1       0.89      0.81      0.85        31\n",
            "\n",
            "    accuracy                           0.77        39\n",
            "   macro avg       0.67      0.72      0.69        39\n",
            "weighted avg       0.80      0.77      0.78        39\n",
            "\n"
          ]
        }
      ]
    },
    {
      "cell_type": "code",
      "source": [
        "from sklearn.tree import DecisionTreeClassifier\n",
        "\n",
        "# Create a Decision Tree classifier\n",
        "decision_tree = DecisionTreeClassifier()\n",
        "\n",
        "# Train the model on the training data\n",
        "decision_tree.fit(X_train, Y_train)\n",
        "\n",
        "# Predict on the training set\n",
        "train_predictions = decision_tree.predict(X_train)\n",
        "\n",
        "# Evaluate performance on the training set\n",
        "train_accuracy_dt = accuracy_score(Y_train, train_predictions)\n",
        "print(\"Training Set Accuracy:\", train_accuracy_dt)\n",
        "\n",
        "# Predict on the test set\n",
        "test_predictions = decision_tree.predict(X_test)\n",
        "\n",
        "# Evaluate performance on the test set\n",
        "test_accuracy_dt = accuracy_score(Y_test, test_predictions)\n",
        "print(\"Test Set Accuracy:\", test_accuracy_dt)\n",
        "\n",
        "# Classification report for test set\n",
        "print(\"\\nClassification Report:\")\n",
        "print(classification_report(Y_test, test_predictions))"
      ],
      "metadata": {
        "colab": {
          "base_uri": "https://localhost:8080/"
        },
        "id": "oUrj9Rng9oOz",
        "outputId": "8cf69699-041b-46b0-f3e2-954f08eca2da"
      },
      "execution_count": null,
      "outputs": [
        {
          "output_type": "stream",
          "name": "stdout",
          "text": [
            "Training Set Accuracy: 1.0\n",
            "Test Set Accuracy: 0.7435897435897436\n",
            "\n",
            "Classification Report:\n",
            "              precision    recall  f1-score   support\n",
            "\n",
            "           0       0.44      0.88      0.58         8\n",
            "           1       0.96      0.71      0.81        31\n",
            "\n",
            "    accuracy                           0.74        39\n",
            "   macro avg       0.70      0.79      0.70        39\n",
            "weighted avg       0.85      0.74      0.77        39\n",
            "\n"
          ]
        }
      ]
    },
    {
      "cell_type": "code",
      "source": [
        "max_depth_values = range(1, 23)  # You can adjust the range\n",
        "\n",
        "# Lists to store accuracies on train and test sets for each max_depth\n",
        "train_accuracies = []\n",
        "test_accuracies = []\n",
        "\n",
        "# Iterate over different max_depth values\n",
        "for depth in max_depth_values:\n",
        "    # Create Decision Tree classifier with current max_depth\n",
        "    decision_tree = DecisionTreeClassifier(max_depth=depth)\n",
        "\n",
        "    # Train the model on the training data\n",
        "    decision_tree.fit(X_train, Y_train)\n",
        "\n",
        "    # Predict on the training set\n",
        "    train_predictions = decision_tree.predict(X_train)\n",
        "\n",
        "    # Evaluate performance on the training set\n",
        "    train_accuracy = accuracy_score(Y_train, train_predictions)\n",
        "    train_accuracies.append(train_accuracy)\n",
        "\n",
        "    # Predict on the test set\n",
        "    test_predictions = decision_tree.predict(X_test)\n",
        "\n",
        "    # Evaluate performance on the test set\n",
        "    test_accuracy = accuracy_score(Y_test, test_predictions)\n",
        "    test_accuracies.append(test_accuracy)\n",
        "\n",
        "# Plotting the accuracies for different max_depth values\n",
        "plt.plot(max_depth_values, train_accuracies, marker='o', label='Train')\n",
        "plt.plot(max_depth_values, test_accuracies, marker='o', label='Test')\n",
        "plt.xlabel('max_depth')\n",
        "plt.ylabel('Accuracy')\n",
        "plt.title('Accuracy vs. max_depth')\n",
        "plt.legend()\n",
        "plt.show()\n",
        "best_max_depth = max_depth_values[test_accuracies.index(max(test_accuracies))]\n",
        "print(f\"Best max_depth: {best_max_depth}\")"
      ],
      "metadata": {
        "colab": {
          "base_uri": "https://localhost:8080/",
          "height": 489
        },
        "id": "hKKcEYLWY3xs",
        "outputId": "6d548d35-906e-4cfa-ff9d-8aa053ea4c80"
      },
      "execution_count": null,
      "outputs": [
        {
          "output_type": "display_data",
          "data": {
            "text/plain": [
              "<Figure size 640x480 with 1 Axes>"
            ],
            "image/png": "[encoded data removed]"
          },
          "metadata": {}
        },
        {
          "output_type": "stream",
          "name": "stdout",
          "text": [
            "Best max_depth: 1\n"
          ]
        }
      ]
    },
    {
      "cell_type": "code",
      "source": [
        "# Create a Decision Tree classifier with the best max_depth\n",
        "best_decision_tree = DecisionTreeClassifier(max_depth=1)\n",
        "\n",
        "# Train the model on the training data\n",
        "best_decision_tree.fit(X_train, Y_train)\n",
        "\n",
        "# Predict on the training set\n",
        "train_predictions = best_decision_tree.predict(X_train)\n",
        "\n",
        "# Evaluate performance on the training set\n",
        "train_accuracy = accuracy_score(Y_train, train_predictions)\n",
        "print(\"Training Set Accuracy:\", train_accuracy)\n",
        "\n",
        "# Predict on the test set\n",
        "test_predictions = best_decision_tree.predict(X_test)\n",
        "\n",
        "# Evaluate performance on the test set\n",
        "test_accuracy = accuracy_score(Y_test, test_predictions)\n",
        "print(\"Test Set Accuracy:\", test_accuracy)\n"
      ],
      "metadata": {
        "id": "VfWjdQ3_ZQyV",
        "colab": {
          "base_uri": "https://localhost:8080/"
        },
        "outputId": "1160bf5a-09f7-4f2c-b047-c9283991d519"
      },
      "execution_count": null,
      "outputs": [
        {
          "output_type": "stream",
          "name": "stdout",
          "text": [
            "Training Set Accuracy: 0.8846153846153846\n",
            "Test Set Accuracy: 0.7948717948717948\n"
          ]
        }
      ]
    },
    {
      "cell_type": "code",
      "source": [
        "from sklearn.ensemble import StackingClassifier\n",
        "meta_classifier = LogisticRegression()\n",
        "stacking_classifier = StackingClassifier(\n",
        "    estimators=[\n",
        "        ('knn', knn_overfitting),\n",
        "        ('lr', logistic_reg_overfitting),\n",
        "        ('nb', naive_bayes),\n",
        "        ('dt', best_decision_tree)\n",
        "    ],\n",
        "    final_estimator=meta_classifier\n",
        ")\n",
        "\n",
        "# Train the stacking classifier\n",
        "stacking_classifier.fit(X_train, Y_train)\n",
        "\n",
        "# Predict on the test set\n",
        "test_predictions_stacking = stacking_classifier.predict(X_test)\n",
        "\n",
        "# Evaluate performance on the test set\n",
        "test_accuracy_stacking = accuracy_score(Y_test, test_predictions_stacking)\n",
        "print(\"Test Set Accuracy (Stacking):\", test_accuracy_stacking)\n",
        "\n",
        "# Classification report for the test set\n",
        "print(\"\\nClassification Report (Stacking):\")\n",
        "print(classification_report(Y_test, test_predictions_stacking))"
      ],
      "metadata": {
        "id": "BW8bSWMx0uNu",
        "colab": {
          "base_uri": "https://localhost:8080/"
        },
        "outputId": "ab931812-9ce0-4f59-b258-41388012b7fc"
      },
      "execution_count": null,
      "outputs": [
        {
          "output_type": "stream",
          "name": "stdout",
          "text": [
            "Test Set Accuracy (Stacking): 0.7948717948717948\n",
            "\n",
            "Classification Report (Stacking):\n",
            "              precision    recall  f1-score   support\n",
            "\n",
            "           0       0.50      0.38      0.43         8\n",
            "           1       0.85      0.90      0.88        31\n",
            "\n",
            "    accuracy                           0.79        39\n",
            "   macro avg       0.67      0.64      0.65        39\n",
            "weighted avg       0.78      0.79      0.78        39\n",
            "\n"
          ]
        }
      ]
    },
    {
      "cell_type": "code",
      "source": [
        "from sklearn.model_selection import GridSearchCV\n",
        "\n",
        "# Define the parameter grid for hyperparameter tuning\n",
        "param_grid = {\n",
        "    'knn__n_neighbors': [5, 10, 15],\n",
        "    'lr__C': [0.1, 1, 10],\n",
        "    'dt__max_depth': [1, 2, 3],\n",
        "    'final_estimator__C': [0.1, 1, 10]\n",
        "}\n",
        "\n",
        "# Create the stacking classifier\n",
        "stacking_classifier = StackingClassifier(\n",
        "    estimators=[\n",
        "         ('knn', knn_overfitting),\n",
        "        ('lr', logistic_reg_overfitting),\n",
        "        ('nb', naive_bayes),\n",
        "        ('dt', best_decision_tree)\n",
        "    ],\n",
        "    final_estimator=LogisticRegression()\n",
        ")\n",
        "\n",
        "# Perform grid search for hyperparameter tuning\n",
        "grid_search = GridSearchCV(stacking_classifier, param_grid, cv=5)\n",
        "grid_search.fit(X_train, Y_train)\n",
        "\n",
        "# Get the best stacking classifier from grid search\n",
        "best_stacking_classifier = grid_search.best_estimator_\n",
        "\n",
        "# Evaluate performance on the test set\n",
        "test_predictions_stacking = best_stacking_classifier.predict(X_test)\n",
        "test_accuracy_stacking = accuracy_score(Y_test, test_predictions_stacking)\n",
        "print(\"Test Set Accuracy (Stacking):\", test_accuracy_stacking)\n",
        "\n",
        "# Classification report for the test set\n",
        "print(\"\\nClassification Report (Stacking):\")\n",
        "print(classification_report(Y_test, test_predictions_stacking))\n"
      ],
      "metadata": {
        "colab": {
          "base_uri": "https://localhost:8080/"
        },
        "id": "ZTjzAtdr8BXG",
        "outputId": "18283b83-1c0b-4b18-833c-f80d34c15196"
      },
      "execution_count": null,
      "outputs": [
        {
          "output_type": "stream",
          "name": "stdout",
          "text": [
            "Test Set Accuracy (Stacking): 0.7948717948717948\n",
            "\n",
            "Classification Report (Stacking):\n",
            "              precision    recall  f1-score   support\n",
            "\n",
            "           0       0.50      0.88      0.64         8\n",
            "           1       0.96      0.77      0.86        31\n",
            "\n",
            "    accuracy                           0.79        39\n",
            "   macro avg       0.73      0.82      0.75        39\n",
            "weighted avg       0.87      0.79      0.81        39\n",
            "\n"
          ]
        }
      ]
    },
    {
      "cell_type": "markdown",
      "source": [
        "Evaluation for regression"
      ],
      "metadata": {
        "id": "-VQOR65V_Y-H"
      }
    },
    {
      "cell_type": "code",
      "source": [
        "from sklearn.svm import SVR\n",
        "\n",
        "# Create an SVR model\n",
        "svm_regressor = SVR(kernel='rbf')\n",
        "\n",
        "# Train the model on the training data\n",
        "svm_regressor.fit(X_train, Y_train)\n",
        "\n",
        "# Predict on the training set\n",
        "train_predictions = svm_regressor.predict(X_train)\n",
        "\n",
        "# Evaluate performance on the training set\n",
        "train_rmse_svr = mean_squared_error(Y_train, train_predictions, squared=False)\n",
        "train_r2_svr = r2_score(Y_train, train_predictions)\n",
        "print(\"Training Set RMSE:\", train_rmse_svr)\n",
        "print(\"Training Set R-squared:\", train_r2_svr)\n",
        "\n",
        "# Predict on the test set\n",
        "test_predictions = svm_regressor.predict(X_test)\n",
        "\n",
        "# Evaluate performance on the test set\n",
        "test_rmse_svr = mean_squared_error(Y_test, test_predictions, squared=False)\n",
        "test_r2_svr = r2_score(Y_test, test_predictions)\n",
        "print(\"\\nTest Set RMSE:\", test_rmse_svr)\n",
        "print(\"Test Set R-squared:\", test_r2_svr)\n"
      ],
      "metadata": {
        "id": "FdzUHX-rT2qk",
        "colab": {
          "base_uri": "https://localhost:8080/"
        },
        "outputId": "e09809eb-ce2a-4b23-f10c-bd14e4d49c08"
      },
      "execution_count": null,
      "outputs": [
        {
          "output_type": "stream",
          "name": "stdout",
          "text": [
            "Training Set RMSE: 0.22094211974258868\n",
            "Training Set R-squared: 0.7439715371023246\n",
            "\n",
            "Test Set RMSE: 0.31443119900170863\n",
            "Test Set R-squared: 0.39364243985686764\n"
          ]
        }
      ]
    },
    {
      "cell_type": "code",
      "source": [
        "from sklearn.model_selection import GridSearchCV\n",
        "C_values = [0.001, 0.01, 0.1, 1, 10, 100]\n",
        "kernels = ['linear', 'poly', 'rbf']\n",
        "rmse_matrix = np.zeros((len(C_values), len(kernels)))\n",
        "r2_matrix = np.zeros((len(C_values), len(kernels)))\n",
        "# Perform GridSearchCV for hyperparameter tuning\n",
        "for i, C in enumerate(C_values):\n",
        "    for j, kernel in enumerate(kernels):\n",
        "        svm_regressor = SVR(C=C, kernel=kernel)\n",
        "        svm_regressor.fit(X_train, Y_train)\n",
        "        test_predictions = svm_regressor.predict(X_test)\n",
        "        rmse = mean_squared_error(Y_test, test_predictions, squared=False)\n",
        "        r2 = r2_score(Y_test, test_predictions)\n",
        "        rmse_matrix[i, j] = rmse\n",
        "        r2_matrix[i, j] = r2\n",
        "\n",
        "# Plotting the heatmap\n",
        "plt.figure(figsize=(12, 6))\n",
        "plt.subplot(1, 2, 1)\n",
        "plt.imshow(rmse_matrix, cmap='viridis', interpolation='nearest')\n",
        "plt.colorbar(label='RMSE')\n",
        "plt.xlabel('Kernel')\n",
        "plt.ylabel('C')\n",
        "plt.title('Grid Search Results for SVR (RMSE)')\n",
        "plt.xticks(np.arange(len(kernels)), kernels)\n",
        "plt.yticks(np.arange(len(C_values)), C_values)\n",
        "plt.gca().invert_yaxis()  # Invert y-axis to match the order of C values\n",
        "\n",
        "plt.subplot(1, 2, 2)\n",
        "plt.imshow(r2_matrix, cmap='viridis', interpolation='nearest')\n",
        "plt.colorbar(label='R-squared')\n",
        "plt.xlabel('Kernel')\n",
        "plt.ylabel('C')\n",
        "plt.title('Grid Search Results for SVR (R-squared)')\n",
        "plt.xticks(np.arange(len(kernels)), kernels)\n",
        "plt.yticks(np.arange(len(C_values)), C_values)\n",
        "plt.gca().invert_yaxis()  # Invert y-axis to match the order of C values\n",
        "\n",
        "plt.tight_layout()\n",
        "plt.show()"
      ],
      "metadata": {
        "id": "FVLXF4U9Z97S",
        "colab": {
          "base_uri": "https://localhost:8080/",
          "height": 607
        },
        "outputId": "a92be1e2-94df-4a73-c000-8aef18ac50bf"
      },
      "execution_count": null,
      "outputs": [
        {
          "output_type": "display_data",
          "data": {
            "text/plain": [
              "<Figure size 1200x600 with 4 Axes>"
            ],
            "image/png": "[encoded data removed]"
          },
          "metadata": {}
        }
      ]
    },
    {
      "cell_type": "code",
      "source": [
        "best_svr = SVR(kernel='poly', C=1)\n",
        "best_svr.fit(X_train, Y_train)\n",
        "\n",
        "# Evaluate performance on the test set\n",
        "test_predictions = best_svr.predict(X_test)\n",
        "test_rmse_svr = mean_squared_error(Y_test, test_predictions, squared=False)\n",
        "test_r2_svr = r2_score(Y_test, test_predictions)\n",
        "\n",
        "print(\"Test Set RMSE:\", test_rmse_svr)\n",
        "print(\"Test Set R-squared:\", test_r2_svr)"
      ],
      "metadata": {
        "id": "rgcWpSSPcO6r",
        "colab": {
          "base_uri": "https://localhost:8080/"
        },
        "outputId": "2b7c8049-750f-4d04-bd30-f579883d7b93"
      },
      "execution_count": null,
      "outputs": [
        {
          "output_type": "stream",
          "name": "stdout",
          "text": [
            "Test Set RMSE: 0.3019278488163212\n",
            "Test Set R-squared: 0.4409072266936095\n"
          ]
        }
      ]
    },
    {
      "cell_type": "code",
      "source": [
        "from sklearn.linear_model import LinearRegression\n",
        "\n",
        "# Create a Linear Regression model\n",
        "linear_regressor = LinearRegression()\n",
        "\n",
        "# Train the model on the training data\n",
        "linear_regressor.fit(X_train, Y_train)\n",
        "\n",
        "# Predict on the training set\n",
        "train_predictions = linear_regressor.predict(X_train)\n",
        "\n",
        "# Evaluate performance on the training set\n",
        "train_rmse_lir = mean_squared_error(Y_train, train_predictions, squared=False)\n",
        "train_r2_lir = r2_score(Y_train, train_predictions)\n",
        "print(\"Training Set RMSE:\", train_rmse_lir)\n",
        "print(\"Training Set R-squared:\", train_r2_lir)\n",
        "\n",
        "# Predict on the test set\n",
        "test_predictions = linear_regressor.predict(X_test)\n",
        "\n",
        "# Evaluate performance on the test set\n",
        "test_rmse_lir = mean_squared_error(Y_test, test_predictions, squared=False)\n",
        "test_r2_lir = r2_score(Y_test, test_predictions)\n",
        "print(\"\\nTest Set RMSE:\", test_rmse_lir)\n",
        "print(\"Test Set R-squared:\", test_r2_lir)\n",
        "\n"
      ],
      "metadata": {
        "id": "LFKCPcGrdnVj",
        "colab": {
          "base_uri": "https://localhost:8080/"
        },
        "outputId": "a05cf8e4-8107-4237-d617-63e49b11a8ea"
      },
      "execution_count": null,
      "outputs": [
        {
          "output_type": "stream",
          "name": "stdout",
          "text": [
            "Training Set RMSE: 0.2929078736208478\n",
            "Training Set R-squared: 0.5500198996046874\n",
            "\n",
            "Test Set RMSE: 0.3793886062341583\n",
            "Test Set R-squared: 0.11723297654922549\n"
          ]
        }
      ]
    },
    {
      "cell_type": "code",
      "source": [
        "from sklearn.linear_model import Ridge\n",
        "\n",
        "# Define a range of alpha values to search\n",
        "alphas = [0.001, 0.01, 0.1, 1, 10, 100]  # Adjust the range as needed\n",
        "\n",
        "train_rmse_scores = []\n",
        "test_rmse_scores = []\n",
        "train_r2_scores = []\n",
        "test_r2_scores = []\n",
        "\n",
        "for alpha in alphas:\n",
        "    # Create Ridge regression model\n",
        "    ridge = Ridge(alpha=alpha)\n",
        "\n",
        "    # Train the model on the training data\n",
        "    ridge.fit(X_train, Y_train)\n",
        "\n",
        "    # Predict on training set and calculate RMSE and R-squared\n",
        "    train_predictions = ridge.predict(X_train)\n",
        "    train_rmse = np.sqrt(mean_squared_error(Y_train, train_predictions))\n",
        "    train_r2 = r2_score(Y_train, train_predictions)\n",
        "    train_rmse_scores.append(train_rmse)\n",
        "    train_r2_scores.append(train_r2)\n",
        "\n",
        "    # Predict on test set and calculate RMSE and R-squared\n",
        "    test_predictions = ridge.predict(X_test)\n",
        "    test_rmse = np.sqrt(mean_squared_error(Y_test, test_predictions))\n",
        "    test_r2 = r2_score(Y_test, test_predictions)\n",
        "    test_rmse_scores.append(test_rmse)\n",
        "    test_r2_scores.append(test_r2)\n",
        "\n",
        "# Plotting RMSE scores for different alpha values\n",
        "plt.figure(figsize=(12, 5))\n",
        "\n",
        "plt.subplot(1, 2, 1)\n",
        "plt.plot(alphas, train_rmse_scores, marker='o', label='Train RMSE')\n",
        "plt.plot(alphas, test_rmse_scores, marker='o', label='Test RMSE')\n",
        "plt.xscale('log')\n",
        "plt.xlabel('Alpha')\n",
        "plt.ylabel('RMSE')\n",
        "plt.title('Ridge Regression: RMSE vs. Alpha')\n",
        "plt.legend()\n",
        "\n",
        "# Plotting R-squared scores for different alpha values\n",
        "plt.subplot(1, 2, 2)\n",
        "plt.plot(alphas, train_r2_scores, marker='o', label='Train R-squared')\n",
        "plt.plot(alphas, test_r2_scores, marker='o', label='Test R-squared')\n",
        "plt.xscale('log')\n",
        "plt.xlabel('Alpha')\n",
        "plt.ylabel('R-squared')\n",
        "plt.title('Ridge Regression: R-squared vs. Alpha')\n",
        "plt.legend()\n",
        "\n",
        "plt.tight_layout()\n",
        "plt.show()\n"
      ],
      "metadata": {
        "id": "97Vk58Kbdv1K",
        "colab": {
          "base_uri": "https://localhost:8080/",
          "height": 457
        },
        "outputId": "13bd11c2-8292-4cda-9c02-894acd4dd073"
      },
      "execution_count": null,
      "outputs": [
        {
          "output_type": "display_data",
          "data": {
            "text/plain": [
              "<Figure size 1200x500 with 2 Axes>"
            ],
            "image/png": "[encoded data removed]"
          },
          "metadata": {}
        }
      ]
    },
    {
      "cell_type": "code",
      "source": [
        "ridge_regressor = Ridge(alpha=100)  # Adjust alpha (regularization strength) as needed\n",
        "\n",
        "# Train the model on the training data\n",
        "ridge_regressor.fit(X_train, Y_train)\n",
        "\n",
        "# Predict on the training set\n",
        "train_predictions = ridge_regressor.predict(X_train)\n",
        "\n",
        "# Evaluate performance on the training set\n",
        "train_rmse_ridge = mean_squared_error(Y_train, train_predictions, squared=False)\n",
        "train_r2_ridge = r2_score(Y_train, train_predictions)\n",
        "print(\"Training Set RMSE (Ridge):\", train_rmse_ridge)\n",
        "print(\"Training Set R-squared (Ridge):\", train_r2_ridge)\n",
        "\n",
        "# Predict on the test set\n",
        "test_predictions = ridge_regressor.predict(X_test)\n",
        "\n",
        "# Evaluate performance on the test set\n",
        "test_rmse_ridge = mean_squared_error(Y_test, test_predictions, squared=False)\n",
        "test_r2_ridge = r2_score(Y_test, test_predictions)\n",
        "print(\"\\nTest Set RMSE (Ridge):\", test_rmse_ridge)\n",
        "print(\"Test Set R-squared (Ridge):\", test_r2_ridge)"
      ],
      "metadata": {
        "id": "ESWCvoECe32T",
        "colab": {
          "base_uri": "https://localhost:8080/"
        },
        "outputId": "8056be49-2ec8-4260-eaf6-7cb412e13673"
      },
      "execution_count": null,
      "outputs": [
        {
          "output_type": "stream",
          "name": "stdout",
          "text": [
            "Training Set RMSE (Ridge): 0.3318029821983383\n",
            "Training Set R-squared (Ridge): 0.4225800479569789\n",
            "\n",
            "Test Set RMSE (Ridge): 0.3513160400362367\n",
            "Test Set R-squared (Ridge): 0.2430390236296952\n"
          ]
        }
      ]
    },
    {
      "cell_type": "code",
      "source": [
        "from sklearn.ensemble import RandomForestRegressor\n",
        "\n",
        "# Create a Random Forest Regressor model\n",
        "random_forest_regressor = RandomForestRegressor(random_state=42)\n",
        "\n",
        "# Train the model on the training data\n",
        "random_forest_regressor.fit(X_train, Y_train)\n",
        "\n",
        "# Predict on the training set\n",
        "train_predictions = random_forest_regressor.predict(X_train)\n",
        "\n",
        "# Evaluate performance on the training set\n",
        "train_rmse_rr = mean_squared_error(Y_train, train_predictions, squared=False)\n",
        "train_r2_rr = r2_score(Y_train, train_predictions)\n",
        "print(\"Training Set RMSE:\", train_rmse_rr)\n",
        "print(\"Training Set R-squared:\", train_r2_rr)\n",
        "\n",
        "# Predict on the test set\n",
        "test_predictions = random_forest_regressor.predict(X_test)\n",
        "\n",
        "# Evaluate performance on the test set\n",
        "test_rmse_rr = mean_squared_error(Y_test, test_predictions, squared=False)\n",
        "test_r2_rr = r2_score(Y_test, test_predictions)\n",
        "print(\"\\nTest Set RMSE:\", test_rmse_rr)\n",
        "print(\"Test Set R-squared:\", test_r2_rr)\n"
      ],
      "metadata": {
        "id": "wR5y2jHB_GNg",
        "colab": {
          "base_uri": "https://localhost:8080/"
        },
        "outputId": "02427989-d8ac-448a-cf43-4c758c642a39"
      },
      "execution_count": null,
      "outputs": [
        {
          "output_type": "stream",
          "name": "stdout",
          "text": [
            "Training Set RMSE: 0.10099504938362078\n",
            "Training Set R-squared: 0.9465027586206897\n",
            "\n",
            "Test Set RMSE: 0.3223034085756575\n",
            "Test Set R-squared: 0.3629004032258064\n"
          ]
        }
      ]
    },
    {
      "cell_type": "code",
      "source": [
        "# Define the hyperparameters for the grid search\n",
        "param_grid = {\n",
        "    'max_depth': [5, 10, 15, 20, 25],  # Adjust the range as needed\n",
        "    'n_estimators': [50, 100, 150, 200]  # Adjust the range as needed\n",
        "}\n",
        "\n",
        "# Create a Random Forest Regressor model\n",
        "random_forest_regressor = RandomForestRegressor(random_state=42)\n",
        "\n",
        "# Perform GridSearchCV\n",
        "grid_search = GridSearchCV(estimator=random_forest_regressor, param_grid=param_grid,\n",
        "                           scoring=['neg_mean_squared_error', 'r2'], refit='neg_mean_squared_error', cv=5)\n",
        "grid_search.fit(X_train, Y_train)\n",
        "\n",
        "# Extract the results\n",
        "results = grid_search.cv_results_\n",
        "rmse_scores = -results['mean_test_neg_mean_squared_error'].reshape(len(param_grid['max_depth']), -1)\n",
        "r2_scores = results['mean_test_r2'].reshape(len(param_grid['max_depth']), -1)\n",
        "\n",
        "# Plotting RMSE heatmap\n",
        "plt.figure(figsize=(10, 6))\n",
        "plt.imshow(rmse_scores, cmap='viridis', interpolation='nearest')\n",
        "plt.colorbar(label='RMSE')\n",
        "plt.xlabel('n_estimators')\n",
        "plt.ylabel('max_depth')\n",
        "plt.title('Grid Search Results for RandomForestRegressor (RMSE)')\n",
        "plt.xticks(np.arange(len(param_grid['n_estimators'])), param_grid['n_estimators'])\n",
        "plt.yticks(np.arange(len(param_grid['max_depth'])), param_grid['max_depth'])\n",
        "plt.gca().invert_yaxis()  # Invert y-axis to match the order of max_depth values\n",
        "plt.show()\n",
        "\n",
        "# Plotting R-squared heatmap\n",
        "plt.figure(figsize=(10, 6))\n",
        "plt.imshow(r2_scores, cmap='viridis', interpolation='nearest')\n",
        "plt.colorbar(label='R-squared')\n",
        "plt.xlabel('n_estimators')\n",
        "plt.ylabel('max_depth')\n",
        "plt.title('Grid Search Results for RandomForestRegressor (R-squared)')\n",
        "plt.xticks(np.arange(len(param_grid['n_estimators'])), param_grid['n_estimators'])\n",
        "plt.yticks(np.arange(len(param_grid['max_depth'])), param_grid['max_depth'])\n",
        "plt.gca().invert_yaxis()  # Invert y-axis to match the order of max_depth values\n",
        "plt.show()\n",
        "\n",
        "# Best hyperparameters\n",
        "best_params = grid_search.best_params_\n",
        "print(\"Best Parameters:\", best_params)"
      ],
      "metadata": {
        "id": "fLhPLNzfgKX9",
        "colab": {
          "base_uri": "https://localhost:8080/",
          "height": 1000
        },
        "outputId": "a0ae93ff-3562-4aed-ee06-884aaed62c8d"
      },
      "execution_count": null,
      "outputs": [
        {
          "output_type": "display_data",
          "data": {
            "text/plain": [
              "<Figure size 1000x600 with 2 Axes>"
            ],
            "image/png": "[encoded data removed]"
          },
          "metadata": {}
        },
        {
          "output_type": "display_data",
          "data": {
            "text/plain": [
              "<Figure size 1000x600 with 2 Axes>"
            ],
            "image/png": "[encoded data removed]"
          },
          "metadata": {}
        },
        {
          "output_type": "stream",
          "name": "stdout",
          "text": [
            "Best Parameters: {'max_depth': 10, 'n_estimators': 100}\n"
          ]
        }
      ]
    },
    {
      "cell_type": "code",
      "source": [
        "# Create a Random Forest Regressor model\n",
        "random_forest_regressor = RandomForestRegressor(max_depth=10, random_state=42)\n",
        "\n",
        "# Train the model on the training data\n",
        "random_forest_regressor.fit(X_train, Y_train)\n",
        "\n",
        "# Predict on the training set\n",
        "train_predictions = random_forest_regressor.predict(X_train)\n",
        "\n",
        "# Evaluate performance on the training set\n",
        "train_rmse_rr = mean_squared_error(Y_train, train_predictions, squared=False)\n",
        "train_r2_rr = r2_score(Y_train, train_predictions)\n",
        "print(\"Training Set RMSE:\", train_rmse_rr)\n",
        "print(\"Training Set R-squared:\", train_r2_rr)\n",
        "\n",
        "# Predict on the test set\n",
        "test_predictions = random_forest_regressor.predict(X_test)\n",
        "\n",
        "# Evaluate performance on the test set\n",
        "test_rmse_rr = mean_squared_error(Y_test, test_predictions, squared=False)\n",
        "test_r2_rr = r2_score(Y_test, test_predictions)\n",
        "print(\"\\nTest Set RMSE:\", test_rmse_rr)\n",
        "print(\"Test Set R-squared:\", test_r2_rr)"
      ],
      "metadata": {
        "id": "F4GxNMBMlPCz",
        "colab": {
          "base_uri": "https://localhost:8080/"
        },
        "outputId": "016410a5-fa40-456d-ca9c-39874158d05a"
      },
      "execution_count": null,
      "outputs": [
        {
          "output_type": "stream",
          "name": "stdout",
          "text": [
            "Training Set RMSE: 0.10099504938362078\n",
            "Training Set R-squared: 0.9465027586206897\n",
            "\n",
            "Test Set RMSE: 0.3223034085756575\n",
            "Test Set R-squared: 0.3629004032258064\n"
          ]
        }
      ]
    },
    {
      "cell_type": "code",
      "source": [
        "# Create a DataFrame to display test accuracy scores for each model\n",
        "test_accuracy_df = pd.DataFrame({\n",
        "    'Model': ['kNN', 'Logistic Regression', 'GaussianNB', 'Decision Trees'],\n",
        "    'Test Accuracy': [test_accuracy_kNN  * 100, test_accuracy_lr * 100, test_accuracy_nb * 100, test_accuracy_dt * 100]\n",
        "})\n",
        "test_accuracy_df"
      ],
      "metadata": {
        "id": "dxUheUXLSVdX",
        "colab": {
          "base_uri": "https://localhost:8080/",
          "height": 175
        },
        "outputId": "add7e029-da94-4123-e464-c1c0b05e2c59"
      },
      "execution_count": null,
      "outputs": [
        {
          "output_type": "execute_result",
          "data": {
            "text/plain": [
              "                 Model  Test Accuracy\n",
              "0                  kNN      87.179487\n",
              "1  Logistic Regression      82.051282\n",
              "2           GaussianNB      76.923077\n",
              "3       Decision Trees      74.358974"
            ],
            "text/html": [
              "\n",
              "  <div id=\"df-43317b6e-7bf4-49e4-b190-5ef05499f895\" class=\"colab-df-container\">\n",
              "    <div>\n",
              "<style scoped>\n",
              "    .dataframe tbody tr th:only-of-type {\n",
              "        vertical-align: middle;\n",
              "    }\n",
              "\n",
              "    .dataframe tbody tr th {\n",
              "        vertical-align: top;\n",
              "    }\n",
              "\n",
              "    .dataframe thead th {\n",
              "        text-align: right;\n",
              "    }\n",
              "</style>\n",
              "<table border=\"1\" class=\"dataframe\">\n",
              "  <thead>\n",
              "    <tr style=\"text-align: right;\">\n",
              "      <th></th>\n",
              "      <th>Model</th>\n",
              "      <th>Test Accuracy</th>\n",
              "    </tr>\n",
              "  </thead>\n",
              "  <tbody>\n",
              "    <tr>\n",
              "      <th>0</th>\n",
              "      <td>kNN</td>\n",
              "      <td>87.179487</td>\n",
              "    </tr>\n",
              "    <tr>\n",
              "      <th>1</th>\n",
              "      <td>Logistic Regression</td>\n",
              "      <td>82.051282</td>\n",
              "    </tr>\n",
              "    <tr>\n",
              "      <th>2</th>\n",
              "      <td>GaussianNB</td>\n",
              "      <td>76.923077</td>\n",
              "    </tr>\n",
              "    <tr>\n",
              "      <th>3</th>\n",
              "      <td>Decision Trees</td>\n",
              "      <td>74.358974</td>\n",
              "    </tr>\n",
              "  </tbody>\n",
              "</table>\n",
              "</div>\n",
              "    <div class=\"colab-df-buttons\">\n",
              "\n",
              "  <div class=\"colab-df-container\">\n",
              "    <button class=\"colab-df-convert\" onclick=\"convertToInteractive('df-43317b6e-7bf4-49e4-b190-5ef05499f895')\"\n",
              "            title=\"Convert this dataframe to an interactive table.\"\n",
              "            style=\"display:none;\">\n",
              "\n",
              "  <svg xmlns=\"http://www.w3.org/2000/svg\" height=\"24px\" viewBox=\"0 -960 960 960\">\n",
              "    <path d=\"M120-120v-720h720v720H120Zm60-500h600v-160H180v160Zm220 220h160v-160H400v160Zm0 220h160v-160H400v160ZM180-400h160v-160H180v160Zm440 0h160v-160H620v160ZM180-180h160v-160H180v160Zm440 0h160v-160H620v160Z\"/>\n",
              "  </svg>\n",
              "    </button>\n",
              "\n",
              "  <style>\n",
              "    .colab-df-container {\n",
              "      display:flex;\n",
              "      gap: 12px;\n",
              "    }\n",
              "\n",
              "    .colab-df-convert {\n",
              "      background-color: #E8F0FE;\n",
              "      border: none;\n",
              "      border-radius: 50%;\n",
              "      cursor: pointer;\n",
              "      display: none;\n",
              "      fill: #1967D2;\n",
              "      height: 32px;\n",
              "      padding: 0 0 0 0;\n",
              "      width: 32px;\n",
              "    }\n",
              "\n",
              "    .colab-df-convert:hover {\n",
              "      background-color: #E2EBFA;\n",
              "      box-shadow: 0px 1px 2px rgba(60, 64, 67, 0.3), 0px 1px 3px 1px rgba(60, 64, 67, 0.15);\n",
              "      fill: #174EA6;\n",
              "    }\n",
              "\n",
              "    .colab-df-buttons div {\n",
              "      margin-bottom: 4px;\n",
              "    }\n",
              "\n",
              "    [theme=dark] .colab-df-convert {\n",
              "      background-color: #3B4455;\n",
              "      fill: #D2E3FC;\n",
              "    }\n",
              "\n",
              "    [theme=dark] .colab-df-convert:hover {\n",
              "      background-color: #434B5C;\n",
              "      box-shadow: 0px 1px 3px 1px rgba(0, 0, 0, 0.15);\n",
              "      filter: drop-shadow(0px 1px 2px rgba(0, 0, 0, 0.3));\n",
              "      fill: #FFFFFF;\n",
              "    }\n",
              "  </style>\n",
              "\n",
              "    <script>\n",
              "      const buttonEl =\n",
              "        document.querySelector('#df-43317b6e-7bf4-49e4-b190-5ef05499f895 button.colab-df-convert');\n",
              "      buttonEl.style.display =\n",
              "        google.colab.kernel.accessAllowed ? 'block' : 'none';\n",
              "\n",
              "      async function convertToInteractive(key) {\n",
              "        const element = document.querySelector('#df-43317b6e-7bf4-49e4-b190-5ef05499f895');\n",
              "        const dataTable =\n",
              "          await google.colab.kernel.invokeFunction('convertToInteractive',\n",
              "                                                    [key], {});\n",
              "        if (!dataTable) return;\n",
              "\n",
              "        const docLinkHtml = 'Like what you see? Visit the ' +\n",
              "          '<a target=\"_blank\" href=https://colab.research.google.com/notebooks/data_table.ipynb>data table notebook</a>'\n",
              "          + ' to learn more about interactive tables.';\n",
              "        element.innerHTML = '';\n",
              "        dataTable['output_type'] = 'display_data';\n",
              "        await google.colab.output.renderOutput(dataTable, element);\n",
              "        const docLink = document.createElement('div');\n",
              "        docLink.innerHTML = docLinkHtml;\n",
              "        element.appendChild(docLink);\n",
              "      }\n",
              "    </script>\n",
              "  </div>\n",
              "\n",
              "\n",
              "<div id=\"df-b11aecdf-8d3b-4188-b07f-9c5a916b503a\">\n",
              "  <button class=\"colab-df-quickchart\" onclick=\"quickchart('df-b11aecdf-8d3b-4188-b07f-9c5a916b503a')\"\n",
              "            title=\"Suggest charts\"\n",
              "            style=\"display:none;\">\n",
              "\n",
              "<svg xmlns=\"http://www.w3.org/2000/svg\" height=\"24px\"viewBox=\"0 0 24 24\"\n",
              "     width=\"24px\">\n",
              "    <g>\n",
              "        <path d=\"M19 3H5c-1.1 0-2 .9-2 2v14c0 1.1.9 2 2 2h14c1.1 0 2-.9 2-2V5c0-1.1-.9-2-2-2zM9 17H7v-7h2v7zm4 0h-2V7h2v10zm4 0h-2v-4h2v4z\"/>\n",
              "    </g>\n",
              "</svg>\n",
              "  </button>\n",
              "\n",
              "<style>\n",
              "  .colab-df-quickchart {\n",
              "      --bg-color: #E8F0FE;\n",
              "      --fill-color: #1967D2;\n",
              "      --hover-bg-color: #E2EBFA;\n",
              "      --hover-fill-color: #174EA6;\n",
              "      --disabled-fill-color: #AAA;\n",
              "      --disabled-bg-color: #DDD;\n",
              "  }\n",
              "\n",
              "  [theme=dark] .colab-df-quickchart {\n",
              "      --bg-color: #3B4455;\n",
              "      --fill-color: #D2E3FC;\n",
              "      --hover-bg-color: #434B5C;\n",
              "      --hover-fill-color: #FFFFFF;\n",
              "      --disabled-bg-color: #3B4455;\n",
              "      --disabled-fill-color: #666;\n",
              "  }\n",
              "\n",
              "  .colab-df-quickchart {\n",
              "    background-color: var(--bg-color);\n",
              "    border: none;\n",
              "    border-radius: 50%;\n",
              "    cursor: pointer;\n",
              "    display: none;\n",
              "    fill: var(--fill-color);\n",
              "    height: 32px;\n",
              "    padding: 0;\n",
              "    width: 32px;\n",
              "  }\n",
              "\n",
              "  .colab-df-quickchart:hover {\n",
              "    background-color: var(--hover-bg-color);\n",
              "    box-shadow: 0 1px 2px rgba(60, 64, 67, 0.3), 0 1px 3px 1px rgba(60, 64, 67, 0.15);\n",
              "    fill: var(--button-hover-fill-color);\n",
              "  }\n",
              "\n",
              "  .colab-df-quickchart-complete:disabled,\n",
              "  .colab-df-quickchart-complete:disabled:hover {\n",
              "    background-color: var(--disabled-bg-color);\n",
              "    fill: var(--disabled-fill-color);\n",
              "    box-shadow: none;\n",
              "  }\n",
              "\n",
              "  .colab-df-spinner {\n",
              "    border: 2px solid var(--fill-color);\n",
              "    border-color: transparent;\n",
              "    border-bottom-color: var(--fill-color);\n",
              "    animation:\n",
              "      spin 1s steps(1) infinite;\n",
              "  }\n",
              "\n",
              "  @keyframes spin {\n",
              "    0% {\n",
              "      border-color: transparent;\n",
              "      border-bottom-color: var(--fill-color);\n",
              "      border-left-color: var(--fill-color);\n",
              "    }\n",
              "    20% {\n",
              "      border-color: transparent;\n",
              "      border-left-color: var(--fill-color);\n",
              "      border-top-color: var(--fill-color);\n",
              "    }\n",
              "    30% {\n",
              "      border-color: transparent;\n",
              "      border-left-color: var(--fill-color);\n",
              "      border-top-color: var(--fill-color);\n",
              "      border-right-color: var(--fill-color);\n",
              "    }\n",
              "    40% {\n",
              "      border-color: transparent;\n",
              "      border-right-color: var(--fill-color);\n",
              "      border-top-color: var(--fill-color);\n",
              "    }\n",
              "    60% {\n",
              "      border-color: transparent;\n",
              "      border-right-color: var(--fill-color);\n",
              "    }\n",
              "    80% {\n",
              "      border-color: transparent;\n",
              "      border-right-color: var(--fill-color);\n",
              "      border-bottom-color: var(--fill-color);\n",
              "    }\n",
              "    90% {\n",
              "      border-color: transparent;\n",
              "      border-bottom-color: var(--fill-color);\n",
              "    }\n",
              "  }\n",
              "</style>\n",
              "\n",
              "  <script>\n",
              "    async function quickchart(key) {\n",
              "      const quickchartButtonEl =\n",
              "        document.querySelector('#' + key + ' button');\n",
              "      quickchartButtonEl.disabled = true;  // To prevent multiple clicks.\n",
              "      quickchartButtonEl.classList.add('colab-df-spinner');\n",
              "      try {\n",
              "        const charts = await google.colab.kernel.invokeFunction(\n",
              "            'suggestCharts', [key], {});\n",
              "      } catch (error) {\n",
              "        console.error('Error during call to suggestCharts:', error);\n",
              "      }\n",
              "      quickchartButtonEl.classList.remove('colab-df-spinner');\n",
              "      quickchartButtonEl.classList.add('colab-df-quickchart-complete');\n",
              "    }\n",
              "    (() => {\n",
              "      let quickchartButtonEl =\n",
              "        document.querySelector('#df-b11aecdf-8d3b-4188-b07f-9c5a916b503a button');\n",
              "      quickchartButtonEl.style.display =\n",
              "        google.colab.kernel.accessAllowed ? 'block' : 'none';\n",
              "    })();\n",
              "  </script>\n",
              "</div>\n",
              "    </div>\n",
              "  </div>\n"
            ]
          },
          "metadata": {},
          "execution_count": 43
        }
      ]
    },
    {
      "cell_type": "code",
      "source": [
        "colors = ['red', 'green', 'blue', 'gold']  # Define colors for each model\n",
        "\n",
        "plt.figure(figsize=(12, 5))\n",
        "plt.title(\"Barplot Representing Accuracy of Different Models\")\n",
        "plt.xlabel(\"Accuracy (%)\")\n",
        "plt.ylabel(\"Algorithms\")\n",
        "plt.bar(test_accuracy_df['Model'], test_accuracy_df['Test Accuracy'], color=colors)\n",
        "plt.show()"
      ],
      "metadata": {
        "id": "yOSfDPc9EE4h",
        "colab": {
          "base_uri": "https://localhost:8080/",
          "height": 487
        },
        "outputId": "a4785764-0731-413a-81c9-9f36983d2ede"
      },
      "execution_count": null,
      "outputs": [
        {
          "output_type": "display_data",
          "data": {
            "text/plain": [
              "<Figure size 1200x500 with 1 Axes>"
            ],
            "image/png": "[encoded data removed]"
          },
          "metadata": {}
        }
      ]
    },
    {
      "cell_type": "code",
      "source": [
        "test_metrics_df = pd.DataFrame({\n",
        "    'Model': ['SVR', 'Linear Regression', 'RandomForestRegressor'],\n",
        "    'Mean Squared Error': [test_rmse_svr*100, test_rmse_lir*100, test_rmse_rr*100],\n",
        "    'R2 Score': [test_r2_svr*100, test_r2_lir*100, test_r2_rr*100]\n",
        "})\n",
        "test_metrics_df"
      ],
      "metadata": {
        "id": "2RU-kxwHEoZ4",
        "colab": {
          "base_uri": "https://localhost:8080/",
          "height": 143
        },
        "outputId": "b9d6e1f5-ffaf-47ce-8566-f6166274de29"
      },
      "execution_count": null,
      "outputs": [
        {
          "output_type": "execute_result",
          "data": {
            "text/plain": [
              "                   Model  Mean Squared Error   R2 Score\n",
              "0                    SVR           30.192785  44.090723\n",
              "1      Linear Regression           37.938861  11.723298\n",
              "2  RandomForestRegressor           32.230341  36.290040"
            ],
            "text/html": [
              "\n",
              "  <div id=\"df-cc8f9fd5-7877-4118-8198-91df1a8599b2\" class=\"colab-df-container\">\n",
              "    <div>\n",
              "<style scoped>\n",
              "    .dataframe tbody tr th:only-of-type {\n",
              "        vertical-align: middle;\n",
              "    }\n",
              "\n",
              "    .dataframe tbody tr th {\n",
              "        vertical-align: top;\n",
              "    }\n",
              "\n",
              "    .dataframe thead th {\n",
              "        text-align: right;\n",
              "    }\n",
              "</style>\n",
              "<table border=\"1\" class=\"dataframe\">\n",
              "  <thead>\n",
              "    <tr style=\"text-align: right;\">\n",
              "      <th></th>\n",
              "      <th>Model</th>\n",
              "      <th>Mean Squared Error</th>\n",
              "      <th>R2 Score</th>\n",
              "    </tr>\n",
              "  </thead>\n",
              "  <tbody>\n",
              "    <tr>\n",
              "      <th>0</th>\n",
              "      <td>SVR</td>\n",
              "      <td>30.192785</td>\n",
              "      <td>44.090723</td>\n",
              "    </tr>\n",
              "    <tr>\n",
              "      <th>1</th>\n",
              "      <td>Linear Regression</td>\n",
              "      <td>37.938861</td>\n",
              "      <td>11.723298</td>\n",
              "    </tr>\n",
              "    <tr>\n",
              "      <th>2</th>\n",
              "      <td>RandomForestRegressor</td>\n",
              "      <td>32.230341</td>\n",
              "      <td>36.290040</td>\n",
              "    </tr>\n",
              "  </tbody>\n",
              "</table>\n",
              "</div>\n",
              "    <div class=\"colab-df-buttons\">\n",
              "\n",
              "  <div class=\"colab-df-container\">\n",
              "    <button class=\"colab-df-convert\" onclick=\"convertToInteractive('df-cc8f9fd5-7877-4118-8198-91df1a8599b2')\"\n",
              "            title=\"Convert this dataframe to an interactive table.\"\n",
              "            style=\"display:none;\">\n",
              "\n",
              "  <svg xmlns=\"http://www.w3.org/2000/svg\" height=\"24px\" viewBox=\"0 -960 960 960\">\n",
              "    <path d=\"M120-120v-720h720v720H120Zm60-500h600v-160H180v160Zm220 220h160v-160H400v160Zm0 220h160v-160H400v160ZM180-400h160v-160H180v160Zm440 0h160v-160H620v160ZM180-180h160v-160H180v160Zm440 0h160v-160H620v160Z\"/>\n",
              "  </svg>\n",
              "    </button>\n",
              "\n",
              "  <style>\n",
              "    .colab-df-container {\n",
              "      display:flex;\n",
              "      gap: 12px;\n",
              "    }\n",
              "\n",
              "    .colab-df-convert {\n",
              "      background-color: #E8F0FE;\n",
              "      border: none;\n",
              "      border-radius: 50%;\n",
              "      cursor: pointer;\n",
              "      display: none;\n",
              "      fill: #1967D2;\n",
              "      height: 32px;\n",
              "      padding: 0 0 0 0;\n",
              "      width: 32px;\n",
              "    }\n",
              "\n",
              "    .colab-df-convert:hover {\n",
              "      background-color: #E2EBFA;\n",
              "      box-shadow: 0px 1px 2px rgba(60, 64, 67, 0.3), 0px 1px 3px 1px rgba(60, 64, 67, 0.15);\n",
              "      fill: #174EA6;\n",
              "    }\n",
              "\n",
              "    .colab-df-buttons div {\n",
              "      margin-bottom: 4px;\n",
              "    }\n",
              "\n",
              "    [theme=dark] .colab-df-convert {\n",
              "      background-color: #3B4455;\n",
              "      fill: #D2E3FC;\n",
              "    }\n",
              "\n",
              "    [theme=dark] .colab-df-convert:hover {\n",
              "      background-color: #434B5C;\n",
              "      box-shadow: 0px 1px 3px 1px rgba(0, 0, 0, 0.15);\n",
              "      filter: drop-shadow(0px 1px 2px rgba(0, 0, 0, 0.3));\n",
              "      fill: #FFFFFF;\n",
              "    }\n",
              "  </style>\n",
              "\n",
              "    <script>\n",
              "      const buttonEl =\n",
              "        document.querySelector('#df-cc8f9fd5-7877-4118-8198-91df1a8599b2 button.colab-df-convert');\n",
              "      buttonEl.style.display =\n",
              "        google.colab.kernel.accessAllowed ? 'block' : 'none';\n",
              "\n",
              "      async function convertToInteractive(key) {\n",
              "        const element = document.querySelector('#df-cc8f9fd5-7877-4118-8198-91df1a8599b2');\n",
              "        const dataTable =\n",
              "          await google.colab.kernel.invokeFunction('convertToInteractive',\n",
              "                                                    [key], {});\n",
              "        if (!dataTable) return;\n",
              "\n",
              "        const docLinkHtml = 'Like what you see? Visit the ' +\n",
              "          '<a target=\"_blank\" href=https://colab.research.google.com/notebooks/data_table.ipynb>data table notebook</a>'\n",
              "          + ' to learn more about interactive tables.';\n",
              "        element.innerHTML = '';\n",
              "        dataTable['output_type'] = 'display_data';\n",
              "        await google.colab.output.renderOutput(dataTable, element);\n",
              "        const docLink = document.createElement('div');\n",
              "        docLink.innerHTML = docLinkHtml;\n",
              "        element.appendChild(docLink);\n",
              "      }\n",
              "    </script>\n",
              "  </div>\n",
              "\n",
              "\n",
              "<div id=\"df-4a183558-700d-425d-8787-39d9ce672532\">\n",
              "  <button class=\"colab-df-quickchart\" onclick=\"quickchart('df-4a183558-700d-425d-8787-39d9ce672532')\"\n",
              "            title=\"Suggest charts\"\n",
              "            style=\"display:none;\">\n",
              "\n",
              "<svg xmlns=\"http://www.w3.org/2000/svg\" height=\"24px\"viewBox=\"0 0 24 24\"\n",
              "     width=\"24px\">\n",
              "    <g>\n",
              "        <path d=\"M19 3H5c-1.1 0-2 .9-2 2v14c0 1.1.9 2 2 2h14c1.1 0 2-.9 2-2V5c0-1.1-.9-2-2-2zM9 17H7v-7h2v7zm4 0h-2V7h2v10zm4 0h-2v-4h2v4z\"/>\n",
              "    </g>\n",
              "</svg>\n",
              "  </button>\n",
              "\n",
              "<style>\n",
              "  .colab-df-quickchart {\n",
              "      --bg-color: #E8F0FE;\n",
              "      --fill-color: #1967D2;\n",
              "      --hover-bg-color: #E2EBFA;\n",
              "      --hover-fill-color: #174EA6;\n",
              "      --disabled-fill-color: #AAA;\n",
              "      --disabled-bg-color: #DDD;\n",
              "  }\n",
              "\n",
              "  [theme=dark] .colab-df-quickchart {\n",
              "      --bg-color: #3B4455;\n",
              "      --fill-color: #D2E3FC;\n",
              "      --hover-bg-color: #434B5C;\n",
              "      --hover-fill-color: #FFFFFF;\n",
              "      --disabled-bg-color: #3B4455;\n",
              "      --disabled-fill-color: #666;\n",
              "  }\n",
              "\n",
              "  .colab-df-quickchart {\n",
              "    background-color: var(--bg-color);\n",
              "    border: none;\n",
              "    border-radius: 50%;\n",
              "    cursor: pointer;\n",
              "    display: none;\n",
              "    fill: var(--fill-color);\n",
              "    height: 32px;\n",
              "    padding: 0;\n",
              "    width: 32px;\n",
              "  }\n",
              "\n",
              "  .colab-df-quickchart:hover {\n",
              "    background-color: var(--hover-bg-color);\n",
              "    box-shadow: 0 1px 2px rgba(60, 64, 67, 0.3), 0 1px 3px 1px rgba(60, 64, 67, 0.15);\n",
              "    fill: var(--button-hover-fill-color);\n",
              "  }\n",
              "\n",
              "  .colab-df-quickchart-complete:disabled,\n",
              "  .colab-df-quickchart-complete:disabled:hover {\n",
              "    background-color: var(--disabled-bg-color);\n",
              "    fill: var(--disabled-fill-color);\n",
              "    box-shadow: none;\n",
              "  }\n",
              "\n",
              "  .colab-df-spinner {\n",
              "    border: 2px solid var(--fill-color);\n",
              "    border-color: transparent;\n",
              "    border-bottom-color: var(--fill-color);\n",
              "    animation:\n",
              "      spin 1s steps(1) infinite;\n",
              "  }\n",
              "\n",
              "  @keyframes spin {\n",
              "    0% {\n",
              "      border-color: transparent;\n",
              "      border-bottom-color: var(--fill-color);\n",
              "      border-left-color: var(--fill-color);\n",
              "    }\n",
              "    20% {\n",
              "      border-color: transparent;\n",
              "      border-left-color: var(--fill-color);\n",
              "      border-top-color: var(--fill-color);\n",
              "    }\n",
              "    30% {\n",
              "      border-color: transparent;\n",
              "      border-left-color: var(--fill-color);\n",
              "      border-top-color: var(--fill-color);\n",
              "      border-right-color: var(--fill-color);\n",
              "    }\n",
              "    40% {\n",
              "      border-color: transparent;\n",
              "      border-right-color: var(--fill-color);\n",
              "      border-top-color: var(--fill-color);\n",
              "    }\n",
              "    60% {\n",
              "      border-color: transparent;\n",
              "      border-right-color: var(--fill-color);\n",
              "    }\n",
              "    80% {\n",
              "      border-color: transparent;\n",
              "      border-right-color: var(--fill-color);\n",
              "      border-bottom-color: var(--fill-color);\n",
              "    }\n",
              "    90% {\n",
              "      border-color: transparent;\n",
              "      border-bottom-color: var(--fill-color);\n",
              "    }\n",
              "  }\n",
              "</style>\n",
              "\n",
              "  <script>\n",
              "    async function quickchart(key) {\n",
              "      const quickchartButtonEl =\n",
              "        document.querySelector('#' + key + ' button');\n",
              "      quickchartButtonEl.disabled = true;  // To prevent multiple clicks.\n",
              "      quickchartButtonEl.classList.add('colab-df-spinner');\n",
              "      try {\n",
              "        const charts = await google.colab.kernel.invokeFunction(\n",
              "            'suggestCharts', [key], {});\n",
              "      } catch (error) {\n",
              "        console.error('Error during call to suggestCharts:', error);\n",
              "      }\n",
              "      quickchartButtonEl.classList.remove('colab-df-spinner');\n",
              "      quickchartButtonEl.classList.add('colab-df-quickchart-complete');\n",
              "    }\n",
              "    (() => {\n",
              "      let quickchartButtonEl =\n",
              "        document.querySelector('#df-4a183558-700d-425d-8787-39d9ce672532 button');\n",
              "      quickchartButtonEl.style.display =\n",
              "        google.colab.kernel.accessAllowed ? 'block' : 'none';\n",
              "    })();\n",
              "  </script>\n",
              "</div>\n",
              "    </div>\n",
              "  </div>\n"
            ]
          },
          "metadata": {},
          "execution_count": 45
        }
      ]
    },
    {
      "cell_type": "code",
      "source": [
        "# Plotting Mean Squared Error and R2 Score\n",
        "plt.figure(figsize=(10, 6))\n",
        "\n",
        "# Mean Squared Error\n",
        "plt.subplot(1, 2, 1)\n",
        "plt.barh(test_metrics_df['Model'], test_metrics_df['Mean Squared Error'], color='skyblue')\n",
        "plt.xlabel('Mean Squared Error (%)')\n",
        "plt.title('Test Mean Squared Error')\n",
        "\n",
        "# R2 Score\n",
        "plt.subplot(1, 2, 2)\n",
        "plt.barh(test_metrics_df['Model'], test_metrics_df['R2 Score'], color='salmon')\n",
        "plt.xlabel('R2 Score (%)')\n",
        "plt.title('Test R2 Score')\n",
        "\n",
        "plt.tight_layout()\n",
        "plt.show()"
      ],
      "metadata": {
        "id": "YoZvKHJxFceo",
        "colab": {
          "base_uri": "https://localhost:8080/",
          "height": 607
        },
        "outputId": "b3764625-cb96-4469-f914-bbb5be68aef4"
      },
      "execution_count": null,
      "outputs": [
        {
          "output_type": "display_data",
          "data": {
            "text/plain": [
              "<Figure size 1000x600 with 2 Axes>"
            ],
            "image/png": "[encoded data removed]"
          },
          "metadata": {}
        }
      ]
    },
    {
      "cell_type": "markdown",
      "source": [
        "Deep Learning\n"
      ],
      "metadata": {
        "id": "l4zhlWEQJUN_"
      }
    },
    {
      "cell_type": "code",
      "source": [
        "from keras.models import Sequential\n",
        "from keras.layers import Dense, LSTM, Conv1D, MaxPooling1D, Flatten\n",
        "from keras.optimizers import Adam\n"
      ],
      "metadata": {
        "id": "MH1sNof_JWp8"
      },
      "execution_count": null,
      "outputs": []
    },
    {
      "cell_type": "markdown",
      "source": [
        " Feed Forward Neural Network"
      ],
      "metadata": {
        "id": "T8s-WjtWJiG_"
      }
    },
    {
      "cell_type": "code",
      "source": [
        "# Create a Sequential model\n",
        "model_FFNN = Sequential()\n",
        "\n",
        "# Add layers to the model\n",
        "model_FFNN.add(Dense(64, input_shape=(X_train.shape[1],), activation='relu'))  # Input layer with 64 neurons and ReLU activation\n",
        "model_FFNN.add(Dense(32, activation='relu'))  # Hidden layer with 32 neurons and ReLU activation\n",
        "model_FFNN.add(Dense(1, activation='sigmoid'))  # Output layer with 1 neuron (binary classification) and sigmoid activation\n",
        "\n",
        "# Compile the model\n",
        "model_FFNN.compile(optimizer='adam', loss='binary_crossentropy', metrics=['accuracy'])\n",
        "\n",
        "# Train the model\n",
        "history = model_FFNN.fit(X_train, Y_train, epochs=30, batch_size=32, validation_data=(X_test, Y_test), verbose=1)\n"
      ],
      "metadata": {
        "id": "w1wVbpMpJgfd",
        "colab": {
          "base_uri": "https://localhost:8080/"
        },
        "outputId": "f6a8936a-e54e-4ba6-917e-4a16fbb72d60"
      },
      "execution_count": null,
      "outputs": [
        {
          "output_type": "stream",
          "name": "stdout",
          "text": [
            "Epoch 1/30\n",
            "5/5 [==============================] - 2s 99ms/step - loss: 0.6195 - accuracy: 0.7179 - val_loss: 0.5943 - val_accuracy: 0.6923\n",
            "Epoch 2/30\n",
            "5/5 [==============================] - 0s 18ms/step - loss: 0.5311 - accuracy: 0.8077 - val_loss: 0.5568 - val_accuracy: 0.7179\n",
            "Epoch 3/30\n",
            "5/5 [==============================] - 0s 20ms/step - loss: 0.4749 - accuracy: 0.8269 - val_loss: 0.5206 - val_accuracy: 0.7179\n",
            "Epoch 4/30\n",
            "5/5 [==============================] - 0s 17ms/step - loss: 0.4332 - accuracy: 0.8526 - val_loss: 0.4858 - val_accuracy: 0.7692\n",
            "Epoch 5/30\n",
            "5/5 [==============================] - 0s 21ms/step - loss: 0.3997 - accuracy: 0.8590 - val_loss: 0.4593 - val_accuracy: 0.7949\n",
            "Epoch 6/30\n",
            "5/5 [==============================] - 0s 23ms/step - loss: 0.3723 - accuracy: 0.8590 - val_loss: 0.4399 - val_accuracy: 0.8205\n",
            "Epoch 7/30\n",
            "5/5 [==============================] - 0s 23ms/step - loss: 0.3501 - accuracy: 0.8654 - val_loss: 0.4246 - val_accuracy: 0.8205\n",
            "Epoch 8/30\n",
            "5/5 [==============================] - 0s 21ms/step - loss: 0.3301 - accuracy: 0.8718 - val_loss: 0.4126 - val_accuracy: 0.7692\n",
            "Epoch 9/30\n",
            "5/5 [==============================] - 0s 19ms/step - loss: 0.3124 - accuracy: 0.8718 - val_loss: 0.4037 - val_accuracy: 0.7692\n",
            "Epoch 10/30\n",
            "5/5 [==============================] - 0s 24ms/step - loss: 0.2976 - accuracy: 0.8654 - val_loss: 0.3987 - val_accuracy: 0.7436\n",
            "Epoch 11/30\n",
            "5/5 [==============================] - 0s 20ms/step - loss: 0.2829 - accuracy: 0.8654 - val_loss: 0.3876 - val_accuracy: 0.7692\n",
            "Epoch 12/30\n",
            "5/5 [==============================] - 0s 19ms/step - loss: 0.2709 - accuracy: 0.8782 - val_loss: 0.3789 - val_accuracy: 0.7692\n",
            "Epoch 13/30\n",
            "5/5 [==============================] - 0s 17ms/step - loss: 0.2587 - accuracy: 0.8782 - val_loss: 0.3737 - val_accuracy: 0.7436\n",
            "Epoch 14/30\n",
            "5/5 [==============================] - 0s 22ms/step - loss: 0.2472 - accuracy: 0.9038 - val_loss: 0.3661 - val_accuracy: 0.7436\n",
            "Epoch 15/30\n",
            "5/5 [==============================] - 0s 21ms/step - loss: 0.2372 - accuracy: 0.9038 - val_loss: 0.3605 - val_accuracy: 0.7692\n",
            "Epoch 16/30\n",
            "5/5 [==============================] - 0s 23ms/step - loss: 0.2275 - accuracy: 0.9231 - val_loss: 0.3550 - val_accuracy: 0.7949\n",
            "Epoch 17/30\n",
            "5/5 [==============================] - 0s 21ms/step - loss: 0.2186 - accuracy: 0.9231 - val_loss: 0.3573 - val_accuracy: 0.7179\n",
            "Epoch 18/30\n",
            "5/5 [==============================] - 0s 23ms/step - loss: 0.2104 - accuracy: 0.9295 - val_loss: 0.3558 - val_accuracy: 0.7179\n",
            "Epoch 19/30\n",
            "5/5 [==============================] - 0s 22ms/step - loss: 0.2023 - accuracy: 0.9295 - val_loss: 0.3511 - val_accuracy: 0.7179\n",
            "Epoch 20/30\n",
            "5/5 [==============================] - 0s 20ms/step - loss: 0.1946 - accuracy: 0.9295 - val_loss: 0.3462 - val_accuracy: 0.7436\n",
            "Epoch 21/30\n",
            "5/5 [==============================] - 0s 17ms/step - loss: 0.1868 - accuracy: 0.9359 - val_loss: 0.3405 - val_accuracy: 0.7436\n",
            "Epoch 22/30\n",
            "5/5 [==============================] - 0s 19ms/step - loss: 0.1797 - accuracy: 0.9487 - val_loss: 0.3367 - val_accuracy: 0.7436\n",
            "Epoch 23/30\n",
            "5/5 [==============================] - 0s 22ms/step - loss: 0.1725 - accuracy: 0.9487 - val_loss: 0.3355 - val_accuracy: 0.7436\n",
            "Epoch 24/30\n",
            "5/5 [==============================] - 0s 18ms/step - loss: 0.1656 - accuracy: 0.9487 - val_loss: 0.3400 - val_accuracy: 0.7949\n",
            "Epoch 25/30\n",
            "5/5 [==============================] - 0s 21ms/step - loss: 0.1584 - accuracy: 0.9615 - val_loss: 0.3415 - val_accuracy: 0.7949\n",
            "Epoch 26/30\n",
            "5/5 [==============================] - 0s 21ms/step - loss: 0.1516 - accuracy: 0.9551 - val_loss: 0.3399 - val_accuracy: 0.7692\n",
            "Epoch 27/30\n",
            "5/5 [==============================] - 0s 19ms/step - loss: 0.1447 - accuracy: 0.9615 - val_loss: 0.3322 - val_accuracy: 0.8205\n",
            "Epoch 28/30\n",
            "5/5 [==============================] - 0s 21ms/step - loss: 0.1386 - accuracy: 0.9615 - val_loss: 0.3278 - val_accuracy: 0.8205\n",
            "Epoch 29/30\n",
            "5/5 [==============================] - 0s 15ms/step - loss: 0.1325 - accuracy: 0.9615 - val_loss: 0.3292 - val_accuracy: 0.7949\n",
            "Epoch 30/30\n",
            "5/5 [==============================] - 0s 14ms/step - loss: 0.1270 - accuracy: 0.9679 - val_loss: 0.3343 - val_accuracy: 0.7692\n"
          ]
        }
      ]
    },
    {
      "cell_type": "code",
      "source": [
        "test_loss_FFNN, test_accuracy_FFNN = model_FFNN.evaluate(X_test, Y_test)\n",
        "print(f\"Test Accuracy: {test_accuracy_FFNN * 100:.2f}%\")"
      ],
      "metadata": {
        "id": "hTxM5JmnNG2b",
        "colab": {
          "base_uri": "https://localhost:8080/"
        },
        "outputId": "6a8bbaea-26c9-4eb4-e706-0d608969828b"
      },
      "execution_count": null,
      "outputs": [
        {
          "output_type": "stream",
          "name": "stdout",
          "text": [
            "2/2 [==============================] - 0s 9ms/step - loss: 0.3343 - accuracy: 0.7692\n",
            "Test Accuracy: 76.92%\n"
          ]
        }
      ]
    },
    {
      "cell_type": "code",
      "source": [
        "from keras.layers import Dropout\n",
        "from keras import regularizers\n",
        "# Create a Sequential model\n",
        "model_FFNN = Sequential()\n",
        "\n",
        "# Add layers to the model\n",
        "model_FFNN.add(Dense(64, input_shape=(X_train.shape[1],), activation='relu', kernel_regularizer=regularizers.l2(0.01)))  # Input layer with 64 neurons and ReLU activation\n",
        "model_FFNN.add(Dense(32, activation='relu'))  # Hidden layer with 32 neurons and ReLU activation\n",
        "model_FFNN.add(Dense(1, activation='sigmoid'))  # Output layer with 1 neuron (binary classification) and sigmoid activation\n",
        "\n",
        "\n",
        "# Compile the model\n",
        "model_FFNN.compile(optimizer='adam', loss='binary_crossentropy', metrics=['accuracy'])\n",
        "\n",
        "# Train the model\n",
        "history = model_FFNN.fit(X_train, Y_train, epochs=30, batch_size=32, validation_data=(X_test, Y_test), verbose=1)\n"
      ],
      "metadata": {
        "id": "H7Gyx7Hw9A4h",
        "colab": {
          "base_uri": "https://localhost:8080/"
        },
        "outputId": "4bb7f8ec-1528-47d9-a93d-7557e29037c6"
      },
      "execution_count": null,
      "outputs": [
        {
          "output_type": "stream",
          "name": "stdout",
          "text": [
            "Epoch 1/30\n",
            "5/5 [==============================] - 1s 55ms/step - loss: 1.0010 - accuracy: 0.5321 - val_loss: 0.9708 - val_accuracy: 0.6923\n",
            "Epoch 2/30\n",
            "5/5 [==============================] - 0s 10ms/step - loss: 0.8867 - accuracy: 0.7051 - val_loss: 0.8969 - val_accuracy: 0.7692\n",
            "Epoch 3/30\n",
            "5/5 [==============================] - 0s 15ms/step - loss: 0.8110 - accuracy: 0.8205 - val_loss: 0.8395 - val_accuracy: 0.8718\n",
            "Epoch 4/30\n",
            "5/5 [==============================] - 0s 10ms/step - loss: 0.7576 - accuracy: 0.8654 - val_loss: 0.7944 - val_accuracy: 0.8718\n",
            "Epoch 5/30\n",
            "5/5 [==============================] - 0s 11ms/step - loss: 0.7167 - accuracy: 0.8654 - val_loss: 0.7591 - val_accuracy: 0.8974\n",
            "Epoch 6/30\n",
            "5/5 [==============================] - 0s 10ms/step - loss: 0.6824 - accuracy: 0.8782 - val_loss: 0.7309 - val_accuracy: 0.8974\n",
            "Epoch 7/30\n",
            "5/5 [==============================] - 0s 14ms/step - loss: 0.6534 - accuracy: 0.8718 - val_loss: 0.7082 - val_accuracy: 0.8974\n",
            "Epoch 8/30\n",
            "5/5 [==============================] - 0s 10ms/step - loss: 0.6280 - accuracy: 0.8718 - val_loss: 0.6890 - val_accuracy: 0.8974\n",
            "Epoch 9/30\n",
            "5/5 [==============================] - 0s 10ms/step - loss: 0.6052 - accuracy: 0.8782 - val_loss: 0.6712 - val_accuracy: 0.8974\n",
            "Epoch 10/30\n",
            "5/5 [==============================] - 0s 10ms/step - loss: 0.5841 - accuracy: 0.8782 - val_loss: 0.6545 - val_accuracy: 0.8974\n",
            "Epoch 11/30\n",
            "5/5 [==============================] - 0s 10ms/step - loss: 0.5637 - accuracy: 0.8910 - val_loss: 0.6407 - val_accuracy: 0.8462\n",
            "Epoch 12/30\n",
            "5/5 [==============================] - 0s 15ms/step - loss: 0.5450 - accuracy: 0.9038 - val_loss: 0.6267 - val_accuracy: 0.8462\n",
            "Epoch 13/30\n",
            "5/5 [==============================] - 0s 10ms/step - loss: 0.5266 - accuracy: 0.9038 - val_loss: 0.6152 - val_accuracy: 0.8462\n",
            "Epoch 14/30\n",
            "5/5 [==============================] - 0s 10ms/step - loss: 0.5108 - accuracy: 0.9167 - val_loss: 0.6078 - val_accuracy: 0.8205\n",
            "Epoch 15/30\n",
            "5/5 [==============================] - 0s 12ms/step - loss: 0.4940 - accuracy: 0.9167 - val_loss: 0.5993 - val_accuracy: 0.7692\n",
            "Epoch 16/30\n",
            "5/5 [==============================] - 0s 14ms/step - loss: 0.4796 - accuracy: 0.9231 - val_loss: 0.5909 - val_accuracy: 0.7692\n",
            "Epoch 17/30\n",
            "5/5 [==============================] - 0s 14ms/step - loss: 0.4651 - accuracy: 0.9167 - val_loss: 0.5841 - val_accuracy: 0.7692\n",
            "Epoch 18/30\n",
            "5/5 [==============================] - 0s 12ms/step - loss: 0.4514 - accuracy: 0.9359 - val_loss: 0.5721 - val_accuracy: 0.7692\n",
            "Epoch 19/30\n",
            "5/5 [==============================] - 0s 14ms/step - loss: 0.4388 - accuracy: 0.9359 - val_loss: 0.5615 - val_accuracy: 0.7692\n",
            "Epoch 20/30\n",
            "5/5 [==============================] - 0s 14ms/step - loss: 0.4258 - accuracy: 0.9423 - val_loss: 0.5522 - val_accuracy: 0.8205\n",
            "Epoch 21/30\n",
            "5/5 [==============================] - 0s 15ms/step - loss: 0.4142 - accuracy: 0.9423 - val_loss: 0.5465 - val_accuracy: 0.7949\n",
            "Epoch 22/30\n",
            "5/5 [==============================] - 0s 14ms/step - loss: 0.4032 - accuracy: 0.9359 - val_loss: 0.5427 - val_accuracy: 0.7949\n",
            "Epoch 23/30\n",
            "5/5 [==============================] - 0s 11ms/step - loss: 0.3909 - accuracy: 0.9359 - val_loss: 0.5339 - val_accuracy: 0.7949\n",
            "Epoch 24/30\n",
            "5/5 [==============================] - 0s 10ms/step - loss: 0.3801 - accuracy: 0.9487 - val_loss: 0.5239 - val_accuracy: 0.7692\n",
            "Epoch 25/30\n",
            "5/5 [==============================] - 0s 15ms/step - loss: 0.3704 - accuracy: 0.9487 - val_loss: 0.5152 - val_accuracy: 0.7692\n",
            "Epoch 26/30\n",
            "5/5 [==============================] - 0s 11ms/step - loss: 0.3604 - accuracy: 0.9487 - val_loss: 0.5115 - val_accuracy: 0.7692\n",
            "Epoch 27/30\n",
            "5/5 [==============================] - 0s 14ms/step - loss: 0.3506 - accuracy: 0.9423 - val_loss: 0.5073 - val_accuracy: 0.7692\n",
            "Epoch 28/30\n",
            "5/5 [==============================] - 0s 10ms/step - loss: 0.3423 - accuracy: 0.9295 - val_loss: 0.5047 - val_accuracy: 0.7949\n",
            "Epoch 29/30\n",
            "5/5 [==============================] - 0s 20ms/step - loss: 0.3324 - accuracy: 0.9295 - val_loss: 0.4941 - val_accuracy: 0.7692\n",
            "Epoch 30/30\n",
            "5/5 [==============================] - 0s 12ms/step - loss: 0.3226 - accuracy: 0.9423 - val_loss: 0.4860 - val_accuracy: 0.7692\n"
          ]
        }
      ]
    },
    {
      "cell_type": "code",
      "source": [
        "test_loss_FFNN, test_accuracy_FFNN = model_FFNN.evaluate(X_test, Y_test)\n",
        "print(f\"Test Accuracy: {test_accuracy_FFNN * 100:.2f}%\")"
      ],
      "metadata": {
        "id": "AOCo4CIs-SfZ",
        "colab": {
          "base_uri": "https://localhost:8080/"
        },
        "outputId": "12aa7919-2881-4dc2-cc46-17aa0307d3ee"
      },
      "execution_count": null,
      "outputs": [
        {
          "output_type": "stream",
          "name": "stdout",
          "text": [
            "2/2 [==============================] - 0s 8ms/step - loss: 0.4860 - accuracy: 0.7692\n",
            "Test Accuracy: 76.92%\n"
          ]
        }
      ]
    },
    {
      "cell_type": "markdown",
      "source": [
        "Reccurent Neural Network"
      ],
      "metadata": {
        "id": "mjF8wsqyJtj4"
      }
    },
    {
      "cell_type": "code",
      "source": [
        "\n",
        "# Reshape the data for LSTM (assuming X_train and X_test are 2D arrays)\n",
        "X_train_RNN = X_train.reshape((X_train.shape[0], 1, X_train.shape[1]))\n",
        "X_test_RNN = X_test.reshape((X_test.shape[0], 1, X_test.shape[1]))\n",
        "\n",
        "# Create a Sequential model\n",
        "model_RNN = Sequential()\n",
        "\n",
        "# Add an LSTM layer\n",
        "model_RNN.add(LSTM(64, input_shape=(X_train_RNN.shape[1], X_train_RNN.shape[2])))\n",
        "\n",
        "# Add a Dense output layer for binary classification\n",
        "model_RNN.add(Dense(1, activation='sigmoid'))\n",
        "\n",
        "# Compile the model\n",
        "model_RNN.compile(optimizer='adam', loss='binary_crossentropy', metrics=['accuracy'])\n",
        "\n",
        "# Train the model\n",
        "history = model_RNN.fit(X_train_RNN, Y_train, epochs=30, batch_size=32, validation_data=(X_test_RNN, Y_test), verbose=1)\n"
      ],
      "metadata": {
        "id": "69E8RjgPJuZP",
        "colab": {
          "base_uri": "https://localhost:8080/"
        },
        "outputId": "f95cc5e7-bc94-4a06-d33e-918178bb57bf"
      },
      "execution_count": null,
      "outputs": [
        {
          "output_type": "stream",
          "name": "stdout",
          "text": [
            "Epoch 1/30\n",
            "5/5 [==============================] - 3s 158ms/step - loss: 0.6699 - accuracy: 0.6538 - val_loss: 0.6837 - val_accuracy: 0.5641\n",
            "Epoch 2/30\n",
            "5/5 [==============================] - 0s 17ms/step - loss: 0.6310 - accuracy: 0.7308 - val_loss: 0.6685 - val_accuracy: 0.5897\n",
            "Epoch 3/30\n",
            "5/5 [==============================] - 0s 18ms/step - loss: 0.6016 - accuracy: 0.7436 - val_loss: 0.6535 - val_accuracy: 0.5897\n",
            "Epoch 4/30\n",
            "5/5 [==============================] - 0s 14ms/step - loss: 0.5765 - accuracy: 0.7436 - val_loss: 0.6399 - val_accuracy: 0.6154\n",
            "Epoch 5/30\n",
            "5/5 [==============================] - 0s 18ms/step - loss: 0.5570 - accuracy: 0.7564 - val_loss: 0.6276 - val_accuracy: 0.6154\n",
            "Epoch 6/30\n",
            "5/5 [==============================] - 0s 17ms/step - loss: 0.5379 - accuracy: 0.7564 - val_loss: 0.6148 - val_accuracy: 0.6154\n",
            "Epoch 7/30\n",
            "5/5 [==============================] - 0s 14ms/step - loss: 0.5213 - accuracy: 0.7756 - val_loss: 0.6017 - val_accuracy: 0.6154\n",
            "Epoch 8/30\n",
            "5/5 [==============================] - 0s 18ms/step - loss: 0.5067 - accuracy: 0.7821 - val_loss: 0.5892 - val_accuracy: 0.6154\n",
            "Epoch 9/30\n",
            "5/5 [==============================] - 0s 14ms/step - loss: 0.4931 - accuracy: 0.7821 - val_loss: 0.5767 - val_accuracy: 0.6154\n",
            "Epoch 10/30\n",
            "5/5 [==============================] - 0s 17ms/step - loss: 0.4790 - accuracy: 0.7885 - val_loss: 0.5633 - val_accuracy: 0.6410\n",
            "Epoch 11/30\n",
            "5/5 [==============================] - 0s 13ms/step - loss: 0.4666 - accuracy: 0.7885 - val_loss: 0.5492 - val_accuracy: 0.6923\n",
            "Epoch 12/30\n",
            "5/5 [==============================] - 0s 13ms/step - loss: 0.4538 - accuracy: 0.8077 - val_loss: 0.5358 - val_accuracy: 0.6923\n",
            "Epoch 13/30\n",
            "5/5 [==============================] - 0s 12ms/step - loss: 0.4421 - accuracy: 0.7756 - val_loss: 0.5223 - val_accuracy: 0.6923\n",
            "Epoch 14/30\n",
            "5/5 [==============================] - 0s 17ms/step - loss: 0.4303 - accuracy: 0.8013 - val_loss: 0.5102 - val_accuracy: 0.6923\n",
            "Epoch 15/30\n",
            "5/5 [==============================] - 0s 16ms/step - loss: 0.4188 - accuracy: 0.7949 - val_loss: 0.4984 - val_accuracy: 0.6923\n",
            "Epoch 16/30\n",
            "5/5 [==============================] - 0s 14ms/step - loss: 0.4080 - accuracy: 0.8077 - val_loss: 0.4874 - val_accuracy: 0.7179\n",
            "Epoch 17/30\n",
            "5/5 [==============================] - 0s 19ms/step - loss: 0.3972 - accuracy: 0.8205 - val_loss: 0.4764 - val_accuracy: 0.7436\n",
            "Epoch 18/30\n",
            "5/5 [==============================] - 0s 13ms/step - loss: 0.3872 - accuracy: 0.8141 - val_loss: 0.4665 - val_accuracy: 0.7692\n",
            "Epoch 19/30\n",
            "5/5 [==============================] - 0s 13ms/step - loss: 0.3775 - accuracy: 0.8333 - val_loss: 0.4564 - val_accuracy: 0.7949\n",
            "Epoch 20/30\n",
            "5/5 [==============================] - 0s 14ms/step - loss: 0.3681 - accuracy: 0.8397 - val_loss: 0.4465 - val_accuracy: 0.7949\n",
            "Epoch 21/30\n",
            "5/5 [==============================] - 0s 17ms/step - loss: 0.3588 - accuracy: 0.8526 - val_loss: 0.4370 - val_accuracy: 0.7949\n",
            "Epoch 22/30\n",
            "5/5 [==============================] - 0s 17ms/step - loss: 0.3502 - accuracy: 0.8782 - val_loss: 0.4286 - val_accuracy: 0.8205\n",
            "Epoch 23/30\n",
            "5/5 [==============================] - 0s 16ms/step - loss: 0.3416 - accuracy: 0.8782 - val_loss: 0.4213 - val_accuracy: 0.8205\n",
            "Epoch 24/30\n",
            "5/5 [==============================] - 0s 15ms/step - loss: 0.3339 - accuracy: 0.8846 - val_loss: 0.4144 - val_accuracy: 0.8205\n",
            "Epoch 25/30\n",
            "5/5 [==============================] - 0s 16ms/step - loss: 0.3261 - accuracy: 0.8846 - val_loss: 0.4091 - val_accuracy: 0.8205\n",
            "Epoch 26/30\n",
            "5/5 [==============================] - 0s 16ms/step - loss: 0.3186 - accuracy: 0.8846 - val_loss: 0.4042 - val_accuracy: 0.8205\n",
            "Epoch 27/30\n",
            "5/5 [==============================] - 0s 15ms/step - loss: 0.3119 - accuracy: 0.8910 - val_loss: 0.3985 - val_accuracy: 0.8205\n",
            "Epoch 28/30\n",
            "5/5 [==============================] - 0s 11ms/step - loss: 0.3050 - accuracy: 0.8910 - val_loss: 0.3930 - val_accuracy: 0.8205\n",
            "Epoch 29/30\n",
            "5/5 [==============================] - 0s 16ms/step - loss: 0.2988 - accuracy: 0.9038 - val_loss: 0.3890 - val_accuracy: 0.8205\n",
            "Epoch 30/30\n",
            "5/5 [==============================] - 0s 17ms/step - loss: 0.2922 - accuracy: 0.9038 - val_loss: 0.3858 - val_accuracy: 0.8205\n"
          ]
        }
      ]
    },
    {
      "cell_type": "code",
      "source": [
        "test_loss_RNN, test_accuracy_RNN = model_RNN.evaluate(X_test_RNN, Y_test)\n",
        "print(f\"Test Accuracy: {test_accuracy_RNN * 100:.2f}%\")"
      ],
      "metadata": {
        "id": "_sOCDYEbNUiw",
        "colab": {
          "base_uri": "https://localhost:8080/"
        },
        "outputId": "a8400540-e287-4db7-8290-62da74c7fd9b"
      },
      "execution_count": null,
      "outputs": [
        {
          "output_type": "stream",
          "name": "stdout",
          "text": [
            "2/2 [==============================] - 0s 8ms/step - loss: 0.3858 - accuracy: 0.8205\n",
            "Test Accuracy: 82.05%\n"
          ]
        }
      ]
    },
    {
      "cell_type": "code",
      "source": [
        "from keras.layers import Dropout\n",
        "# Reshape the data for LSTM (assuming X_train and X_test are 2D arrays)\n",
        "X_train_RNN = X_train.reshape((X_train.shape[0], 1, X_train.shape[1]))\n",
        "X_test_RNN = X_test.reshape((X_test.shape[0], 1, X_test.shape[1]))\n",
        "\n",
        "# Create a Sequential model\n",
        "model_RNN = Sequential()\n",
        "\n",
        "# Add an LSTM layer\n",
        "model_RNN.add(LSTM(64, input_shape=(X_train_RNN.shape[1], X_train_RNN.shape[2]), recurrent_dropout=0.2))\n",
        "\n",
        "# Add a Dense output layer for binary classification\n",
        "model_RNN.add(Dense(1, activation='sigmoid'))\n",
        "\n",
        "# Compile the model\n",
        "model_RNN.compile(optimizer='adam', loss='binary_crossentropy', metrics=['accuracy'])\n",
        "\n",
        "# Train the model\n",
        "history = model_RNN.fit(X_train_RNN, Y_train, epochs=30, batch_size=32, validation_data=(X_test_RNN, Y_test), verbose=1)\n"
      ],
      "metadata": {
        "id": "mnm1GgGeC7Kh",
        "colab": {
          "base_uri": "https://localhost:8080/"
        },
        "outputId": "5e16915c-ff78-4a3c-af3a-3f42f9f945e8"
      },
      "execution_count": null,
      "outputs": [
        {
          "output_type": "stream",
          "name": "stdout",
          "text": [
            "Epoch 1/30\n",
            "5/5 [==============================] - 4s 131ms/step - loss: 0.6697 - accuracy: 0.6026 - val_loss: 0.6743 - val_accuracy: 0.6667\n",
            "Epoch 2/30\n",
            "5/5 [==============================] - 0s 17ms/step - loss: 0.6359 - accuracy: 0.6923 - val_loss: 0.6599 - val_accuracy: 0.6154\n",
            "Epoch 3/30\n",
            "5/5 [==============================] - 0s 16ms/step - loss: 0.6087 - accuracy: 0.6987 - val_loss: 0.6463 - val_accuracy: 0.6154\n",
            "Epoch 4/30\n",
            "5/5 [==============================] - 0s 12ms/step - loss: 0.5850 - accuracy: 0.7051 - val_loss: 0.6336 - val_accuracy: 0.5897\n",
            "Epoch 5/30\n",
            "5/5 [==============================] - 0s 16ms/step - loss: 0.5656 - accuracy: 0.7244 - val_loss: 0.6209 - val_accuracy: 0.5897\n",
            "Epoch 6/30\n",
            "5/5 [==============================] - 0s 15ms/step - loss: 0.5462 - accuracy: 0.7308 - val_loss: 0.6081 - val_accuracy: 0.5897\n",
            "Epoch 7/30\n",
            "5/5 [==============================] - 0s 16ms/step - loss: 0.5282 - accuracy: 0.7564 - val_loss: 0.5937 - val_accuracy: 0.6410\n",
            "Epoch 8/30\n",
            "5/5 [==============================] - 0s 16ms/step - loss: 0.5130 - accuracy: 0.7756 - val_loss: 0.5795 - val_accuracy: 0.6410\n",
            "Epoch 9/30\n",
            "5/5 [==============================] - 0s 13ms/step - loss: 0.4978 - accuracy: 0.7821 - val_loss: 0.5652 - val_accuracy: 0.6923\n",
            "Epoch 10/30\n",
            "5/5 [==============================] - 0s 18ms/step - loss: 0.4836 - accuracy: 0.7949 - val_loss: 0.5497 - val_accuracy: 0.7179\n",
            "Epoch 11/30\n",
            "5/5 [==============================] - 0s 13ms/step - loss: 0.4702 - accuracy: 0.7821 - val_loss: 0.5353 - val_accuracy: 0.7179\n",
            "Epoch 12/30\n",
            "5/5 [==============================] - 0s 15ms/step - loss: 0.4565 - accuracy: 0.7756 - val_loss: 0.5227 - val_accuracy: 0.6667\n",
            "Epoch 13/30\n",
            "5/5 [==============================] - 0s 18ms/step - loss: 0.4445 - accuracy: 0.7756 - val_loss: 0.5096 - val_accuracy: 0.6667\n",
            "Epoch 14/30\n",
            "5/5 [==============================] - 0s 14ms/step - loss: 0.4318 - accuracy: 0.7821 - val_loss: 0.4970 - val_accuracy: 0.6923\n",
            "Epoch 15/30\n",
            "5/5 [==============================] - 0s 21ms/step - loss: 0.4205 - accuracy: 0.7949 - val_loss: 0.4849 - val_accuracy: 0.7436\n",
            "Epoch 16/30\n",
            "5/5 [==============================] - 0s 14ms/step - loss: 0.4090 - accuracy: 0.8141 - val_loss: 0.4739 - val_accuracy: 0.7436\n",
            "Epoch 17/30\n",
            "5/5 [==============================] - 0s 15ms/step - loss: 0.3980 - accuracy: 0.8141 - val_loss: 0.4635 - val_accuracy: 0.7692\n",
            "Epoch 18/30\n",
            "5/5 [==============================] - 0s 15ms/step - loss: 0.3880 - accuracy: 0.8333 - val_loss: 0.4532 - val_accuracy: 0.7949\n",
            "Epoch 19/30\n",
            "5/5 [==============================] - 0s 18ms/step - loss: 0.3783 - accuracy: 0.8333 - val_loss: 0.4433 - val_accuracy: 0.7949\n",
            "Epoch 20/30\n",
            "5/5 [==============================] - 0s 20ms/step - loss: 0.3683 - accuracy: 0.8526 - val_loss: 0.4349 - val_accuracy: 0.8205\n",
            "Epoch 21/30\n",
            "5/5 [==============================] - 0s 18ms/step - loss: 0.3593 - accuracy: 0.8590 - val_loss: 0.4280 - val_accuracy: 0.8205\n",
            "Epoch 22/30\n",
            "5/5 [==============================] - 0s 14ms/step - loss: 0.3503 - accuracy: 0.8782 - val_loss: 0.4207 - val_accuracy: 0.8205\n",
            "Epoch 23/30\n",
            "5/5 [==============================] - 0s 18ms/step - loss: 0.3425 - accuracy: 0.8782 - val_loss: 0.4136 - val_accuracy: 0.8462\n",
            "Epoch 24/30\n",
            "5/5 [==============================] - 0s 14ms/step - loss: 0.3343 - accuracy: 0.8846 - val_loss: 0.4070 - val_accuracy: 0.8462\n",
            "Epoch 25/30\n",
            "5/5 [==============================] - 0s 13ms/step - loss: 0.3269 - accuracy: 0.8910 - val_loss: 0.4018 - val_accuracy: 0.8462\n",
            "Epoch 26/30\n",
            "5/5 [==============================] - 0s 13ms/step - loss: 0.3202 - accuracy: 0.8910 - val_loss: 0.3966 - val_accuracy: 0.8462\n",
            "Epoch 27/30\n",
            "5/5 [==============================] - 0s 13ms/step - loss: 0.3125 - accuracy: 0.8974 - val_loss: 0.3924 - val_accuracy: 0.8462\n",
            "Epoch 28/30\n",
            "5/5 [==============================] - 0s 19ms/step - loss: 0.3064 - accuracy: 0.9038 - val_loss: 0.3884 - val_accuracy: 0.8462\n",
            "Epoch 29/30\n",
            "5/5 [==============================] - 0s 13ms/step - loss: 0.2999 - accuracy: 0.9038 - val_loss: 0.3848 - val_accuracy: 0.8462\n",
            "Epoch 30/30\n",
            "5/5 [==============================] - 0s 12ms/step - loss: 0.2942 - accuracy: 0.9103 - val_loss: 0.3810 - val_accuracy: 0.8462\n"
          ]
        }
      ]
    },
    {
      "cell_type": "code",
      "source": [
        "test_loss_RNN, test_accuracy_RNN = model_RNN.evaluate(X_test_RNN, Y_test)\n",
        "print(f\"Test Accuracy: {test_accuracy_RNN * 100:.2f}%\")"
      ],
      "metadata": {
        "id": "DpREfbwtDFvq",
        "colab": {
          "base_uri": "https://localhost:8080/"
        },
        "outputId": "62ec41fa-a9a5-48fb-a769-cbd016207d4a"
      },
      "execution_count": null,
      "outputs": [
        {
          "output_type": "stream",
          "name": "stdout",
          "text": [
            "2/2 [==============================] - 0s 9ms/step - loss: 0.3810 - accuracy: 0.8462\n",
            "Test Accuracy: 84.62%\n"
          ]
        }
      ]
    },
    {
      "cell_type": "markdown",
      "source": [
        " CNN model"
      ],
      "metadata": {
        "id": "6-LzaoMQJ3iO"
      }
    },
    {
      "cell_type": "code",
      "source": [
        "# Reshape the data for 1D CNN (assuming X_train and X_test are 2D arrays)\n",
        "X_train_CNN = X_train.reshape((X_train.shape[0], X_train.shape[1], 1))\n",
        "X_test_CNN = X_test.reshape((X_test.shape[0], X_test.shape[1], 1))\n",
        "\n",
        "# Create a Sequential model\n",
        "model_CNN = Sequential()\n",
        "\n",
        "# Add a 1D Convolutional layer\n",
        "model_CNN.add(Conv1D(filters=32, kernel_size=3, activation='relu', input_shape=(X_train_CNN.shape[1], X_train_CNN.shape[2])))\n",
        "\n",
        "# Add a MaxPooling layer\n",
        "model_CNN.add(MaxPooling1D(pool_size=2))\n",
        "\n",
        "# Flatten the output before feeding to dense layers\n",
        "model_CNN.add(Flatten())\n",
        "\n",
        "# Add a Dense layer\n",
        "model_CNN.add(Dense(64, activation='relu'))\n",
        "\n",
        "# Add the output layer\n",
        "model_CNN.add(Dense(1, activation='sigmoid'))\n",
        "\n",
        "# Compile the model\n",
        "model_CNN.compile(optimizer='adam', loss='binary_crossentropy', metrics=['accuracy'])\n",
        "\n",
        "# Train the model\n",
        "history = model_CNN.fit(X_train_CNN, Y_train, epochs=30, batch_size=32, validation_data=(X_test_CNN, Y_test), verbose=1)\n"
      ],
      "metadata": {
        "id": "lnPKSP-zJ21X",
        "colab": {
          "base_uri": "https://localhost:8080/"
        },
        "outputId": "809db394-0919-44af-fa9f-083a5b1dd4da"
      },
      "execution_count": null,
      "outputs": [
        {
          "output_type": "stream",
          "name": "stdout",
          "text": [
            "Epoch 1/30\n",
            "5/5 [==============================] - 1s 64ms/step - loss: 0.6500 - accuracy: 0.6282 - val_loss: 0.5595 - val_accuracy: 0.7949\n",
            "Epoch 2/30\n",
            "5/5 [==============================] - 0s 18ms/step - loss: 0.5063 - accuracy: 0.7692 - val_loss: 0.4869 - val_accuracy: 0.8462\n",
            "Epoch 3/30\n",
            "5/5 [==============================] - 0s 16ms/step - loss: 0.4333 - accuracy: 0.8269 - val_loss: 0.4480 - val_accuracy: 0.8462\n",
            "Epoch 4/30\n",
            "5/5 [==============================] - 0s 16ms/step - loss: 0.3913 - accuracy: 0.8526 - val_loss: 0.4297 - val_accuracy: 0.8462\n",
            "Epoch 5/30\n",
            "5/5 [==============================] - 0s 11ms/step - loss: 0.3569 - accuracy: 0.8526 - val_loss: 0.4108 - val_accuracy: 0.8462\n",
            "Epoch 6/30\n",
            "5/5 [==============================] - 0s 15ms/step - loss: 0.3358 - accuracy: 0.8654 - val_loss: 0.3914 - val_accuracy: 0.8462\n",
            "Epoch 7/30\n",
            "5/5 [==============================] - 0s 15ms/step - loss: 0.3192 - accuracy: 0.8654 - val_loss: 0.3842 - val_accuracy: 0.8462\n",
            "Epoch 8/30\n",
            "5/5 [==============================] - 0s 17ms/step - loss: 0.3048 - accuracy: 0.8654 - val_loss: 0.3737 - val_accuracy: 0.8462\n",
            "Epoch 9/30\n",
            "5/5 [==============================] - 0s 11ms/step - loss: 0.2932 - accuracy: 0.8654 - val_loss: 0.3650 - val_accuracy: 0.8205\n",
            "Epoch 10/30\n",
            "5/5 [==============================] - 0s 15ms/step - loss: 0.2834 - accuracy: 0.8654 - val_loss: 0.3648 - val_accuracy: 0.8205\n",
            "Epoch 11/30\n",
            "5/5 [==============================] - 0s 12ms/step - loss: 0.2725 - accuracy: 0.8718 - val_loss: 0.3616 - val_accuracy: 0.7949\n",
            "Epoch 12/30\n",
            "5/5 [==============================] - 0s 15ms/step - loss: 0.2633 - accuracy: 0.8718 - val_loss: 0.3588 - val_accuracy: 0.7692\n",
            "Epoch 13/30\n",
            "5/5 [==============================] - 0s 12ms/step - loss: 0.2540 - accuracy: 0.8718 - val_loss: 0.3451 - val_accuracy: 0.8462\n",
            "Epoch 14/30\n",
            "5/5 [==============================] - 0s 11ms/step - loss: 0.2466 - accuracy: 0.8974 - val_loss: 0.3459 - val_accuracy: 0.8205\n",
            "Epoch 15/30\n",
            "5/5 [==============================] - 0s 15ms/step - loss: 0.2385 - accuracy: 0.8910 - val_loss: 0.3561 - val_accuracy: 0.8205\n",
            "Epoch 16/30\n",
            "5/5 [==============================] - 0s 16ms/step - loss: 0.2316 - accuracy: 0.8974 - val_loss: 0.3429 - val_accuracy: 0.8205\n",
            "Epoch 17/30\n",
            "5/5 [==============================] - 0s 17ms/step - loss: 0.2220 - accuracy: 0.8974 - val_loss: 0.3458 - val_accuracy: 0.8205\n",
            "Epoch 18/30\n",
            "5/5 [==============================] - 0s 15ms/step - loss: 0.2146 - accuracy: 0.8974 - val_loss: 0.3434 - val_accuracy: 0.7949\n",
            "Epoch 19/30\n",
            "5/5 [==============================] - 0s 12ms/step - loss: 0.2085 - accuracy: 0.9038 - val_loss: 0.3456 - val_accuracy: 0.7949\n",
            "Epoch 20/30\n",
            "5/5 [==============================] - 0s 15ms/step - loss: 0.2029 - accuracy: 0.8974 - val_loss: 0.3436 - val_accuracy: 0.7949\n",
            "Epoch 21/30\n",
            "5/5 [==============================] - 0s 11ms/step - loss: 0.1990 - accuracy: 0.9038 - val_loss: 0.3454 - val_accuracy: 0.7949\n",
            "Epoch 22/30\n",
            "5/5 [==============================] - 0s 11ms/step - loss: 0.1908 - accuracy: 0.9103 - val_loss: 0.3280 - val_accuracy: 0.8205\n",
            "Epoch 23/30\n",
            "5/5 [==============================] - 0s 11ms/step - loss: 0.1848 - accuracy: 0.9231 - val_loss: 0.3362 - val_accuracy: 0.7949\n",
            "Epoch 24/30\n",
            "5/5 [==============================] - 0s 15ms/step - loss: 0.1788 - accuracy: 0.9231 - val_loss: 0.3426 - val_accuracy: 0.7949\n",
            "Epoch 25/30\n",
            "5/5 [==============================] - 0s 11ms/step - loss: 0.1770 - accuracy: 0.9231 - val_loss: 0.3509 - val_accuracy: 0.7692\n",
            "Epoch 26/30\n",
            "5/5 [==============================] - 0s 12ms/step - loss: 0.1767 - accuracy: 0.9295 - val_loss: 0.3247 - val_accuracy: 0.7949\n",
            "Epoch 27/30\n",
            "5/5 [==============================] - 0s 10ms/step - loss: 0.1654 - accuracy: 0.9295 - val_loss: 0.3404 - val_accuracy: 0.7949\n",
            "Epoch 28/30\n",
            "5/5 [==============================] - 0s 15ms/step - loss: 0.1618 - accuracy: 0.9231 - val_loss: 0.3503 - val_accuracy: 0.7692\n",
            "Epoch 29/30\n",
            "5/5 [==============================] - 0s 15ms/step - loss: 0.1576 - accuracy: 0.9295 - val_loss: 0.3420 - val_accuracy: 0.7692\n",
            "Epoch 30/30\n",
            "5/5 [==============================] - 0s 11ms/step - loss: 0.1535 - accuracy: 0.9231 - val_loss: 0.3262 - val_accuracy: 0.7949\n"
          ]
        }
      ]
    },
    {
      "cell_type": "code",
      "source": [
        "test_loss_CNN, test_accuracy_CNN = model_CNN.evaluate(X_test_CNN, Y_test)\n",
        "print(f\"Test Accuracy: {test_accuracy_CNN * 100:.2f}%\")"
      ],
      "metadata": {
        "id": "322vS-xUNitk",
        "colab": {
          "base_uri": "https://localhost:8080/"
        },
        "outputId": "e726adc2-390b-4a7d-b54d-72733d4230f2"
      },
      "execution_count": null,
      "outputs": [
        {
          "output_type": "stream",
          "name": "stdout",
          "text": [
            "2/2 [==============================] - 0s 7ms/step - loss: 0.3262 - accuracy: 0.7949\n",
            "Test Accuracy: 79.49%\n"
          ]
        }
      ]
    },
    {
      "cell_type": "code",
      "source": [
        "# Reshape the data for 1D CNN (assuming X_train and X_test are 2D arrays)\n",
        "X_train_CNN = X_train.reshape((X_train.shape[0], X_train.shape[1], 1))\n",
        "X_test_CNN = X_test.reshape((X_test.shape[0], X_test.shape[1], 1))\n",
        "\n",
        "# Create a Sequential model\n",
        "model_CNN = Sequential()\n",
        "\n",
        "# Add a 1D Convolutional layer\n",
        "model_CNN.add(Conv1D(filters=32, kernel_size=3, activation='relu', input_shape=(X_train_CNN.shape[1], X_train_CNN.shape[2])))\n",
        "model_CNN.add(Dropout(0.5))\n",
        "# Add a MaxPooling layer\n",
        "model_CNN.add(MaxPooling1D(pool_size=2))\n",
        "\n",
        "# Flatten the output before feeding to dense layers\n",
        "model_CNN.add(Flatten())\n",
        "\n",
        "# Add a Dense layer\n",
        "model_CNN.add(Dense(64, activation='relu'))\n",
        "\n",
        "# Add the output layer\n",
        "model_CNN.add(Dense(1, activation='sigmoid'))\n",
        "\n",
        "\n",
        "# Compile the model\n",
        "model_CNN.compile(optimizer='adam', loss='binary_crossentropy', metrics=['accuracy'])\n",
        "\n",
        "# Train the model\n",
        "history = model_CNN.fit(X_train_CNN, Y_train, epochs=30, batch_size=32, validation_data=(X_test_CNN, Y_test), verbose=1)\n"
      ],
      "metadata": {
        "id": "shIb-peXDPaC",
        "colab": {
          "base_uri": "https://localhost:8080/"
        },
        "outputId": "deb69e20-5327-4595-cd24-4cd2f76d774f"
      },
      "execution_count": null,
      "outputs": [
        {
          "output_type": "stream",
          "name": "stdout",
          "text": [
            "Epoch 1/30\n",
            "5/5 [==============================] - 1s 70ms/step - loss: 0.6080 - accuracy: 0.6731 - val_loss: 0.5803 - val_accuracy: 0.7949\n",
            "Epoch 2/30\n",
            "5/5 [==============================] - 0s 16ms/step - loss: 0.5060 - accuracy: 0.7628 - val_loss: 0.5097 - val_accuracy: 0.8462\n",
            "Epoch 3/30\n",
            "5/5 [==============================] - 0s 17ms/step - loss: 0.4586 - accuracy: 0.7756 - val_loss: 0.4738 - val_accuracy: 0.8205\n",
            "Epoch 4/30\n",
            "5/5 [==============================] - 0s 17ms/step - loss: 0.3957 - accuracy: 0.8333 - val_loss: 0.4444 - val_accuracy: 0.8205\n",
            "Epoch 5/30\n",
            "5/5 [==============================] - 0s 18ms/step - loss: 0.3808 - accuracy: 0.8397 - val_loss: 0.4231 - val_accuracy: 0.8205\n",
            "Epoch 6/30\n",
            "5/5 [==============================] - 0s 22ms/step - loss: 0.3551 - accuracy: 0.8333 - val_loss: 0.4048 - val_accuracy: 0.8462\n",
            "Epoch 7/30\n",
            "5/5 [==============================] - 0s 21ms/step - loss: 0.3318 - accuracy: 0.8718 - val_loss: 0.3928 - val_accuracy: 0.8462\n",
            "Epoch 8/30\n",
            "5/5 [==============================] - 0s 23ms/step - loss: 0.3338 - accuracy: 0.8590 - val_loss: 0.3870 - val_accuracy: 0.8205\n",
            "Epoch 9/30\n",
            "5/5 [==============================] - 0s 34ms/step - loss: 0.3192 - accuracy: 0.8526 - val_loss: 0.3794 - val_accuracy: 0.8462\n",
            "Epoch 10/30\n",
            "5/5 [==============================] - 0s 21ms/step - loss: 0.3140 - accuracy: 0.8590 - val_loss: 0.3694 - val_accuracy: 0.8718\n",
            "Epoch 11/30\n",
            "5/5 [==============================] - 0s 19ms/step - loss: 0.2965 - accuracy: 0.8654 - val_loss: 0.3639 - val_accuracy: 0.8718\n",
            "Epoch 12/30\n",
            "5/5 [==============================] - 0s 20ms/step - loss: 0.2939 - accuracy: 0.8462 - val_loss: 0.3549 - val_accuracy: 0.8718\n",
            "Epoch 13/30\n",
            "5/5 [==============================] - 0s 18ms/step - loss: 0.2838 - accuracy: 0.8974 - val_loss: 0.3516 - val_accuracy: 0.8718\n",
            "Epoch 14/30\n",
            "5/5 [==============================] - 0s 18ms/step - loss: 0.2846 - accuracy: 0.8526 - val_loss: 0.3514 - val_accuracy: 0.8462\n",
            "Epoch 15/30\n",
            "5/5 [==============================] - 0s 19ms/step - loss: 0.2626 - accuracy: 0.8846 - val_loss: 0.3532 - val_accuracy: 0.7949\n",
            "Epoch 16/30\n",
            "5/5 [==============================] - 0s 25ms/step - loss: 0.2818 - accuracy: 0.8462 - val_loss: 0.3488 - val_accuracy: 0.7949\n",
            "Epoch 17/30\n",
            "5/5 [==============================] - 0s 17ms/step - loss: 0.2494 - accuracy: 0.8846 - val_loss: 0.3393 - val_accuracy: 0.8205\n",
            "Epoch 18/30\n",
            "5/5 [==============================] - 0s 18ms/step - loss: 0.2459 - accuracy: 0.9167 - val_loss: 0.3302 - val_accuracy: 0.8718\n",
            "Epoch 19/30\n",
            "5/5 [==============================] - 0s 19ms/step - loss: 0.2628 - accuracy: 0.8910 - val_loss: 0.3318 - val_accuracy: 0.8205\n",
            "Epoch 20/30\n",
            "5/5 [==============================] - 0s 25ms/step - loss: 0.2608 - accuracy: 0.8718 - val_loss: 0.3384 - val_accuracy: 0.7692\n",
            "Epoch 21/30\n",
            "5/5 [==============================] - 0s 21ms/step - loss: 0.2240 - accuracy: 0.9167 - val_loss: 0.3338 - val_accuracy: 0.7436\n",
            "Epoch 22/30\n",
            "5/5 [==============================] - 0s 24ms/step - loss: 0.2287 - accuracy: 0.9103 - val_loss: 0.3303 - val_accuracy: 0.7436\n",
            "Epoch 23/30\n",
            "5/5 [==============================] - 0s 17ms/step - loss: 0.2184 - accuracy: 0.9038 - val_loss: 0.3238 - val_accuracy: 0.7692\n",
            "Epoch 24/30\n",
            "5/5 [==============================] - 0s 17ms/step - loss: 0.2097 - accuracy: 0.9103 - val_loss: 0.3196 - val_accuracy: 0.8205\n",
            "Epoch 25/30\n",
            "5/5 [==============================] - 0s 21ms/step - loss: 0.2344 - accuracy: 0.9038 - val_loss: 0.3229 - val_accuracy: 0.7436\n",
            "Epoch 26/30\n",
            "5/5 [==============================] - 0s 17ms/step - loss: 0.2188 - accuracy: 0.8846 - val_loss: 0.3170 - val_accuracy: 0.7949\n",
            "Epoch 27/30\n",
            "5/5 [==============================] - 0s 20ms/step - loss: 0.2234 - accuracy: 0.9167 - val_loss: 0.3190 - val_accuracy: 0.7692\n",
            "Epoch 28/30\n",
            "5/5 [==============================] - 0s 23ms/step - loss: 0.2110 - accuracy: 0.9231 - val_loss: 0.3229 - val_accuracy: 0.7949\n",
            "Epoch 29/30\n",
            "5/5 [==============================] - 0s 21ms/step - loss: 0.1922 - accuracy: 0.9167 - val_loss: 0.3239 - val_accuracy: 0.7949\n",
            "Epoch 30/30\n",
            "5/5 [==============================] - 0s 21ms/step - loss: 0.1975 - accuracy: 0.9103 - val_loss: 0.3201 - val_accuracy: 0.7949\n"
          ]
        }
      ]
    },
    {
      "cell_type": "code",
      "source": [
        "test_loss_CNN, test_accuracy_CNN = model_CNN.evaluate(X_test_CNN, Y_test)\n",
        "print(f\"Test Accuracy: {test_accuracy_CNN * 100:.2f}%\")"
      ],
      "metadata": {
        "id": "M7H4L-NKD9Va",
        "colab": {
          "base_uri": "https://localhost:8080/"
        },
        "outputId": "4396b1b5-2955-4414-b029-65381cf2200a"
      },
      "execution_count": null,
      "outputs": [
        {
          "output_type": "stream",
          "name": "stdout",
          "text": [
            "2/2 [==============================] - 0s 12ms/step - loss: 0.3201 - accuracy: 0.7949\n",
            "Test Accuracy: 79.49%\n"
          ]
        }
      ]
    },
    {
      "cell_type": "code",
      "source": [
        "# Create a DataFrame to display test accuracy scores for each model\n",
        "test_accuracy_NN_df = pd.DataFrame({\n",
        "    'Model': ['FFNN', 'RNN', 'CNN'],\n",
        "    'Test Accuracy': [test_accuracy_FFNN  * 100, test_accuracy_RNN * 100, test_accuracy_CNN * 100]\n",
        "})\n",
        "test_accuracy_NN_df"
      ],
      "metadata": {
        "id": "aBUTvvzDOtKp",
        "colab": {
          "base_uri": "https://localhost:8080/",
          "height": 143
        },
        "outputId": "38685387-941d-4104-e616-da18b4d0c6eb"
      },
      "execution_count": null,
      "outputs": [
        {
          "output_type": "execute_result",
          "data": {
            "text/plain": [
              "  Model  Test Accuracy\n",
              "0  FFNN      76.923078\n",
              "1   RNN      84.615386\n",
              "2   CNN      79.487181"
            ],
            "text/html": [
              "\n",
              "  <div id=\"df-02ea23e5-d587-42ea-a64d-c2fb97174291\" class=\"colab-df-container\">\n",
              "    <div>\n",
              "<style scoped>\n",
              "    .dataframe tbody tr th:only-of-type {\n",
              "        vertical-align: middle;\n",
              "    }\n",
              "\n",
              "    .dataframe tbody tr th {\n",
              "        vertical-align: top;\n",
              "    }\n",
              "\n",
              "    .dataframe thead th {\n",
              "        text-align: right;\n",
              "    }\n",
              "</style>\n",
              "<table border=\"1\" class=\"dataframe\">\n",
              "  <thead>\n",
              "    <tr style=\"text-align: right;\">\n",
              "      <th></th>\n",
              "      <th>Model</th>\n",
              "      <th>Test Accuracy</th>\n",
              "    </tr>\n",
              "  </thead>\n",
              "  <tbody>\n",
              "    <tr>\n",
              "      <th>0</th>\n",
              "      <td>FFNN</td>\n",
              "      <td>76.923078</td>\n",
              "    </tr>\n",
              "    <tr>\n",
              "      <th>1</th>\n",
              "      <td>RNN</td>\n",
              "      <td>84.615386</td>\n",
              "    </tr>\n",
              "    <tr>\n",
              "      <th>2</th>\n",
              "      <td>CNN</td>\n",
              "      <td>79.487181</td>\n",
              "    </tr>\n",
              "  </tbody>\n",
              "</table>\n",
              "</div>\n",
              "    <div class=\"colab-df-buttons\">\n",
              "\n",
              "  <div class=\"colab-df-container\">\n",
              "    <button class=\"colab-df-convert\" onclick=\"convertToInteractive('df-02ea23e5-d587-42ea-a64d-c2fb97174291')\"\n",
              "            title=\"Convert this dataframe to an interactive table.\"\n",
              "            style=\"display:none;\">\n",
              "\n",
              "  <svg xmlns=\"http://www.w3.org/2000/svg\" height=\"24px\" viewBox=\"0 -960 960 960\">\n",
              "    <path d=\"M120-120v-720h720v720H120Zm60-500h600v-160H180v160Zm220 220h160v-160H400v160Zm0 220h160v-160H400v160ZM180-400h160v-160H180v160Zm440 0h160v-160H620v160ZM180-180h160v-160H180v160Zm440 0h160v-160H620v160Z\"/>\n",
              "  </svg>\n",
              "    </button>\n",
              "\n",
              "  <style>\n",
              "    .colab-df-container {\n",
              "      display:flex;\n",
              "      gap: 12px;\n",
              "    }\n",
              "\n",
              "    .colab-df-convert {\n",
              "      background-color: #E8F0FE;\n",
              "      border: none;\n",
              "      border-radius: 50%;\n",
              "      cursor: pointer;\n",
              "      display: none;\n",
              "      fill: #1967D2;\n",
              "      height: 32px;\n",
              "      padding: 0 0 0 0;\n",
              "      width: 32px;\n",
              "    }\n",
              "\n",
              "    .colab-df-convert:hover {\n",
              "      background-color: #E2EBFA;\n",
              "      box-shadow: 0px 1px 2px rgba(60, 64, 67, 0.3), 0px 1px 3px 1px rgba(60, 64, 67, 0.15);\n",
              "      fill: #174EA6;\n",
              "    }\n",
              "\n",
              "    .colab-df-buttons div {\n",
              "      margin-bottom: 4px;\n",
              "    }\n",
              "\n",
              "    [theme=dark] .colab-df-convert {\n",
              "      background-color: #3B4455;\n",
              "      fill: #D2E3FC;\n",
              "    }\n",
              "\n",
              "    [theme=dark] .colab-df-convert:hover {\n",
              "      background-color: #434B5C;\n",
              "      box-shadow: 0px 1px 3px 1px rgba(0, 0, 0, 0.15);\n",
              "      filter: drop-shadow(0px 1px 2px rgba(0, 0, 0, 0.3));\n",
              "      fill: #FFFFFF;\n",
              "    }\n",
              "  </style>\n",
              "\n",
              "    <script>\n",
              "      const buttonEl =\n",
              "        document.querySelector('#df-02ea23e5-d587-42ea-a64d-c2fb97174291 button.colab-df-convert');\n",
              "      buttonEl.style.display =\n",
              "        google.colab.kernel.accessAllowed ? 'block' : 'none';\n",
              "\n",
              "      async function convertToInteractive(key) {\n",
              "        const element = document.querySelector('#df-02ea23e5-d587-42ea-a64d-c2fb97174291');\n",
              "        const dataTable =\n",
              "          await google.colab.kernel.invokeFunction('convertToInteractive',\n",
              "                                                    [key], {});\n",
              "        if (!dataTable) return;\n",
              "\n",
              "        const docLinkHtml = 'Like what you see? Visit the ' +\n",
              "          '<a target=\"_blank\" href=https://colab.research.google.com/notebooks/data_table.ipynb>data table notebook</a>'\n",
              "          + ' to learn more about interactive tables.';\n",
              "        element.innerHTML = '';\n",
              "        dataTable['output_type'] = 'display_data';\n",
              "        await google.colab.output.renderOutput(dataTable, element);\n",
              "        const docLink = document.createElement('div');\n",
              "        docLink.innerHTML = docLinkHtml;\n",
              "        element.appendChild(docLink);\n",
              "      }\n",
              "    </script>\n",
              "  </div>\n",
              "\n",
              "\n",
              "<div id=\"df-db5e5eb9-7383-4497-b810-5ff920823123\">\n",
              "  <button class=\"colab-df-quickchart\" onclick=\"quickchart('df-db5e5eb9-7383-4497-b810-5ff920823123')\"\n",
              "            title=\"Suggest charts\"\n",
              "            style=\"display:none;\">\n",
              "\n",
              "<svg xmlns=\"http://www.w3.org/2000/svg\" height=\"24px\"viewBox=\"0 0 24 24\"\n",
              "     width=\"24px\">\n",
              "    <g>\n",
              "        <path d=\"M19 3H5c-1.1 0-2 .9-2 2v14c0 1.1.9 2 2 2h14c1.1 0 2-.9 2-2V5c0-1.1-.9-2-2-2zM9 17H7v-7h2v7zm4 0h-2V7h2v10zm4 0h-2v-4h2v4z\"/>\n",
              "    </g>\n",
              "</svg>\n",
              "  </button>\n",
              "\n",
              "<style>\n",
              "  .colab-df-quickchart {\n",
              "      --bg-color: #E8F0FE;\n",
              "      --fill-color: #1967D2;\n",
              "      --hover-bg-color: #E2EBFA;\n",
              "      --hover-fill-color: #174EA6;\n",
              "      --disabled-fill-color: #AAA;\n",
              "      --disabled-bg-color: #DDD;\n",
              "  }\n",
              "\n",
              "  [theme=dark] .colab-df-quickchart {\n",
              "      --bg-color: #3B4455;\n",
              "      --fill-color: #D2E3FC;\n",
              "      --hover-bg-color: #434B5C;\n",
              "      --hover-fill-color: #FFFFFF;\n",
              "      --disabled-bg-color: #3B4455;\n",
              "      --disabled-fill-color: #666;\n",
              "  }\n",
              "\n",
              "  .colab-df-quickchart {\n",
              "    background-color: var(--bg-color);\n",
              "    border: none;\n",
              "    border-radius: 50%;\n",
              "    cursor: pointer;\n",
              "    display: none;\n",
              "    fill: var(--fill-color);\n",
              "    height: 32px;\n",
              "    padding: 0;\n",
              "    width: 32px;\n",
              "  }\n",
              "\n",
              "  .colab-df-quickchart:hover {\n",
              "    background-color: var(--hover-bg-color);\n",
              "    box-shadow: 0 1px 2px rgba(60, 64, 67, 0.3), 0 1px 3px 1px rgba(60, 64, 67, 0.15);\n",
              "    fill: var(--button-hover-fill-color);\n",
              "  }\n",
              "\n",
              "  .colab-df-quickchart-complete:disabled,\n",
              "  .colab-df-quickchart-complete:disabled:hover {\n",
              "    background-color: var(--disabled-bg-color);\n",
              "    fill: var(--disabled-fill-color);\n",
              "    box-shadow: none;\n",
              "  }\n",
              "\n",
              "  .colab-df-spinner {\n",
              "    border: 2px solid var(--fill-color);\n",
              "    border-color: transparent;\n",
              "    border-bottom-color: var(--fill-color);\n",
              "    animation:\n",
              "      spin 1s steps(1) infinite;\n",
              "  }\n",
              "\n",
              "  @keyframes spin {\n",
              "    0% {\n",
              "      border-color: transparent;\n",
              "      border-bottom-color: var(--fill-color);\n",
              "      border-left-color: var(--fill-color);\n",
              "    }\n",
              "    20% {\n",
              "      border-color: transparent;\n",
              "      border-left-color: var(--fill-color);\n",
              "      border-top-color: var(--fill-color);\n",
              "    }\n",
              "    30% {\n",
              "      border-color: transparent;\n",
              "      border-left-color: var(--fill-color);\n",
              "      border-top-color: var(--fill-color);\n",
              "      border-right-color: var(--fill-color);\n",
              "    }\n",
              "    40% {\n",
              "      border-color: transparent;\n",
              "      border-right-color: var(--fill-color);\n",
              "      border-top-color: var(--fill-color);\n",
              "    }\n",
              "    60% {\n",
              "      border-color: transparent;\n",
              "      border-right-color: var(--fill-color);\n",
              "    }\n",
              "    80% {\n",
              "      border-color: transparent;\n",
              "      border-right-color: var(--fill-color);\n",
              "      border-bottom-color: var(--fill-color);\n",
              "    }\n",
              "    90% {\n",
              "      border-color: transparent;\n",
              "      border-bottom-color: var(--fill-color);\n",
              "    }\n",
              "  }\n",
              "</style>\n",
              "\n",
              "  <script>\n",
              "    async function quickchart(key) {\n",
              "      const quickchartButtonEl =\n",
              "        document.querySelector('#' + key + ' button');\n",
              "      quickchartButtonEl.disabled = true;  // To prevent multiple clicks.\n",
              "      quickchartButtonEl.classList.add('colab-df-spinner');\n",
              "      try {\n",
              "        const charts = await google.colab.kernel.invokeFunction(\n",
              "            'suggestCharts', [key], {});\n",
              "      } catch (error) {\n",
              "        console.error('Error during call to suggestCharts:', error);\n",
              "      }\n",
              "      quickchartButtonEl.classList.remove('colab-df-spinner');\n",
              "      quickchartButtonEl.classList.add('colab-df-quickchart-complete');\n",
              "    }\n",
              "    (() => {\n",
              "      let quickchartButtonEl =\n",
              "        document.querySelector('#df-db5e5eb9-7383-4497-b810-5ff920823123 button');\n",
              "      quickchartButtonEl.style.display =\n",
              "        google.colab.kernel.accessAllowed ? 'block' : 'none';\n",
              "    })();\n",
              "  </script>\n",
              "</div>\n",
              "    </div>\n",
              "  </div>\n"
            ]
          },
          "metadata": {},
          "execution_count": 60
        }
      ]
    },
    {
      "cell_type": "code",
      "source": [
        "colors = ['g', 'm', 'c']  # Define colors for each model\n",
        "\n",
        "plt.figure(figsize=(12, 5))\n",
        "plt.title(\"Representing Accuracy of Different NN Models\")\n",
        "plt.xlabel(\"Algorithms \")\n",
        "plt.ylabel(\"Accuracy (%)\")\n",
        "plt.bar(test_accuracy_NN_df['Model'], test_accuracy_NN_df['Test Accuracy'], color=colors)\n",
        "plt.show()"
      ],
      "metadata": {
        "id": "SQjNDOSpPTII",
        "colab": {
          "base_uri": "https://localhost:8080/",
          "height": 487
        },
        "outputId": "0fc56052-633c-4fdc-95b3-7e81d4ba96fb"
      },
      "execution_count": null,
      "outputs": [
        {
          "output_type": "display_data",
          "data": {
            "text/plain": [
              "<Figure size 1200x500 with 1 Axes>"
            ],
            "image/png": "[encoded data removed]"
          },
          "metadata": {}
        }
      ]
    },
    {
      "cell_type": "code",
      "source": [
        "#predict pakinson disease function:\n",
        "def predict_parkinsons_status(features, model):\n",
        "    # Convert the input features into a numpy array\n",
        "    features_array = np.array(features).reshape(1, -1)  # Reshape into a 2D array\n",
        "\n",
        "    # Scale the input features using the previously fitted scaler\n",
        "    scaled_features = scaler.transform(features_array)\n",
        "\n",
        "    # Predict the Parkinson's status using the trained SVM model\n",
        "    prediction = model.predict(scaled_features)\n",
        "\n",
        "    # Interpret the prediction (1 or 0) to represent status (1: Parkinson's, 0: Healthy)\n",
        "    if prediction == 1:\n",
        "        return \"Parkinson's Disease Positive\"\n",
        "    else:\n",
        "        return \"Parkinson's Disease Negative\"\n"
      ],
      "metadata": {
        "id": "Ums9lz1zZftz"
      },
      "execution_count": null,
      "outputs": []
    },
    {
      "cell_type": "code",
      "source": [
        "features_data = parkinsons_data.drop(columns=['name', 'status'])\n",
        "input_data = (197.07600,206.89600,192.05500,0.00289,0.00001,0.00166,0.00168,0.00498,0.01098,0.09700,0.00563,0.00680,0.00802,0.01689,0.00339,26.77500,0.422229,0.741367,-7.348300,0.177551,1.743867,0.085569)\n",
        "prediction_result = predict_parkinsons_status(input_data,model_CNN)\n",
        "print(\"Prediction:\", prediction_result)\n",
        "# Determine the minimum and maximum values for each feature in the dataset\n",
        "feature_ranges = {}\n",
        "for column in features_data.columns:\n",
        "    min_val = features_data[column].min()\n",
        "    max_val = features_data[column].max()\n",
        "    feature_ranges[column] = (min_val, max_val)\n",
        "\n",
        "# Generate random values for all 22 features based on their ranges\n",
        "num_sets = 50\n",
        "\n",
        "\n",
        "for i in range(num_sets):\n",
        "    random_input = [rd.uniform(feature_ranges[column][0], feature_ranges[column][1]) for column in features_data.columns]\n",
        "    prediction_result = predict_parkinsons_status(random_input,model_CNN)\n",
        "    print(\"Prediction:\", prediction_result)"
      ],
      "metadata": {
        "id": "K3hlaTPvYzsb",
        "colab": {
          "base_uri": "https://localhost:8080/"
        },
        "outputId": "026ccab4-b247-4e70-e815-dee5038c0832"
      },
      "execution_count": null,
      "outputs": [
        {
          "output_type": "stream",
          "name": "stdout",
          "text": [
            "1/1 [==============================] - 0s 117ms/step\n"
          ]
        },
        {
          "output_type": "stream",
          "name": "stderr",
          "text": [
            "/usr/local/lib/python3.10/dist-packages/sklearn/base.py:439: UserWarning: X does not have valid feature names, but StandardScaler was fitted with feature names\n",
            "  warnings.warn(\n",
            "/usr/local/lib/python3.10/dist-packages/sklearn/base.py:439: UserWarning: X does not have valid feature names, but StandardScaler was fitted with feature names\n",
            "  warnings.warn(\n"
          ]
        },
        {
          "output_type": "stream",
          "name": "stdout",
          "text": [
            "Prediction: Parkinson's Disease Negative\n",
            "1/1 [==============================] - 0s 25ms/step\n",
            "Prediction: Parkinson's Disease Negative\n",
            "1/1 [==============================] - 0s 33ms/step\n",
            "Prediction: Parkinson's Disease Negative\n",
            "1/1 [==============================] - 0s 23ms/step\n",
            "Prediction: Parkinson's Disease Negative\n"
          ]
        },
        {
          "output_type": "stream",
          "name": "stderr",
          "text": [
            "/usr/local/lib/python3.10/dist-packages/sklearn/base.py:439: UserWarning: X does not have valid feature names, but StandardScaler was fitted with feature names\n",
            "  warnings.warn(\n",
            "/usr/local/lib/python3.10/dist-packages/sklearn/base.py:439: UserWarning: X does not have valid feature names, but StandardScaler was fitted with feature names\n",
            "  warnings.warn(\n",
            "/usr/local/lib/python3.10/dist-packages/sklearn/base.py:439: UserWarning: X does not have valid feature names, but StandardScaler was fitted with feature names\n",
            "  warnings.warn(\n"
          ]
        },
        {
          "output_type": "stream",
          "name": "stdout",
          "text": [
            "1/1 [==============================] - 0s 21ms/step\n",
            "Prediction: Parkinson's Disease Negative\n",
            "1/1 [==============================] - 0s 21ms/step\n",
            "Prediction: Parkinson's Disease Negative\n",
            "1/1 [==============================] - 0s 26ms/step\n",
            "Prediction: Parkinson's Disease Negative\n"
          ]
        },
        {
          "output_type": "stream",
          "name": "stderr",
          "text": [
            "/usr/local/lib/python3.10/dist-packages/sklearn/base.py:439: UserWarning: X does not have valid feature names, but StandardScaler was fitted with feature names\n",
            "  warnings.warn(\n",
            "/usr/local/lib/python3.10/dist-packages/sklearn/base.py:439: UserWarning: X does not have valid feature names, but StandardScaler was fitted with feature names\n",
            "  warnings.warn(\n",
            "/usr/local/lib/python3.10/dist-packages/sklearn/base.py:439: UserWarning: X does not have valid feature names, but StandardScaler was fitted with feature names\n",
            "  warnings.warn(\n"
          ]
        },
        {
          "output_type": "stream",
          "name": "stdout",
          "text": [
            "1/1 [==============================] - 0s 20ms/step\n",
            "Prediction: Parkinson's Disease Negative\n",
            "1/1 [==============================] - 0s 24ms/step\n",
            "Prediction: Parkinson's Disease Negative\n",
            "1/1 [==============================] - 0s 19ms/step\n",
            "Prediction: Parkinson's Disease Negative\n"
          ]
        },
        {
          "output_type": "stream",
          "name": "stderr",
          "text": [
            "/usr/local/lib/python3.10/dist-packages/sklearn/base.py:439: UserWarning: X does not have valid feature names, but StandardScaler was fitted with feature names\n",
            "  warnings.warn(\n",
            "/usr/local/lib/python3.10/dist-packages/sklearn/base.py:439: UserWarning: X does not have valid feature names, but StandardScaler was fitted with feature names\n",
            "  warnings.warn(\n",
            "/usr/local/lib/python3.10/dist-packages/sklearn/base.py:439: UserWarning: X does not have valid feature names, but StandardScaler was fitted with feature names\n",
            "  warnings.warn(\n"
          ]
        },
        {
          "output_type": "stream",
          "name": "stdout",
          "text": [
            "1/1 [==============================] - 0s 20ms/step\n",
            "Prediction: Parkinson's Disease Negative\n",
            "1/1 [==============================] - 0s 21ms/step\n",
            "Prediction: Parkinson's Disease Negative\n",
            "1/1 [==============================] - 0s 21ms/step\n",
            "Prediction: Parkinson's Disease Negative\n"
          ]
        },
        {
          "output_type": "stream",
          "name": "stderr",
          "text": [
            "/usr/local/lib/python3.10/dist-packages/sklearn/base.py:439: UserWarning: X does not have valid feature names, but StandardScaler was fitted with feature names\n",
            "  warnings.warn(\n",
            "/usr/local/lib/python3.10/dist-packages/sklearn/base.py:439: UserWarning: X does not have valid feature names, but StandardScaler was fitted with feature names\n",
            "  warnings.warn(\n",
            "/usr/local/lib/python3.10/dist-packages/sklearn/base.py:439: UserWarning: X does not have valid feature names, but StandardScaler was fitted with feature names\n",
            "  warnings.warn(\n"
          ]
        },
        {
          "output_type": "stream",
          "name": "stdout",
          "text": [
            "1/1 [==============================] - 0s 23ms/step\n",
            "Prediction: Parkinson's Disease Negative\n",
            "1/1 [==============================] - 0s 23ms/step\n",
            "Prediction: Parkinson's Disease Negative\n",
            "1/1 [==============================] - 0s 22ms/step\n",
            "Prediction: Parkinson's Disease Negative\n"
          ]
        },
        {
          "output_type": "stream",
          "name": "stderr",
          "text": [
            "/usr/local/lib/python3.10/dist-packages/sklearn/base.py:439: UserWarning: X does not have valid feature names, but StandardScaler was fitted with feature names\n",
            "  warnings.warn(\n",
            "/usr/local/lib/python3.10/dist-packages/sklearn/base.py:439: UserWarning: X does not have valid feature names, but StandardScaler was fitted with feature names\n",
            "  warnings.warn(\n",
            "/usr/local/lib/python3.10/dist-packages/sklearn/base.py:439: UserWarning: X does not have valid feature names, but StandardScaler was fitted with feature names\n",
            "  warnings.warn(\n"
          ]
        },
        {
          "output_type": "stream",
          "name": "stdout",
          "text": [
            "1/1 [==============================] - 0s 23ms/step\n",
            "Prediction: Parkinson's Disease Negative\n",
            "1/1 [==============================] - 0s 34ms/step\n",
            "Prediction: Parkinson's Disease Negative\n",
            "1/1 [==============================] - 0s 22ms/step\n",
            "Prediction: Parkinson's Disease Negative\n"
          ]
        },
        {
          "output_type": "stream",
          "name": "stderr",
          "text": [
            "/usr/local/lib/python3.10/dist-packages/sklearn/base.py:439: UserWarning: X does not have valid feature names, but StandardScaler was fitted with feature names\n",
            "  warnings.warn(\n",
            "/usr/local/lib/python3.10/dist-packages/sklearn/base.py:439: UserWarning: X does not have valid feature names, but StandardScaler was fitted with feature names\n",
            "  warnings.warn(\n",
            "/usr/local/lib/python3.10/dist-packages/sklearn/base.py:439: UserWarning: X does not have valid feature names, but StandardScaler was fitted with feature names\n",
            "  warnings.warn(\n"
          ]
        },
        {
          "output_type": "stream",
          "name": "stdout",
          "text": [
            "1/1 [==============================] - 0s 25ms/step\n",
            "Prediction: Parkinson's Disease Negative\n",
            "1/1 [==============================] - 0s 22ms/step\n",
            "Prediction: Parkinson's Disease Negative\n",
            "1/1 [==============================] - 0s 27ms/step\n",
            "Prediction: Parkinson's Disease Negative\n"
          ]
        },
        {
          "output_type": "stream",
          "name": "stderr",
          "text": [
            "/usr/local/lib/python3.10/dist-packages/sklearn/base.py:439: UserWarning: X does not have valid feature names, but StandardScaler was fitted with feature names\n",
            "  warnings.warn(\n",
            "/usr/local/lib/python3.10/dist-packages/sklearn/base.py:439: UserWarning: X does not have valid feature names, but StandardScaler was fitted with feature names\n",
            "  warnings.warn(\n",
            "/usr/local/lib/python3.10/dist-packages/sklearn/base.py:439: UserWarning: X does not have valid feature names, but StandardScaler was fitted with feature names\n",
            "  warnings.warn(\n"
          ]
        },
        {
          "output_type": "stream",
          "name": "stdout",
          "text": [
            "1/1 [==============================] - 0s 30ms/step\n",
            "Prediction: Parkinson's Disease Negative\n",
            "1/1 [==============================] - 0s 25ms/step\n",
            "Prediction: Parkinson's Disease Negative\n",
            "1/1 [==============================] - 0s 29ms/step\n",
            "Prediction: Parkinson's Disease Negative\n"
          ]
        },
        {
          "output_type": "stream",
          "name": "stderr",
          "text": [
            "/usr/local/lib/python3.10/dist-packages/sklearn/base.py:439: UserWarning: X does not have valid feature names, but StandardScaler was fitted with feature names\n",
            "  warnings.warn(\n",
            "/usr/local/lib/python3.10/dist-packages/sklearn/base.py:439: UserWarning: X does not have valid feature names, but StandardScaler was fitted with feature names\n",
            "  warnings.warn(\n",
            "/usr/local/lib/python3.10/dist-packages/sklearn/base.py:439: UserWarning: X does not have valid feature names, but StandardScaler was fitted with feature names\n",
            "  warnings.warn(\n"
          ]
        },
        {
          "output_type": "stream",
          "name": "stdout",
          "text": [
            "1/1 [==============================] - 0s 25ms/step\n",
            "Prediction: Parkinson's Disease Negative\n",
            "1/1 [==============================] - 0s 23ms/step\n",
            "Prediction: Parkinson's Disease Negative\n",
            "1/1 [==============================] - 0s 22ms/step\n",
            "Prediction: Parkinson's Disease Negative\n"
          ]
        },
        {
          "output_type": "stream",
          "name": "stderr",
          "text": [
            "/usr/local/lib/python3.10/dist-packages/sklearn/base.py:439: UserWarning: X does not have valid feature names, but StandardScaler was fitted with feature names\n",
            "  warnings.warn(\n",
            "/usr/local/lib/python3.10/dist-packages/sklearn/base.py:439: UserWarning: X does not have valid feature names, but StandardScaler was fitted with feature names\n",
            "  warnings.warn(\n",
            "/usr/local/lib/python3.10/dist-packages/sklearn/base.py:439: UserWarning: X does not have valid feature names, but StandardScaler was fitted with feature names\n",
            "  warnings.warn(\n"
          ]
        },
        {
          "output_type": "stream",
          "name": "stdout",
          "text": [
            "1/1 [==============================] - 0s 23ms/step\n",
            "Prediction: Parkinson's Disease Negative\n",
            "1/1 [==============================] - 0s 22ms/step\n",
            "Prediction: Parkinson's Disease Negative\n",
            "1/1 [==============================] - 0s 23ms/step\n",
            "Prediction: Parkinson's Disease Negative\n"
          ]
        },
        {
          "output_type": "stream",
          "name": "stderr",
          "text": [
            "/usr/local/lib/python3.10/dist-packages/sklearn/base.py:439: UserWarning: X does not have valid feature names, but StandardScaler was fitted with feature names\n",
            "  warnings.warn(\n",
            "/usr/local/lib/python3.10/dist-packages/sklearn/base.py:439: UserWarning: X does not have valid feature names, but StandardScaler was fitted with feature names\n",
            "  warnings.warn(\n",
            "/usr/local/lib/python3.10/dist-packages/sklearn/base.py:439: UserWarning: X does not have valid feature names, but StandardScaler was fitted with feature names\n",
            "  warnings.warn(\n"
          ]
        },
        {
          "output_type": "stream",
          "name": "stdout",
          "text": [
            "1/1 [==============================] - 0s 23ms/step\n",
            "Prediction: Parkinson's Disease Negative\n",
            "1/1 [==============================] - 0s 22ms/step\n",
            "Prediction: Parkinson's Disease Negative\n",
            "1/1 [==============================] - 0s 22ms/step\n",
            "Prediction: Parkinson's Disease Negative\n"
          ]
        },
        {
          "output_type": "stream",
          "name": "stderr",
          "text": [
            "/usr/local/lib/python3.10/dist-packages/sklearn/base.py:439: UserWarning: X does not have valid feature names, but StandardScaler was fitted with feature names\n",
            "  warnings.warn(\n",
            "/usr/local/lib/python3.10/dist-packages/sklearn/base.py:439: UserWarning: X does not have valid feature names, but StandardScaler was fitted with feature names\n",
            "  warnings.warn(\n",
            "/usr/local/lib/python3.10/dist-packages/sklearn/base.py:439: UserWarning: X does not have valid feature names, but StandardScaler was fitted with feature names\n",
            "  warnings.warn(\n"
          ]
        },
        {
          "output_type": "stream",
          "name": "stdout",
          "text": [
            "1/1 [==============================] - 0s 32ms/step\n",
            "Prediction: Parkinson's Disease Negative\n",
            "1/1 [==============================] - 0s 21ms/step\n",
            "Prediction: Parkinson's Disease Negative\n",
            "1/1 [==============================] - 0s 22ms/step\n",
            "Prediction: Parkinson's Disease Negative\n"
          ]
        },
        {
          "output_type": "stream",
          "name": "stderr",
          "text": [
            "/usr/local/lib/python3.10/dist-packages/sklearn/base.py:439: UserWarning: X does not have valid feature names, but StandardScaler was fitted with feature names\n",
            "  warnings.warn(\n",
            "/usr/local/lib/python3.10/dist-packages/sklearn/base.py:439: UserWarning: X does not have valid feature names, but StandardScaler was fitted with feature names\n",
            "  warnings.warn(\n",
            "/usr/local/lib/python3.10/dist-packages/sklearn/base.py:439: UserWarning: X does not have valid feature names, but StandardScaler was fitted with feature names\n",
            "  warnings.warn(\n"
          ]
        },
        {
          "output_type": "stream",
          "name": "stdout",
          "text": [
            "1/1 [==============================] - 0s 21ms/step\n",
            "Prediction: Parkinson's Disease Negative\n",
            "1/1 [==============================] - 0s 22ms/step\n",
            "Prediction: Parkinson's Disease Negative\n",
            "1/1 [==============================] - 0s 28ms/step\n",
            "Prediction: Parkinson's Disease Negative\n"
          ]
        },
        {
          "output_type": "stream",
          "name": "stderr",
          "text": [
            "/usr/local/lib/python3.10/dist-packages/sklearn/base.py:439: UserWarning: X does not have valid feature names, but StandardScaler was fitted with feature names\n",
            "  warnings.warn(\n",
            "/usr/local/lib/python3.10/dist-packages/sklearn/base.py:439: UserWarning: X does not have valid feature names, but StandardScaler was fitted with feature names\n",
            "  warnings.warn(\n",
            "/usr/local/lib/python3.10/dist-packages/sklearn/base.py:439: UserWarning: X does not have valid feature names, but StandardScaler was fitted with feature names\n",
            "  warnings.warn(\n"
          ]
        },
        {
          "output_type": "stream",
          "name": "stdout",
          "text": [
            "1/1 [==============================] - 0s 21ms/step\n",
            "Prediction: Parkinson's Disease Positive\n",
            "1/1 [==============================] - 0s 19ms/step\n",
            "Prediction: Parkinson's Disease Negative\n",
            "1/1 [==============================] - 0s 24ms/step\n",
            "Prediction: Parkinson's Disease Negative\n"
          ]
        },
        {
          "output_type": "stream",
          "name": "stderr",
          "text": [
            "/usr/local/lib/python3.10/dist-packages/sklearn/base.py:439: UserWarning: X does not have valid feature names, but StandardScaler was fitted with feature names\n",
            "  warnings.warn(\n",
            "/usr/local/lib/python3.10/dist-packages/sklearn/base.py:439: UserWarning: X does not have valid feature names, but StandardScaler was fitted with feature names\n",
            "  warnings.warn(\n",
            "/usr/local/lib/python3.10/dist-packages/sklearn/base.py:439: UserWarning: X does not have valid feature names, but StandardScaler was fitted with feature names\n",
            "  warnings.warn(\n"
          ]
        },
        {
          "output_type": "stream",
          "name": "stdout",
          "text": [
            "1/1 [==============================] - 0s 21ms/step\n",
            "Prediction: Parkinson's Disease Negative\n",
            "1/1 [==============================] - 0s 21ms/step\n",
            "Prediction: Parkinson's Disease Negative\n",
            "1/1 [==============================] - 0s 20ms/step\n",
            "Prediction: Parkinson's Disease Negative\n"
          ]
        },
        {
          "output_type": "stream",
          "name": "stderr",
          "text": [
            "/usr/local/lib/python3.10/dist-packages/sklearn/base.py:439: UserWarning: X does not have valid feature names, but StandardScaler was fitted with feature names\n",
            "  warnings.warn(\n",
            "/usr/local/lib/python3.10/dist-packages/sklearn/base.py:439: UserWarning: X does not have valid feature names, but StandardScaler was fitted with feature names\n",
            "  warnings.warn(\n",
            "/usr/local/lib/python3.10/dist-packages/sklearn/base.py:439: UserWarning: X does not have valid feature names, but StandardScaler was fitted with feature names\n",
            "  warnings.warn(\n"
          ]
        },
        {
          "output_type": "stream",
          "name": "stdout",
          "text": [
            "1/1 [==============================] - 0s 19ms/step\n",
            "Prediction: Parkinson's Disease Negative\n",
            "1/1 [==============================] - 0s 20ms/step\n",
            "Prediction: Parkinson's Disease Negative\n",
            "1/1 [==============================] - 0s 24ms/step\n",
            "Prediction: Parkinson's Disease Negative\n"
          ]
        },
        {
          "output_type": "stream",
          "name": "stderr",
          "text": [
            "/usr/local/lib/python3.10/dist-packages/sklearn/base.py:439: UserWarning: X does not have valid feature names, but StandardScaler was fitted with feature names\n",
            "  warnings.warn(\n",
            "/usr/local/lib/python3.10/dist-packages/sklearn/base.py:439: UserWarning: X does not have valid feature names, but StandardScaler was fitted with feature names\n",
            "  warnings.warn(\n",
            "/usr/local/lib/python3.10/dist-packages/sklearn/base.py:439: UserWarning: X does not have valid feature names, but StandardScaler was fitted with feature names\n",
            "  warnings.warn(\n"
          ]
        },
        {
          "output_type": "stream",
          "name": "stdout",
          "text": [
            "1/1 [==============================] - 0s 22ms/step\n",
            "Prediction: Parkinson's Disease Negative\n"
          ]
        },
        {
          "output_type": "stream",
          "name": "stderr",
          "text": [
            "/usr/local/lib/python3.10/dist-packages/sklearn/base.py:439: UserWarning: X does not have valid feature names, but StandardScaler was fitted with feature names\n",
            "  warnings.warn(\n"
          ]
        },
        {
          "output_type": "stream",
          "name": "stdout",
          "text": [
            "1/1 [==============================] - 0s 23ms/step\n",
            "Prediction: Parkinson's Disease Negative\n"
          ]
        }
      ]
    },
    {
      "cell_type": "code",
      "source": [
        "from sklearn.ensemble import StackingClassifier"
      ],
      "metadata": {
        "id": "oRDVK9ogzpxw"
      },
      "execution_count": null,
      "outputs": []
    }
  ]
}